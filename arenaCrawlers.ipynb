{
 "cells": [
  {
   "cell_type": "code",
   "execution_count": 18,
   "id": "d1fac3e0",
   "metadata": {
    "tags": []
   },
   "outputs": [],
   "source": [
    "%run ./ArenaToCSV.ipynb"
   ]
  },
  {
   "cell_type": "code",
   "execution_count": 11,
   "id": "3c2b7971-8141-4f66-b74a-d2d1b5b52be3",
   "metadata": {},
   "outputs": [],
   "source": [
    "placeholderSteps = 0\n",
    "# ---- GAME SETTINGS ---- #\n",
    "STARTERS = ['bulbasaur','charmander','squirtle']\n",
    "GENERATION = 'red-blue'\n",
    "GAMES=['red','blue']\n",
    "# ----  ---- #"
   ]
  },
  {
   "cell_type": "code",
   "execution_count": 7,
   "id": "917e005a",
   "metadata": {
    "tags": []
   },
   "outputs": [
    {
     "name": "stdout",
     "output_type": "stream",
     "text": [
      "CPU times: user 23.6 s, sys: 1.58 s, total: 25.2 s\n",
      "Wall time: 1min 36s\n"
     ]
    }
   ],
   "source": [
    "%%time\n",
    "# ---- ARENA-1 ---- #\n",
    "POSSIBLE_TM_ARENA1 = []\n",
    "POSSIBLE_VM_ARENA1 = []\n",
    "# ---- ARENA SETTINGS ---- #\n",
    "ARENA = 'arena-1'\n",
    "LOCATIONS_ARENA1 =  [{'name':'kanto-route-1', 'steps':31},\n",
    "              {'name':'kanto-route-2', 'steps':0},\n",
    "              {'name':'viridian-forest', 'steps':110},\n",
    "              {'name':'kanto-route-22', 'steps':placeholderSteps}]\n",
    "SPECIALPOKEMON_ARENA1 = []\n",
    "#leader\n",
    "_geodude = {'name': 'geodude', 'level': 12, 'moves':['tackle','defense-curl']}\n",
    "_onix = {'name': 'onix', 'level': 14, 'moves':['tackle','screech','bide','bind']}\n",
    "LEADER = ('brock', [_geodude,_onix])\n",
    "FISHING = False\n",
    "# ----- #\n",
    "# --- WRITE ALL GAMES TO CSV --- #\n",
    "for GAME in GAMES: \n",
    "    #parseArenaToCSV(LOCATIONS_ARENA1,GAME,GENERATION,STARTERS,LEADER,ARENA,FISHING,SPECIALPOKEMON_ARENA1)"
   ]
  },
  {
   "cell_type": "code",
   "execution_count": 4,
   "id": "1aebd995-614f-466e-9344-205c4d7efc9d",
   "metadata": {},
   "outputs": [
    {
     "name": "stdout",
     "output_type": "stream",
     "text": [
      "CPU times: user 6 µs, sys: 0 ns, total: 6 µs\n",
      "Wall time: 8.11 µs\n"
     ]
    }
   ],
   "source": [
    "%%time\n",
    "# ---- ARENA-2 ---- #\n",
    "POSSIBLE_TM_ARENA2 = POSSIBLE_TM_ARENA1 + ['TM11 Blubbstrahl','TM04 Wirbelwind','TM12 Aquaknarre','TM01 Megahieb','TM34 Geduld','TM25','TM45']\n",
    "POSSIBLE_VM_ARENA2 = POSSIBLE_VM_ARENA1 + []\n",
    "# ---- ARENA SETTINGS ---- #\n",
    "ARENA = 'arena-2'\n",
    "LOCATIONS_ARENA2 = LOCATIONS_ARENA1 + [\n",
    "              {'name':'kanto-route-3', 'steps':placeholderSteps},\n",
    "              {'name':'kanto-route-4', 'steps':placeholderSteps},\n",
    "              {'name':'kanto-route-24', 'steps':placeholderSteps},\n",
    "              {'name':'kanto-route-25', 'steps':placeholderSteps},\n",
    "              {'name':'kanto-route-11', 'steps':placeholderSteps},\n",
    "              {'name':'digletts-cave', 'steps':placeholderSteps}\n",
    "             ]\n",
    "SPECIALPOKEMON_ARENA2 = SPECIALPOKEMON_ARENA1 + ['kabuto','omanyte','magikarp','jynx']\n",
    "#leader\n",
    "staryu = {'name': 'staryu', 'level': 18, 'moves':['tackle','water-gun']}\n",
    "starmie = {'name': 'starmie', 'level': 21, 'moves':['tackle','water-gun','bubble-beam','harden']}\n",
    "LEADER = ('misty', [staryu,starmie])\n",
    "FISHING = False\n",
    "# ----- #\n",
    "# --- WRITE ALL GAMES TO CSV --- #\n",
    "for GAME in GAMES: \n",
    "    #parseArenaToCSV(LOCATIONS_ARENA2,GAME,GENERATION,STARTERS,LEADER,ARENA,FISHING,SPECIALPOKEMON_ARENA)"
   ]
  },
  {
   "cell_type": "code",
   "execution_count": 5,
   "id": "749f9be8-0dd7-4e25-b120-1e9527c638c9",
   "metadata": {},
   "outputs": [
    {
     "name": "stdout",
     "output_type": "stream",
     "text": [
      "CPU times: user 6 µs, sys: 0 ns, total: 6 µs\n",
      "Wall time: 9.3 µs\n"
     ]
    }
   ],
   "source": [
    "%%time\n",
    "# ---- ARENA-3 ---- #\n",
    "POSSIBLE_TM_ARENA3 = POSSIBLE_TM_ARENA2 + ['TM28 Schaufler','TM24 Donnerblitz','TM08 Bodyslam','TM44']\n",
    "POSSIBLE_VM_ARENA3 = POSSIBLE_VM_ARENA2 + ['VM01 Zerschneider','VM05 Blitz']\n",
    "# ---- ARENA SETTINGS ---- #\n",
    "ARENA = 'arena-3'\n",
    "LOCATIONS_ARENA3 = LOCATIONS_ARENA2 + [\n",
    "              {'name':'kanto-route-5', 'steps':placeholderSteps},\n",
    "              {'name':'kanto-route-6', 'steps':placeholderSteps},\n",
    "              {'name':'ss-anne', 'steps':placeholderSteps},\n",
    "             ]\n",
    "SPECIALPOKEMON_ARENA3 = SPECIALPOKEMON_ARENA2 + ['farfetchd','mr-mime']\n",
    "#leader\n",
    "voltorb = {'name': 'voltorb', 'level': 21, 'moves':['tackle','screech','sonic-boom']}\n",
    "pikachu = {'name': 'pikachu', 'level': 18, 'moves':['thunder-shock','growl','thunder-wave','quick-attack']}\n",
    "raichu = {'name': 'raichu', 'level': 24, 'moves':['thunder-shock','growl','thunderbolt']}\n",
    "LEADER = ('lt-surge', [voltorb,pikachu,raichu])\n",
    "FISHING = True\n",
    "# ----- #\n",
    "# --- WRITE ALL GAMES TO CSV --- #\n",
    "for GAME in GAMES: \n",
    "    #parseArenaToCSV(LOCATIONS_ARENA3,GAME,GENERATION,STARTERS,LEADER,ARENA,FISHING,SPECIALPOKEMON_ARENA3)"
   ]
  },
  {
   "cell_type": "code",
   "execution_count": 8,
   "id": "add80943-01f3-45fc-a579-931f30202507",
   "metadata": {},
   "outputs": [
    {
     "name": "stdout",
     "output_type": "stream",
     "text": [
      "CPU times: user 1min, sys: 4.3 s, total: 1min 5s\n",
      "Wall time: 4min 50s\n"
     ]
    }
   ],
   "source": [
    "%%time\n",
    "# ---- ARENA-4 ---- #\n",
    "POSSIBLE_TM_ARENA4 = POSSIBLE_TM_ARENA3 + ['TM30 Teleport','TM13 Eisstrahl','TM48 Steinhagel',\n",
    "                                           'TM49 Triplette','TM05 Megakick','TM01 Megahieb','TM17 Ueberroller',\n",
    "                                           'TM33 Reflektor','TM02 Klingensturm','TM07 Hornbohrer','TM18 Konter','TM10 Risikotackle','TM15 Hyperstrahl','TM41','TM50']\n",
    "POSSIBLE_VM_ARENA4= POSSIBLE_VM_ARENA3 + ['VM02 Fliegen']\n",
    "# ---- ARENA SETTINGS ---- #\n",
    "ARENA = 'arena-4'\n",
    "LOCATIONS_ARENA4 = LOCATIONS_ARENA3 + [\n",
    "              {'name':'kanto-route-9', 'steps':placeholderSteps},\n",
    "              {'name':'kanto-route-10', 'steps':placeholderSteps},\n",
    "              {'name':'rock-tunnel', 'steps':placeholderSteps},\n",
    "              {'name':'kanto-route-7', 'steps':placeholderSteps},\n",
    "              {'name':'kanto-route-8', 'steps':placeholderSteps},\n",
    "             ]\n",
    "SPECIALPOKEMON_ARENA4 = SPECIALPOKEMON_ARENA3 + ['eevee']\n",
    "#leader\n",
    "victreebel = {'name': 'victreebel', 'level': 29, 'moves':['razor-leaf','wrap','poison-powder','sleep-powder']}\n",
    "tangela = {'name': 'tangela', 'level': 24, 'moves':['constrict','bind']}\n",
    "vileplume = {'name': 'vileplume', 'level': 29, 'moves':['petal-dance','poison-powder','mega-drain','sleep-powder']}\n",
    "LEADER = ('erika', [victreebel,tangela,vileplume])\n",
    "FISHING = True\n",
    "# ----- #\n",
    "# --- WRITE ALL GAMES TO CSV --- #\n",
    "for GAME in GAMES: \n",
    "    #parseArenaToCSV(LOCATIONS_ARENA4,GAME,GENERATION,STARTERS,LEADER,ARENA,FISHING,SPECIALPOKEMON_ARENA4)"
   ]
  },
  {
   "cell_type": "code",
   "execution_count": 20,
   "id": "f2fabed7-a0fe-495d-8a3b-c487da476d3e",
   "metadata": {
    "tags": []
   },
   "outputs": [
    {
     "name": "stdout",
     "output_type": "stream",
     "text": [
      "CPU times: user 1min 26s, sys: 6.15 s, total: 1min 32s\n",
      "Wall time: 6min 11s\n"
     ]
    }
   ],
   "source": [
    "%%time\n",
    "# ---- ARENA-5 ---- #\n",
    "POSSIBLE_TM_ARENA5 = POSSIBLE_TM_ARENA4 + ['TM21 Megasauger','TM40 Schädelwumme','TM32 Doppelteam','TM37 Eierbombe','TM16','TM39','TM42']\n",
    "POSSIBLE_VM_ARENA5= POSSIBLE_VM_ARENA4 + ['VM03 Surfer', 'VM04 Stärke']\n",
    "# ---- SETTINGS ---- #\n",
    "ARENA = 'arena-5'\n",
    "LOCATIONS_ARENA5 = LOCATIONS_ARENA4 + [{'name':'pokemon-tower', 'steps':placeholderSteps},\n",
    "                                       {'name':'kanto-route-12', 'steps':placeholderSteps},\n",
    "                                       {'name':'kanto-route-13', 'steps':placeholderSteps},\n",
    "                                       {'name':'kanto-route-14', 'steps':placeholderSteps},\n",
    "                                       {'name':'kanto-route-15', 'steps':placeholderSteps},\n",
    "                                       {'name':'kanto-safari-zone', 'steps':placeholderSteps}\n",
    "                                      ]\n",
    "SPECIALPOKEMON_ARENA5 = SPECIALPOKEMON_ARENA4 + []\n",
    "#leader\n",
    "koffing = {'name': 'koffing', 'level': 37, 'moves':['tackle','smog','sludge','smokescreen']}\n",
    "muk = {'name': 'muk', 'level': 39, 'moves':['disable','poison-gas','minimize','sludge']}\n",
    "weezing = {'name': 'vileplume', 'level': 43, 'moves':['smog','sludge','toxic','self-destruct']}\n",
    "LEADER = ('koga', [koffing,muk,koffing,weezing])\n",
    "FISHING = True\n",
    "# ----- #\n",
    "# --- WRITE ALL GAMES TO CSV --- #\n",
    "for GAME in GAMES: \n",
    "    parseArenaToCSV(LOCATIONS_ARENA5,GAME,GENERATION,STARTERS,LEADER,ARENA,FISHING,SPECIALPOKEMON_ARENA5)"
   ]
  },
  {
   "cell_type": "code",
   "execution_count": 23,
   "id": "a274a4e2-6814-4e66-9c83-3db7684d83e1",
   "metadata": {
    "tags": []
   },
   "outputs": [
    {
     "name": "stdout",
     "output_type": "stream",
     "text": [
      "CPU times: user 1min 43s, sys: 7.16 s, total: 1min 50s\n",
      "Wall time: 7min 15s\n"
     ]
    }
   ],
   "source": [
    "%%time\n",
    "# ---- ARENA-6 ---- #\n",
    "POSSIBLE_TM_ARENA6 = POSSIBLE_TM_ARENA5 + ['TM06 Toxin','TM36 Finale','TM09 Bodycheck','TM03 Schwerttanz', 'TM26 Erdbeben' ]\n",
    "POSSIBLE_VM_ARENA6= POSSIBLE_VM_ARENA5 + []\n",
    "# ---- SETTINGS ---- #\n",
    "ARENA = 'arena-6'\n",
    "LOCATIONS_ARENA6 = LOCATIONS_ARENA5 + [\n",
    "    {'name':'seafoam-islands', 'steps':placeholderSteps},\n",
    "    {'name':'kanto-sea-route-19', 'steps':placeholderSteps},\n",
    "    {'name':'kanto-sea-route-20', 'steps':placeholderSteps},\n",
    "    {'name':'kanto-sea-route-21', 'steps':placeholderSteps},\n",
    "    {'name':'power-plant', 'steps':placeholderSteps},\n",
    "    {'name':'kanto-route-16', 'steps':placeholderSteps},\n",
    "    {'name':'kanto-route-17', 'steps':placeholderSteps},\n",
    "    {'name':'kanto-route-18', 'steps':placeholderSteps},\n",
    "                                            ]\n",
    "# IST ARKTOS,ZAPDOS DABEI ?\n",
    "SPECIALPOKEMON_ARENA6 = SPECIALPOKEMON_ARENA5 + ['lapras']\n",
    "#leader\n",
    "kadabra = {'name': 'kadabra', 'level': 38, 'moves':['disable','recover','psybeam','psychic']}\n",
    "mrMime = {'name': 'mr-mime', 'level': 37, 'moves':['confusion','barrier','light-screen','double-slap']}\n",
    "venomoth = {'name': 'venomoth', 'level': 38, 'moves':['poison-powder','leech-life','stun-spore','psybeam']}\n",
    "alakazam = {'name': 'alakazam', 'level': 43, 'moves':['psybeam','recover','psywave','reflect']}\n",
    "\n",
    "LEADER = ('sabrina', [kadabra,mrMime,venomoth,alakazam])\n",
    "FISHING = True\n",
    "# ----- #\n",
    "# --- WRITE ALL GAMES TO CSV --- #\n",
    "for GAME in GAMES: \n",
    "    parseArenaToCSV(LOCATIONS_ARENA6,GAME,GENERATION,STARTERS,LEADER,ARENA,FISHING,SPECIALPOKEMON_ARENA6)"
   ]
  },
  {
   "cell_type": "code",
   "execution_count": 24,
   "id": "0e9be077-b241-4a88-83e6-979299227800",
   "metadata": {},
   "outputs": [
    {
     "name": "stdout",
     "output_type": "stream",
     "text": [
      "CPU times: user 1min 35s, sys: 6.86 s, total: 1min 42s\n",
      "Wall time: 7min 10s\n"
     ]
    }
   ],
   "source": [
    "%%time\n",
    "# ---- ARENA-7 ---- #\n",
    "POSSIBLE_TM_ARENA7 = POSSIBLE_TM_ARENA6 + ['TM46 Psywelle','TM14 Blizzard','TM22 Solarstrahl','TM29','TM31','TM35']\n",
    "POSSIBLE_VM_ARENA7= POSSIBLE_VM_ARENA6 + []\n",
    "# ---- SETTINGS ---- #\n",
    "ARENA = 'arena-7'\n",
    "LOCATIONS_ARENA7 = LOCATIONS_ARENA6 + [\n",
    "    {'name':'cinnabar-island', 'steps':placeholderSteps},\n",
    "]\n",
    "SPECIALPOKEMON_ARENA7 = SPECIALPOKEMON_ARENA6 + []\n",
    "#leader\n",
    "growlithe = {'name': 'growlithe', 'level': 42, 'moves':['ember','leer','take-down','agility']}\n",
    "ponyta = {'name': 'ponyta', 'level': 40, 'moves':['tail-whip','stomp','growl','fire-spin']}\n",
    "rapidash = {'name': 'rapidash', 'level': 42, 'moves':['tail-whip','stomp','growl','fire-spin']}\n",
    "arcanine = {'name': 'arcanine', 'level': 47, 'moves':['roar','ember','fire-blast','take-down']}\n",
    "LEADER = ('blaine', [growlithe,ponyta,rapidash,arcanine])\n",
    "FISHING = True\n",
    "# ----- #\n",
    "# --- WRITE ALL GAMES TO CSV --- #\n",
    "for GAME in GAMES: \n",
    "    parseArenaToCSV(LOCATIONS_ARENA7,GAME,GENERATION,STARTERS,LEADER,ARENA,FISHING,SPECIALPOKEMON_ARENA7)"
   ]
  },
  {
   "cell_type": "code",
   "execution_count": 25,
   "id": "a2423cf1-e929-4552-a544-3e75dc02f493",
   "metadata": {},
   "outputs": [
    {
     "name": "stdout",
     "output_type": "stream",
     "text": [
      "CPU times: user 1min 40s, sys: 6.98 s, total: 1min 47s\n",
      "Wall time: 7min 31s\n"
     ]
    }
   ],
   "source": [
    "%%time\n",
    "# ---- ARENA-8 ---- #\n",
    "POSSIBLE_TM_ARENA8 = POSSIBLE_TM_ARENA7 + ['TM38 Feuersturm']\n",
    "POSSIBLE_VM_ARENA8= POSSIBLE_VM_ARENA7 + []\n",
    "# ---- SETTINGS ---- #\n",
    "ARENA = 'arena-8'\n",
    "LOCATIONS_ARENA8 = LOCATIONS_ARENA7 + []\n",
    "SPECIALPOKEMON_ARENA8 = SPECIALPOKEMON_ARENA7 + []\n",
    "#leader\n",
    "rhyhorn = {'name': 'rhyhorn', 'level': 45, 'moves':['stomp','tail-whip','fury-attack','horn-drill']}\n",
    "dugtrio = {'name': 'dugtrio', 'level': 42, 'moves':['growl','dig','sand-attack','slash']}\n",
    "nidoqueen = {'name': 'nidoqueen', 'level': 44, 'moves':['scratch','tail-whip','body-slam','poison-sting']}\n",
    "nidoking = {'name': 'nidoking', 'level': 45, 'moves':['tackle','horn-attack','poison-sting','thrash']}\n",
    "rhydon = {'name': 'rhydon', 'level': 50, 'moves':['stomp','tail-whip','fissure','horn-drill']}\n",
    "LEADER = ('giovanni', [rhyhorn,dugtrio,nidoqueen,nidoking,rhydon])\n",
    "FISHING = True\n",
    "# ----- #\n",
    "# --- WRITE ALL GAMES TO CSV --- #\n",
    "for GAME in GAMES: \n",
    "    parseArenaToCSV(LOCATIONS_ARENA8,GAME,GENERATION,STARTERS,LEADER,ARENA,FISHING,SPECIALPOKEMON_ARENA8)"
   ]
  },
  {
   "cell_type": "code",
   "execution_count": null,
   "id": "2ae9d9dc-dc54-4caa-a60f-cf8098500942",
   "metadata": {},
   "outputs": [],
   "source": [
    "%%time\n",
    "\n",
    "# TODO: TOP 4 ??\n",
    "# ---- ARENA-9 ---- #\n",
    "POSSIBLE_TM_ARENA9 = POSSIBLE_TM_ARENA8 + ['TM27','TM43','TM47']\n",
    "POSSIBLE_VM_ARENA9= POSSIBLE_VM_ARENA8 + []\n",
    "# ---- SETTINGS ---- #\n",
    "ARENA = 'arena-9'\n",
    "LOCATIONS_ARENA9 = LOCATIONS_ARENA8 + [\n",
    "    {'name':'kanto-route-22', 'steps':placeholderSteps},\n",
    "    {'name':'kanto-route-23', 'steps':placeholderSteps},\n",
    "    {'name':'kanto-victory-road-1', 'steps':placeholderSteps},\n",
    "   ]\n",
    "SPECIALPOKEMON_ARENA9 = SPECIALPOKEMON_ARENA8 + []\n",
    "#leader\n",
    "rhyhorn = {'name': 'rhyhorn', 'level': 45, 'moves':['stomp','tail-whip','fury-attack','horn-drill']}\n",
    "dugtrio = {'name': 'dugtrio', 'level': 42, 'moves':['growl','dig','sand-attack','slash']}\n",
    "nidoqueen = {'name': 'nidoqueen', 'level': 44, 'moves':['scratch','tail-whip','body-slam','poison-sting']}\n",
    "nidoking = {'name': 'nidoking', 'level': 45, 'moves':['tackle','horn-attack','poison-sting','thrash']}\n",
    "rhydon = {'name': 'rhydon', 'level': 50, 'moves':['stomp','tail-whip','fissure','horn-drill']}\n",
    "LEADER = ('giovanni', [rhyhorn,dugtrio,nidoqueen,nidoking,rhydon])\n",
    "FISHING = True\n",
    "# ----- #\n",
    "# --- WRITE ALL GAMES TO CSV --- #\n",
    "for GAME in GAMES: \n",
    "    #parseArenaToCSV(LOCATIONS_ARENA9,GAME,GENERATION,STARTERS,LEADER,ARENA,FISHING,SPECIALPOKEMON_ARENA9)"
   ]
  }
 ],
 "metadata": {
  "kernelspec": {
   "display_name": "Python 3.8.8 64-bit ('base': conda)",
   "language": "python",
   "name": "python388jvsc74a57bd045d6d7d53af0fd0bf88c7a08674bcc9ed373bd0cf6f76311c6d74ca621b7f474"
  },
  "language_info": {
   "codemirror_mode": {
    "name": "ipython",
    "version": 3
   },
   "file_extension": ".py",
   "mimetype": "text/x-python",
   "name": "python",
   "nbconvert_exporter": "python",
   "pygments_lexer": "ipython3",
   "version": "3.8.8"
  }
 },
 "nbformat": 4,
 "nbformat_minor": 5
}
