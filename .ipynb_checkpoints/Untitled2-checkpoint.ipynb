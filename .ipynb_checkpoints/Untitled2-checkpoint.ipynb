{
 "cells": [
  {
   "cell_type": "code",
   "execution_count": null,
   "id": "e34f2bba",
   "metadata": {},
   "outputs": [],
   "source": [
    "# VERSION GROUP 1 - RED, BLUE\n",
    "/version-goup/1/\n",
    "# REGION - KANTO\n",
    "/region/1/\n",
    "# POKEMON GENERATION - i / 1\n",
    "# hier findet man zb auch die moeglichen moves (165 items)\n",
    "/generation/1/\n",
    "# STARTER POKEMON: \n",
    "starters = ['bulbasaur','charmander','squirtle']\n",
    "# pokemon/1, pokemon/4, pokemon/7\n",
    "\n",
    "\n",
    "locationsUntilArena1 = ['kanto-route-1', 'kanto-route-2', 'viridian-forest']"
   ]
  },
  {
   "cell_type": "code",
   "execution_count": 2,
   "id": "2584e934",
   "metadata": {},
   "outputs": [],
   "source": [
    "import pokepy\n",
    "api = pokepy.V2Client()\n"
   ]
  },
  {
   "cell_type": "code",
   "execution_count": 35,
   "id": "60c207e3",
   "metadata": {},
   "outputs": [],
   "source": [
    "def fetchAreasToLocations(locationNames):\n",
    "    areas = []\n",
    "    for locationName in locationNames:\n",
    "        area = client.get_location_area(client.get_location(locationName)[0].areas[0].name)[0]\n",
    "        areas.append(area)\n",
    "    return areas"
   ]
  },
  {
   "cell_type": "code",
   "execution_count": 34,
   "id": "d4fb5aae",
   "metadata": {},
   "outputs": [
    {
     "data": {
      "text/plain": [
       "[<Location_Area - Kanto-route-1-area>]"
      ]
     },
     "execution_count": 34,
     "metadata": {},
     "output_type": "execute_result"
    }
   ],
   "source": [
    "pokemon = client.get_pokemon(14)[0]\n",
    "areas = fetchAreasToLocations(locationsUntilArena1)\n",
    "areaRoute1 "
   ]
  }
 ],
 "metadata": {
  "kernelspec": {
   "display_name": "Python 3.8.8 64-bit ('base': conda)",
   "language": "python",
   "name": "python388jvsc74a57bd045d6d7d53af0fd0bf88c7a08674bcc9ed373bd0cf6f76311c6d74ca621b7f474"
  },
  "language_info": {
   "codemirror_mode": {
    "name": "ipython",
    "version": 3
   },
   "file_extension": ".py",
   "mimetype": "text/x-python",
   "name": "python",
   "nbconvert_exporter": "python",
   "pygments_lexer": "ipython3",
   "version": "3.8.8"
  }
 },
 "nbformat": 4,
 "nbformat_minor": 5
}
