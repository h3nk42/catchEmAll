{
 "cells": [
  {
   "cell_type": "code",
   "execution_count": 196,
   "id": "43f3e41e",
   "metadata": {
    "scrolled": false
   },
   "outputs": [],
   "source": [
    "%run ./PokemonLib.ipynb"
   ]
  },
  {
   "cell_type": "code",
   "execution_count": 141,
   "id": "5baa3e1d",
   "metadata": {},
   "outputs": [],
   "source": [
    "# VERSION GROUP 1 - RED, BLUE\n",
    "# api source: /version-goup/1/\n",
    "\n",
    "# REGION - KANTO\n",
    "# api source: /region/1/\n",
    "\n",
    "# POKEMON GENERATION - i / 1\n",
    "# hier findet man zb auch die moeglichen moves (165 items)\n",
    "# api source: /generation/1/\n",
    "\n",
    "# STARTER POKEMON: \n",
    "starters = ['bulbasaur','charmander','squirtle']\n",
    "# pokemon/1, pokemon/4, pokemon/7\n",
    "\n",
    "# ARENALEITER: Brock\n",
    "# https://bulbapedia.bulbagarden.net/wiki/Brock\n",
    "brockPokemonTeam = [Pokemon('Geodude', 12, [POKETYPE.Normal, POKETYPE.Normal], [POKETYPE.Rock, POKETYPE.Ground])]\n",
    "brockPokemonTeam.append(Pokemon('Onix', 14, [POKETYPE.Normal, POKETYPE.Normal, POKETYPE.Normal], [POKETYPE.Rock, POKETYPE.Ground] ))\n",
    "locationsUntilArena1 =  ['kanto-route-1', 'kanto-route-2','viridian-forest'] \n"
   ]
  },
  {
   "cell_type": "code",
   "execution_count": 165,
   "id": "d63f76f5",
   "metadata": {},
   "outputs": [
    {
     "name": "stdout",
     "output_type": "stream",
     "text": [
      "<Area!\n",
      "kanto-route-1-area,\n",
      " steps:None,\n",
      " bChance:0.2,\n",
      " encounters:None\n",
      ">\n",
      "<Area!\n",
      "kanto-route-2-south-towards-viridian-city,\n",
      " steps:None,\n",
      " bChance:0.2,\n",
      " encounters:None\n",
      ">\n",
      "<Area!\n",
      "viridian-forest-area,\n",
      " steps:None,\n",
      " bChance:0.2,\n",
      " encounters:None\n",
      ">\n"
     ]
    }
   ],
   "source": [
    "## init Areas\n",
    "areasUntilArena1 = []\n",
    "for location in locationsUntilArena1:\n",
    "    areaTemp = fetchAreaToLocation(location)\n",
    "    area = Area(areaTemp['name'], 0.2, areaTemp )\n",
    "    areasUntilArena1.append(area)\n",
    "    print(area)"
   ]
  },
  {
   "cell_type": "code",
   "execution_count": 176,
   "id": "37a5b1f2",
   "metadata": {
    "scrolled": true
   },
   "outputs": [
    {
     "name": "stdout",
     "output_type": "stream",
     "text": [
      "<Area!\n",
      "kanto-route-1-area,\n",
      " steps:None,\n",
      " bChance:0.2,\n",
      " encounters:[('pidgey', 50), ('rattata', 50)]\n",
      ">\n",
      "<Area!\n",
      "kanto-route-2-south-towards-viridian-city,\n",
      " steps:None,\n",
      " bChance:0.2,\n",
      " encounters:[('caterpie', 15), ('weedle', 15), ('pidgey', 45), ('rattata', 40)]\n",
      ">\n",
      "<Area!\n",
      "viridian-forest-area,\n",
      " steps:None,\n",
      " bChance:0.2,\n",
      " encounters:[('caterpie', 45), ('metapod', 40), ('weedle', 5), ('kakuna', 5), ('pikachu', 5)]\n",
      ">\n"
     ]
    },
    {
     "data": {
      "text/plain": [
       "[('pidgey', 50), ('rattata', 50)]"
      ]
     },
     "execution_count": 176,
     "metadata": {},
     "output_type": "execute_result"
    }
   ],
   "source": [
    "## calculate encounterable Pokemons for each Area\n",
    "for area in areasUntilArena1:\n",
    "    area.encounterablePokemons = returnPokemonAndChanceFromArea(area.json ,['red','blue'])\n",
    "    print(area)\n",
    "areasUntilArena1[0].encounterablePokemons"
   ]
  },
  {
   "cell_type": "code",
   "execution_count": 177,
   "id": "bc19384a",
   "metadata": {},
   "outputs": [
    {
     "data": {
      "text/plain": [
       "[('pidgey', 50), ('rattata', 50)]"
      ]
     },
     "execution_count": 177,
     "metadata": {},
     "output_type": "execute_result"
    }
   ],
   "source": [
    "areasUntilArena1[0].encounterablePokemons"
   ]
  },
  {
   "cell_type": "code",
   "execution_count": 212,
   "id": "4d0426df",
   "metadata": {
    "scrolled": true
   },
   "outputs": [
    {
     "name": "stdout",
     "output_type": "stream",
     "text": [
      "<Pokemon!\n",
      "pidgey,\n",
      " lv:None,\n",
      " moves:[('gust', 'flying', 1), ('wing-attack', 'flying', 28), ('whirlwind', 'normal', 19), ('sand-attack', 'ground', 5), ('agility', 'psychic', 36), ('quick-attack', 'normal', 12), ('mirror-move', 'flying', 44)],\n",
      " types:['normal', 'flying']\n",
      ">\n",
      "<Pokemon!\n",
      "rattata,\n",
      " lv:None,\n",
      " moves:[('tackle', 'normal', 1), ('tail-whip', 'normal', 1), ('quick-attack', 'normal', 7), ('focus-energy', 'normal', 23), ('hyper-fang', 'normal', 14), ('super-fang', 'normal', 34)],\n",
      " types:['normal']\n",
      ">\n",
      "<Pokemon!\n",
      "caterpie,\n",
      " lv:None,\n",
      " moves:[('tackle', 'normal', 1), ('string-shot', 'bug', 1)],\n",
      " types:['bug']\n",
      ">\n",
      "<Pokemon!\n",
      "weedle,\n",
      " lv:None,\n",
      " moves:[('poison-sting', 'poison', 1), ('string-shot', 'bug', 1)],\n",
      " types:['bug', 'poison']\n",
      ">\n",
      "<Pokemon!\n",
      "metapod,\n",
      " lv:None,\n",
      " moves:[('harden', 'normal', 1)],\n",
      " types:['bug']\n",
      ">\n",
      "<Pokemon!\n",
      "kakuna,\n",
      " lv:None,\n",
      " moves:[('harden', 'normal', 1)],\n",
      " types:['bug', 'poison']\n",
      ">\n",
      "<Pokemon!\n",
      "pikachu,\n",
      " lv:None,\n",
      " moves:[('growl', 'normal', 1), ('thunder-shock', 'electric', 1), ('thunder-wave', 'electric', 9), ('thunder', 'electric', 43), ('agility', 'psychic', 33), ('quick-attack', 'normal', 16), ('swift', 'normal', 26)],\n",
      " types:['electric']\n",
      ">\n"
     ]
    }
   ],
   "source": [
    "pokemonSet = {}\n",
    "for area in areasUntilArena1:\n",
    "    for pokemon in area.encounterablePokemons:\n",
    "        if not pokemon[0] in pokemonSet:\n",
    "            name = pokemon[0]\n",
    "            moves = fetchPokemonMoves(name)\n",
    "            types = fetchPokemonType(name)\n",
    "            pokemonInstance = Pokemon(name, moves, types)\n",
    "            pokemonSet[name] = (pokemonInstance)\n",
    "            print(pokemonInstance)\n"
   ]
  }
 ],
 "metadata": {
  "kernelspec": {
   "display_name": "Python 3.8.8 64-bit ('base': conda)",
   "language": "python",
   "name": "python388jvsc74a57bd045d6d7d53af0fd0bf88c7a08674bcc9ed373bd0cf6f76311c6d74ca621b7f474"
  },
  "language_info": {
   "codemirror_mode": {
    "name": "ipython",
    "version": 3
   },
   "file_extension": ".py",
   "mimetype": "text/x-python",
   "name": "python",
   "nbconvert_exporter": "python",
   "pygments_lexer": "ipython3",
   "version": "3.8.8"
  }
 },
 "nbformat": 4,
 "nbformat_minor": 5
}
