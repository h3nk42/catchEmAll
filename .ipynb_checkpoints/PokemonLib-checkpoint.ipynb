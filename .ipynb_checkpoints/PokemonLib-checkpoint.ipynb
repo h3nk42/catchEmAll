{
 "cells": [
  {
   "cell_type": "code",
   "execution_count": 1,
   "id": "c8c01f2a",
   "metadata": {},
   "outputs": [],
   "source": [
    "%run ./apiMethods.ipynb\n",
    "%run ./kaggleImports.ipynb\n"
   ]
  },
  {
   "cell_type": "code",
   "execution_count": 2,
   "id": "5ba36c8b",
   "metadata": {},
   "outputs": [],
   "source": [
    "from enum import Enum\n",
    "class POKETYPE(Enum):\n",
    "    Normal = 'Normal'\n",
    "    Fire= 'Fire'\n",
    "    Water= 'Water'\n",
    "    Electric= 'Electric'\n",
    "    Grass= 'Grass'\n",
    "    Ice= 'Ice'\n",
    "    Fighting= 'Fighting'\n",
    "    Poison= 'Poison'\n",
    "    Ground= 'Ground'\n",
    "    Flying= 'Flying'\n",
    "    Psychic= 'Psychic'\n",
    "    Bug= 'Bug'\n",
    "    Rock= 'Rock'\n",
    "    Ghost= 'Ghost'\n",
    "    Dragon= 'Dragon'\n",
    "    Dark= 'Dark'\n",
    "    Steel= 'Steel'\n",
    "    Fairy= 'Fairy'\n"
   ]
  },
  {
   "cell_type": "code",
   "execution_count": 32,
   "id": "eb4782ff",
   "metadata": {},
   "outputs": [],
   "source": [
    "class Pokemon:\n",
    "    def getMovesForLevel(self, level):\n",
    "        movesEqualOrBelow = []\n",
    "        for move in self.moves:\n",
    "            if move[1] <= level:\n",
    "                movesEqualOrBelow.append(move[0])\n",
    "        return movesEqualOrBelow\n",
    "    def __init__(self, name, moves, baseTypes, baseStats):\n",
    "        self.name = name\n",
    "        self.moves = moves\n",
    "        self.baseTypes = baseTypes\n",
    "        self.baseStats = baseStats\n",
    "    def __str__(self):\n",
    "        return f\"<Pokemon:\\n{self.name},\\n moves:{self.moves},\\n types:{self.baseTypes},\\n bStats:{self.baseStats}\\n>\""
   ]
  },
  {
   "cell_type": "code",
   "execution_count": 31,
   "id": "187f52f7",
   "metadata": {},
   "outputs": [],
   "source": [
    "#pokemonTeam = [{name: 'pikachu', level: 12, moves:['tackle','move2']}]\n",
    "class ArenaLeader:\n",
    "    averageLevel = None\n",
    "    def __init__(self, name, pokemonTeam):\n",
    "        self.name = name\n",
    "        self.team = pokemonTeam\n",
    "        average = 0\n",
    "        for pokemon in pokemonTeam:\n",
    "            average += pokemon[1]\n",
    "        self.averageLevel = average/len(pokemonTeam)\n",
    "    def __str__(self):\n",
    "        return f\"<ArenaLeader:\\n{self.name},\\n avrgLvl:{self.averageLevel},\\n team:{self.team}\\n>\""
   ]
  },
  {
   "cell_type": "code",
   "execution_count": 44,
   "id": "4b95ac50",
   "metadata": {},
   "outputs": [],
   "source": [
    "class Area:\n",
    "    encounterablePokemons = None # [(name, chance, averageEncountersToSteps),...]\n",
    "    name = None # string\n",
    "    baseEncounterChance = None # float 0-1\n",
    "    json = None # {} - whole api object for this area\n",
    "    steps = None # int - minimum steps you have to take through high grass\n",
    "    averageEncounters = None\n",
    "    def calculateAverageEncounters(self):\n",
    "        pokemonWithAvrgEncounters = []\n",
    "        for pokemon in self.encounterablePokemons:\n",
    "            pokemonWithAvrgEncounters.append((pokemon[0], pokemon[1], pokemon[1]/100 * self.averageEncounters))\n",
    "        self.encounterablePokemons = pokemonWithAvrgEncounters\n",
    "    def __init__(self, name, baseEncounterChance, json, steps):\n",
    "        self.name = name\n",
    "        self.baseEncounterChance = baseEncounterChance\n",
    "        self.json = json\n",
    "        self.steps = steps\n",
    "        self.averageEncounters = self.steps * baseEncounterChance\n",
    "    def __str__(self):\n",
    "         return (f\"<Area:\\n{self.name},\\n steps:{self.steps},\\n baseEncounterChance:{self.baseEncounterChance},\\n averageEncounters:{self.averageEncounters},\\n encounterablePokemons:{self.encounterablePokemons},\\n>\")"
   ]
  },
  {
   "cell_type": "code",
   "execution_count": 7,
   "id": "5c7ca2a9",
   "metadata": {},
   "outputs": [],
   "source": [
    "def fetchAreaToLocation(location):\n",
    "    areaUrl = requestLocation(location)['areas'][0]['url']\n",
    "    area = requestFullUrl(areaUrl)\n",
    "    return area"
   ]
  },
  {
   "cell_type": "code",
   "execution_count": 8,
   "id": "2d6020cc",
   "metadata": {},
   "outputs": [],
   "source": [
    "# allowedVersion = ['red'] | ['red','blue'] | 'gold' ...\n",
    "# returns (pokemonName, encounterChance)\n",
    "\n",
    "def returnPokemonAndChanceFromArea(area, allowedVersions):\n",
    "    encounters = []\n",
    "    encounterChance = 0\n",
    "    for encounter in area['pokemon_encounters']:\n",
    "        isInAllowedVersion = False\n",
    "        for versionDetail in encounter['version_details']:\n",
    "            if versionDetail['version']['name'] in allowedVersions:\n",
    "                isInAllowedVersion = True\n",
    "                encounterChance = versionDetail['max_chance'] \n",
    "        if isInAllowedVersion:\n",
    "            encounters.append((encounter['pokemon']['name'], encounterChance) )\n",
    "    return encounters"
   ]
  },
  {
   "cell_type": "code",
   "execution_count": 9,
   "id": "7e99efb3",
   "metadata": {},
   "outputs": [],
   "source": [
    "def returnEncounterFromListWhereName(encounters, wantedName):\n",
    "    for encounter in encounters:\n",
    "        if encounter['pokemon']['name'] == wantedName:\n",
    "            return encounter"
   ]
  },
  {
   "cell_type": "code",
   "execution_count": 10,
   "id": "9ff2d109",
   "metadata": {},
   "outputs": [],
   "source": [
    "def fetchPokemon(name):\n",
    "    return requestPokemon(name)"
   ]
  },
  {
   "cell_type": "code",
   "execution_count": 11,
   "id": "6569f072",
   "metadata": {},
   "outputs": [],
   "source": [
    "def fetchMove(name):\n",
    "    return requestMove(name)"
   ]
  },
  {
   "cell_type": "code",
   "execution_count": 17,
   "id": "1d22f1c0",
   "metadata": {},
   "outputs": [],
   "source": [
    "def sortMovesForLevel(elem):\n",
    "    return elem[1]\n",
    "# returns (moveName, moveType, levelLearnedAt)\n",
    "def fetchPokemonMoves(name, generation):\n",
    "    pokemon = fetchPokemon(name)\n",
    "    moves = pokemon['moves']\n",
    "    actualPokemonMoves = []\n",
    "    for move in moves:\n",
    "        moveIsOfInterest = False\n",
    "        levelLearnedAt = 0\n",
    "        for versionDetail in move['version_group_details']:\n",
    "            if versionDetail['move_learn_method']['name'] == 'level-up':\n",
    "                if versionDetail['version_group']['name'] == generation:\n",
    "                    moveIsOfInterest = True\n",
    "                    levelLearnedAt = versionDetail['level_learned_at']\n",
    "        if moveIsOfInterest:\n",
    "            name = move['move']['name']\n",
    "            moveDict = produceMove(name)\n",
    "            actualPokemonMoves.append((moveDict, levelLearnedAt))\n",
    "    actualPokemonMoves.sort(key=sortMovesForLevel)        \n",
    "    \n",
    "    return actualPokemonMoves"
   ]
  },
  {
   "cell_type": "code",
   "execution_count": 18,
   "id": "a7f3ab8e",
   "metadata": {},
   "outputs": [],
   "source": [
    "def produceMove(name):\n",
    "    moveFetched = fetchMove(name)\n",
    "    moveType = moveFetched['type']['name']\n",
    "    damageClass = moveFetched['damage_class']['name']\n",
    "    power = moveFetched['power']\n",
    "    pp = moveFetched['pp']\n",
    "    priority = moveFetched['priority']\n",
    "    accuracy = moveFetched['accuracy']\n",
    "    moveDict = {'name': name,\n",
    "                'moveType': moveType,\n",
    "                'damageClass': damageClass,\n",
    "                'power': power,\n",
    "                'pp': pp,\n",
    "                'priority': priority,\n",
    "                'accuracy': accuracy,\n",
    "                }\n",
    "    return moveDict"
   ]
  },
  {
   "cell_type": "code",
   "execution_count": 13,
   "id": "c379316b",
   "metadata": {},
   "outputs": [],
   "source": [
    "def fetchPokemonDataFromCSV(name):\n",
    "    pokemon = pokemonTable.loc[pokemonTable['Name']\n",
    "                            .str.contains(name, case=False)].to_dict(orient='records')[0]\n",
    "    types = [pokemon['Type 1']]\n",
    "    if (pokemon['Type 2']  != None):\n",
    "        types.append(pokemon['Type 2'])\n",
    "    pokemon.pop('#', None)\n",
    "    pokemon.pop('Name', None)\n",
    "    pokemon.pop('Type 1', None)\n",
    "    pokemon.pop('Type 2', None)\n",
    "    csvData = pokemon\n",
    "    return (types, csvData)"
   ]
  }
 ],
 "metadata": {
  "kernelspec": {
   "display_name": "Python 3.8.8 64-bit ('base': conda)",
   "language": "python",
   "name": "python388jvsc74a57bd045d6d7d53af0fd0bf88c7a08674bcc9ed373bd0cf6f76311c6d74ca621b7f474"
  },
  "language_info": {
   "codemirror_mode": {
    "name": "ipython",
    "version": 3
   },
   "file_extension": ".py",
   "mimetype": "text/x-python",
   "name": "python",
   "nbconvert_exporter": "python",
   "pygments_lexer": "ipython3",
   "version": "3.8.8"
  }
 },
 "nbformat": 4,
 "nbformat_minor": 5
}
