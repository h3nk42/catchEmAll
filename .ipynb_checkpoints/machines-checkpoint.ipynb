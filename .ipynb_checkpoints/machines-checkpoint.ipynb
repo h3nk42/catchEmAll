{
 "cells": [
  {
   "cell_type": "code",
   "execution_count": 1,
   "id": "0050c798-50d1-4b67-84b3-bfc96408d44c",
   "metadata": {
    "tags": []
   },
   "outputs": [
    {
     "name": "stdout",
     "output_type": "stream",
     "text": [
      "CPU times: user 4 µs, sys: 0 ns, total: 4 µs\n",
      "Wall time: 5.01 µs\n",
      "CPU times: user 4 µs, sys: 0 ns, total: 4 µs\n",
      "Wall time: 5.01 µs\n",
      "CPU times: user 4 µs, sys: 0 ns, total: 4 µs\n",
      "Wall time: 5.25 µs\n",
      "CPU times: user 3 µs, sys: 1 µs, total: 4 µs\n",
      "Wall time: 5.01 µs\n",
      "CPU times: user 3 µs, sys: 0 ns, total: 3 µs\n",
      "Wall time: 5.01 µs\n",
      "CPU times: user 5 µs, sys: 0 ns, total: 5 µs\n",
      "Wall time: 5.72 µs\n",
      "CPU times: user 3 µs, sys: 0 ns, total: 3 µs\n",
      "Wall time: 4.29 µs\n",
      "CPU times: user 3 µs, sys: 1 µs, total: 4 µs\n",
      "Wall time: 3.81 µs\n",
      "CPU times: user 11 µs, sys: 0 ns, total: 11 µs\n",
      "Wall time: 12.9 µs\n"
     ]
    }
   ],
   "source": [
    "%run ./apiMethods.ipynb\n",
    "%run ./arenaCrawlers.ipynb"
   ]
  },
  {
   "cell_type": "code",
   "execution_count": 9,
   "id": "0e4e81ec-0fdf-45b7-8807-c67a2bd18680",
   "metadata": {},
   "outputs": [],
   "source": [
    "def createAllTMsJSONandId(allTms):\n",
    "    allTmJsonsWithid = []\n",
    "    for machine in allTms:\n",
    "        index = ((int(machine)-1)*18) + 1\n",
    "        allTmJsonsWithid.append((requestMachine(index), machine))\n",
    "    return allTmJsonsWithid\n"
   ]
  },
  {
   "cell_type": "code",
   "execution_count": 8,
   "id": "6095401c-28ff-4215-95c6-8487f0ffa067",
   "metadata": {},
   "outputs": [],
   "source": [
    "def createAllMoveJSONfromTMJSON(allTmJson):\n",
    "    allMovesByTmJsons = []\n",
    "    for tmJson in allTmJson:\n",
    "        allMovesByTmJsons.append( (requestMove(tmJson[0]['move']['name']), tmJson[1] ) )\n",
    "    return allMovesByTmJsons"
   ]
  },
  {
   "cell_type": "code",
   "execution_count": null,
   "id": "dadb2395-f488-4dbb-aa08-bbf2218a8c57",
   "metadata": {
    "tags": []
   },
   "outputs": [],
   "source": [
    "allTmJson = createAllTMsJSONandId(POSSIBLE_TM_ARENA9)\n",
    "allMoveJson = createAllMoveJSONfromTMJSON(allTmJson)"
   ]
  },
  {
   "cell_type": "code",
   "execution_count": 7,
   "id": "23c46d87-5ac2-41c9-a59c-3c83242c5d96",
   "metadata": {
    "tags": []
   },
   "outputs": [],
   "source": [
    "def appendTmMovesToMovesOfInterestCSV(moveJsonsWithId, moveTable):\n",
    "    movesToAppend = []\n",
    "    movesOfInterestColumNames = ['name', 'moveType', 'damageClass', 'power', 'pp', 'priority', 'accuracy']\n",
    "    \n",
    "    for moveJsonWithId in moveJsonsWithId:\n",
    "        moveJson = moveJsonWithId[0]\n",
    "        name = moveJson['name']\n",
    "        if name not in moveTable.name:\n",
    "            # extracts moves data to CSV format\n",
    "            moveObject = produceMoveWithoutFetch(moveJson)\n",
    "            moveCSVformat = [moveObject['name'],moveObject['moveType'],moveObject['damageClass'],moveObject['power'],moveObject['pp'],moveObject['priority'],moveObject['accuracy']]\n",
    "            moveTable = moveTable.append({'name':moveObject['name'], 'moveType':moveObject['moveType'],'damageClass': moveObject['damageClass'],'power': moveObject['power'],'pp': moveObject['pp'], 'priority':moveObject['priority'],'accuracy':moveObject['accuracy']},ignore_index=True)\n",
    "    return moveTable\n",
    "            # ----- #\n",
    "    #TODO WRITE table ToFile \n",
    "    #index=False"
   ]
  },
  {
   "cell_type": "code",
   "execution_count": 86,
   "id": "d473b5b3-6720-4a1e-adcc-4fcd2b690332",
   "metadata": {
    "collapsed": true,
    "jupyter": {
     "outputs_hidden": true
    },
    "tags": []
   },
   "outputs": [
    {
     "data": {
      "text/html": [
       "<div>\n",
       "<style scoped>\n",
       "    .dataframe tbody tr th:only-of-type {\n",
       "        vertical-align: middle;\n",
       "    }\n",
       "\n",
       "    .dataframe tbody tr th {\n",
       "        vertical-align: top;\n",
       "    }\n",
       "\n",
       "    .dataframe thead th {\n",
       "        text-align: right;\n",
       "    }\n",
       "</style>\n",
       "<table border=\"1\" class=\"dataframe\">\n",
       "  <thead>\n",
       "    <tr style=\"text-align: right;\">\n",
       "      <th></th>\n",
       "      <th>name</th>\n",
       "      <th>moveType</th>\n",
       "      <th>damageClass</th>\n",
       "      <th>power</th>\n",
       "      <th>pp</th>\n",
       "      <th>priority</th>\n",
       "      <th>accuracy</th>\n",
       "    </tr>\n",
       "  </thead>\n",
       "  <tbody>\n",
       "    <tr>\n",
       "      <th>0</th>\n",
       "      <td>gust</td>\n",
       "      <td>flying</td>\n",
       "      <td>special</td>\n",
       "      <td>40.0</td>\n",
       "      <td>35</td>\n",
       "      <td>0</td>\n",
       "      <td>100.0</td>\n",
       "    </tr>\n",
       "    <tr>\n",
       "      <th>1</th>\n",
       "      <td>sand-attack</td>\n",
       "      <td>ground</td>\n",
       "      <td>status</td>\n",
       "      <td>NaN</td>\n",
       "      <td>15</td>\n",
       "      <td>0</td>\n",
       "      <td>100.0</td>\n",
       "    </tr>\n",
       "    <tr>\n",
       "      <th>2</th>\n",
       "      <td>quick-attack</td>\n",
       "      <td>normal</td>\n",
       "      <td>physical</td>\n",
       "      <td>40.0</td>\n",
       "      <td>30</td>\n",
       "      <td>1</td>\n",
       "      <td>100.0</td>\n",
       "    </tr>\n",
       "    <tr>\n",
       "      <th>3</th>\n",
       "      <td>whirlwind</td>\n",
       "      <td>normal</td>\n",
       "      <td>status</td>\n",
       "      <td>NaN</td>\n",
       "      <td>20</td>\n",
       "      <td>-6</td>\n",
       "      <td>NaN</td>\n",
       "    </tr>\n",
       "    <tr>\n",
       "      <th>4</th>\n",
       "      <td>wing-attack</td>\n",
       "      <td>flying</td>\n",
       "      <td>physical</td>\n",
       "      <td>60.0</td>\n",
       "      <td>35</td>\n",
       "      <td>0</td>\n",
       "      <td>100.0</td>\n",
       "    </tr>\n",
       "    <tr>\n",
       "      <th>...</th>\n",
       "      <td>...</td>\n",
       "      <td>...</td>\n",
       "      <td>...</td>\n",
       "      <td>...</td>\n",
       "      <td>...</td>\n",
       "      <td>...</td>\n",
       "      <td>...</td>\n",
       "    </tr>\n",
       "    <tr>\n",
       "      <th>104</th>\n",
       "      <td>metronome</td>\n",
       "      <td>normal</td>\n",
       "      <td>status</td>\n",
       "      <td>None</td>\n",
       "      <td>10</td>\n",
       "      <td>0</td>\n",
       "      <td>None</td>\n",
       "    </tr>\n",
       "    <tr>\n",
       "      <th>105</th>\n",
       "      <td>fire-blast</td>\n",
       "      <td>fire</td>\n",
       "      <td>special</td>\n",
       "      <td>110</td>\n",
       "      <td>5</td>\n",
       "      <td>0</td>\n",
       "      <td>85</td>\n",
       "    </tr>\n",
       "    <tr>\n",
       "      <th>106</th>\n",
       "      <td>fissure</td>\n",
       "      <td>ground</td>\n",
       "      <td>physical</td>\n",
       "      <td>None</td>\n",
       "      <td>5</td>\n",
       "      <td>0</td>\n",
       "      <td>30</td>\n",
       "    </tr>\n",
       "    <tr>\n",
       "      <th>107</th>\n",
       "      <td>sky-attack</td>\n",
       "      <td>flying</td>\n",
       "      <td>physical</td>\n",
       "      <td>140</td>\n",
       "      <td>5</td>\n",
       "      <td>0</td>\n",
       "      <td>90</td>\n",
       "    </tr>\n",
       "    <tr>\n",
       "      <th>108</th>\n",
       "      <td>explosion</td>\n",
       "      <td>normal</td>\n",
       "      <td>physical</td>\n",
       "      <td>250</td>\n",
       "      <td>5</td>\n",
       "      <td>0</td>\n",
       "      <td>100</td>\n",
       "    </tr>\n",
       "  </tbody>\n",
       "</table>\n",
       "<p>109 rows × 7 columns</p>\n",
       "</div>"
      ],
      "text/plain": [
       "             name moveType damageClass power  pp  priority accuracy\n",
       "0            gust   flying     special  40.0  35         0    100.0\n",
       "1     sand-attack   ground      status   NaN  15         0    100.0\n",
       "2    quick-attack   normal    physical  40.0  30         1    100.0\n",
       "3       whirlwind   normal      status   NaN  20        -6      NaN\n",
       "4     wing-attack   flying    physical  60.0  35         0    100.0\n",
       "..            ...      ...         ...   ...  ..       ...      ...\n",
       "104     metronome   normal      status  None  10         0     None\n",
       "105    fire-blast     fire     special   110   5         0       85\n",
       "106       fissure   ground    physical  None   5         0       30\n",
       "107    sky-attack   flying    physical   140   5         0       90\n",
       "108     explosion   normal    physical   250   5         0      100\n",
       "\n",
       "[109 rows x 7 columns]"
      ]
     },
     "execution_count": 86,
     "metadata": {},
     "output_type": "execute_result"
    }
   ],
   "source": [
    "movesOfInterestTable = pd.read_csv(f'Data/red/arena-{1}/MovesOfInterest.csv')\n",
    "movesOfInterestTable.drop(columns=movesOfInterestTable.columns[0], axis=1, inplace=True)\n",
    "movesOfInterestTable = appendTmMovesToMovesOfInterestCSV(allMoveJson, movesOfInterestTable)\n",
    "movesOfInterestTable"
   ]
  },
  {
   "cell_type": "code",
   "execution_count": 47,
   "id": "67b1c5ec-d015-4f63-9fed-46da12f8689b",
   "metadata": {},
   "outputs": [
    {
     "data": {
      "text/html": [
       "<div>\n",
       "<style scoped>\n",
       "    .dataframe tbody tr th:only-of-type {\n",
       "        vertical-align: middle;\n",
       "    }\n",
       "\n",
       "    .dataframe tbody tr th {\n",
       "        vertical-align: top;\n",
       "    }\n",
       "\n",
       "    .dataframe thead th {\n",
       "        text-align: right;\n",
       "    }\n",
       "</style>\n",
       "<table border=\"1\" class=\"dataframe\">\n",
       "  <thead>\n",
       "    <tr style=\"text-align: right;\">\n",
       "      <th></th>\n",
       "      <th>Unnamed: 0</th>\n",
       "      <th>name</th>\n",
       "      <th>moveType</th>\n",
       "      <th>damageClass</th>\n",
       "      <th>power</th>\n",
       "      <th>pp</th>\n",
       "      <th>priority</th>\n",
       "      <th>accuracy</th>\n",
       "    </tr>\n",
       "  </thead>\n",
       "  <tbody>\n",
       "  </tbody>\n",
       "</table>\n",
       "</div>"
      ],
      "text/plain": [
       "Empty DataFrame\n",
       "Columns: [Unnamed: 0, name, moveType, damageClass, power, pp, priority, accuracy]\n",
       "Index: []"
      ]
     },
     "execution_count": 47,
     "metadata": {},
     "output_type": "execute_result"
    }
   ],
   "source": [
    "movesOfInterestTable.loc[movesOfInterestTable['name']=='bubble-beam']"
   ]
  },
  {
   "cell_type": "code",
   "execution_count": 92,
   "id": "145b1ee4-312f-4823-b8d3-291aa24c6e25",
   "metadata": {},
   "outputs": [
    {
     "name": "stdout",
     "output_type": "stream",
     "text": [
      "8\n"
     ]
    }
   ],
   "source": [
    "for i in range(9,10):\n",
    "    print(i)"
   ]
  },
  {
   "cell_type": "code",
   "execution_count": 5,
   "id": "716c140d-c241-467d-9697-3e972ed9174d",
   "metadata": {},
   "outputs": [
    {
     "data": {
      "text/plain": [
       "9"
      ]
     },
     "execution_count": 5,
     "metadata": {},
     "output_type": "execute_result"
    }
   ],
   "source": [
    "len(machineArrays)"
   ]
  },
  {
   "cell_type": "code",
   "execution_count": 6,
   "id": "e4f381bb-1d23-48de-9f02-9735caf7f3cf",
   "metadata": {
    "tags": []
   },
   "outputs": [
    {
     "name": "stdout",
     "output_type": "stream",
     "text": [
      "ARENA  9\n"
     ]
    },
    {
     "ename": "NameError",
     "evalue": "name 'appendTmMovesToMovesOfInterestCSV' is not defined",
     "output_type": "error",
     "traceback": [
      "\u001b[0;31m---------------------------------------------------------------------------\u001b[0m",
      "\u001b[0;31mNameError\u001b[0m                                 Traceback (most recent call last)",
      "\u001b[0;32m<ipython-input-6-0b92503289af>\u001b[0m in \u001b[0;36m<module>\u001b[0;34m\u001b[0m\n\u001b[1;32m     11\u001b[0m     \u001b[0mmovesOfInterestTable\u001b[0m \u001b[0;34m=\u001b[0m \u001b[0mpd\u001b[0m\u001b[0;34m.\u001b[0m\u001b[0mread_csv\u001b[0m\u001b[0;34m(\u001b[0m\u001b[0mpathMoves\u001b[0m\u001b[0;34m)\u001b[0m\u001b[0;34m\u001b[0m\u001b[0;34m\u001b[0m\u001b[0m\n\u001b[1;32m     12\u001b[0m     \u001b[0mmovesOfInterestTable\u001b[0m\u001b[0;34m.\u001b[0m\u001b[0mdrop\u001b[0m\u001b[0;34m(\u001b[0m\u001b[0mcolumns\u001b[0m\u001b[0;34m=\u001b[0m\u001b[0mmovesOfInterestTable\u001b[0m\u001b[0;34m.\u001b[0m\u001b[0mcolumns\u001b[0m\u001b[0;34m[\u001b[0m\u001b[0;36m0\u001b[0m\u001b[0;34m]\u001b[0m\u001b[0;34m,\u001b[0m \u001b[0maxis\u001b[0m\u001b[0;34m=\u001b[0m\u001b[0;36m1\u001b[0m\u001b[0;34m,\u001b[0m \u001b[0minplace\u001b[0m\u001b[0;34m=\u001b[0m\u001b[0;32mTrue\u001b[0m\u001b[0;34m)\u001b[0m\u001b[0;34m\u001b[0m\u001b[0;34m\u001b[0m\u001b[0m\n\u001b[0;32m---> 13\u001b[0;31m     \u001b[0mmovesOfInterestTable\u001b[0m \u001b[0;34m=\u001b[0m \u001b[0mappendTmMovesToMovesOfInterestCSV\u001b[0m\u001b[0;34m(\u001b[0m\u001b[0mallMoveJson\u001b[0m\u001b[0;34m,\u001b[0m \u001b[0mmovesOfInterestTable\u001b[0m\u001b[0;34m)\u001b[0m\u001b[0;34m\u001b[0m\u001b[0;34m\u001b[0m\u001b[0m\n\u001b[0m\u001b[1;32m     14\u001b[0m     \u001b[0mappendTmMovesToMovesOfInterestCSV\u001b[0m\u001b[0;34m(\u001b[0m\u001b[0mallMoveJson\u001b[0m\u001b[0;34m,\u001b[0m \u001b[0mmovesOfInterestTable\u001b[0m\u001b[0;34m)\u001b[0m\u001b[0;34m\u001b[0m\u001b[0;34m\u001b[0m\u001b[0m\n\u001b[1;32m     15\u001b[0m     \u001b[0mprint\u001b[0m\u001b[0;34m(\u001b[0m\u001b[0mmovesOfInterestTable\u001b[0m\u001b[0;34m.\u001b[0m\u001b[0mtail\u001b[0m\u001b[0;34m(\u001b[0m\u001b[0;34m)\u001b[0m\u001b[0;34m)\u001b[0m\u001b[0;34m\u001b[0m\u001b[0;34m\u001b[0m\u001b[0m\n",
      "\u001b[0;31mNameError\u001b[0m: name 'appendTmMovesToMovesOfInterestCSV' is not defined"
     ]
    }
   ],
   "source": [
    "#allTmJson = createAllTMsJSONandId(POSSIBLE_TM_ARENA9)\n",
    "#allMoveJson = createAllMoveJSONfromTMJSON(allTmJson)\n",
    "\n",
    "# remove -1 wenn arena 9 gecrawled\n",
    "for i in range(8, len(machineArrays) ):\n",
    "    arrayIndex = i\n",
    "    arenaIndex = i+1\n",
    "    print('ARENA ' , arenaIndex)\n",
    "    pathMoves = f'Data/red/arena-{arenaIndex}/MovesOfInterest.csv'\n",
    "    pathPokemon = f'Data/red/arena-{arenaIndex}/EncounterablePokemon.csv'\n",
    "    movesOfInterestTable = pd.read_csv(pathMoves)\n",
    "    movesOfInterestTable.drop(columns=movesOfInterestTable.columns[0], axis=1, inplace=True)\n",
    "    movesOfInterestTable = appendTmMovesToMovesOfInterestCSV(allMoveJson, movesOfInterestTable)\n",
    "    appendTmMovesToMovesOfInterestCSV(allMoveJson, movesOfInterestTable)\n",
    "    print(movesOfInterestTable.tail())\n",
    "    \n",
    "    encounterablePokemonTable = pd.read_csv(pathPokemon)    \n",
    "    \n",
    "    pokeToNewMoves = {}\n",
    "    tmIdToMoveAndAllowedPoke = createIdToMoveNameAndAllowedPokemon(allMoveJson, encounterablePokemonTable)\n",
    "    for tmId in machineArrays[arrayIndex]:\n",
    "        tmIdNumber = tmId\n",
    "        allowedPoke = tmIdToMoveAndAllowedPoke[tmIdNumber]['allowedPoke']\n",
    "        moveName = tmIdToMoveAndAllowedPoke[tmIdNumber]['name']\n",
    "        for pokeName in tmIdToMoveAndAllowedPoke[tmIdNumber]['allowedPoke']:\n",
    "            if pokeName in pokeToNewMoves.keys():\n",
    "                pokeToNewMoves[pokeName].append(moveName)\n",
    "            else:\n",
    "                 pokeToNewMoves[pokeName] = [moveName]\n",
    "    newMoveArrays = []\n",
    "    for name in encounterablePokemonTable.name:\n",
    "        if name in pokeToNewMoves.keys():\n",
    "            newMoveArrays.append(pokeToNewMoves[name])\n",
    "        else:\n",
    "            newMoveArrays.append([])\n",
    "    encounterablePokemonTable['movesByTM'] = newMoveArrays\n",
    "    \n",
    "    \n",
    "    encounterablePokemonTable.to_csv(pathPokemon,index=False) \n",
    "    movesOfInterestTable.to_csv(pathMoves,index=False) \n"
   ]
  },
  {
   "cell_type": "code",
   "execution_count": 275,
   "id": "ab51538f-69fb-4e22-99ea-c3c7bc512c6f",
   "metadata": {
    "tags": []
   },
   "outputs": [],
   "source": [
    "idToMoveAndPokemon = createIdToMoveNameAndAllowedPokemon(allMoveJson, 1)"
   ]
  },
  {
   "cell_type": "code",
   "execution_count": 88,
   "id": "c3d9bca9-b6fd-49d5-bbd3-509c319f2a9d",
   "metadata": {
    "tags": []
   },
   "outputs": [],
   "source": [
    "def createIdToMoveNameAndAllowedPokemon(allMoveJsonAndId, encounterablePokemonTable):\n",
    "    idObject = {}\n",
    "    for moveJson in allMoveJsonAndId:\n",
    "        tmId = moveJson[1]\n",
    "        moveJson = moveJson[0]\n",
    "        moveName = moveJson['name']\n",
    "        allowedPoke = []\n",
    "        for pokemon in moveJson['learned_by_pokemon']:\n",
    "            name = pokemon['name']\n",
    "            if(encounterablePokemonTable.name.str.contains(name).any()):\n",
    "                allowedPoke.append(name)\n",
    "        idObject[tmId] = {\"name\":moveName,'allowedPoke':allowedPoke} \n",
    "    return idObject\n",
    "                 #  pokemonToTM[name].append(moveName)"
   ]
  },
  {
   "cell_type": "code",
   "execution_count": null,
   "id": "ce6985e3-9f1f-472d-916c-06336277e536",
   "metadata": {},
   "outputs": [],
   "source": []
  }
 ],
 "metadata": {
  "kernelspec": {
   "display_name": "Python 3.8.8 64-bit ('base': conda)",
   "language": "python",
   "name": "python388jvsc74a57bd045d6d7d53af0fd0bf88c7a08674bcc9ed373bd0cf6f76311c6d74ca621b7f474"
  },
  "language_info": {
   "codemirror_mode": {
    "name": "ipython",
    "version": 3
   },
   "file_extension": ".py",
   "mimetype": "text/x-python",
   "name": "python",
   "nbconvert_exporter": "python",
   "pygments_lexer": "ipython3",
   "version": "3.8.8"
  }
 },
 "nbformat": 4,
 "nbformat_minor": 5
}
