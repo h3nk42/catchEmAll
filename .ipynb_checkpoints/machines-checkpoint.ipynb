{
 "cells": [
  {
   "cell_type": "code",
   "execution_count": null,
   "id": "0050c798-50d1-4b67-84b3-bfc96408d44c",
   "metadata": {
    "tags": []
   },
   "outputs": [],
   "source": [
    "%run ./apiMethods.ipynb\n",
    "%run ./arenaCrawlers.ipynb"
   ]
  },
  {
   "cell_type": "code",
   "execution_count": 14,
   "id": "0e4e81ec-0fdf-45b7-8807-c67a2bd18680",
   "metadata": {
    "tags": []
   },
   "outputs": [],
   "source": [
    "def createAllTMsJSONandId(allTms):\n",
    "    allTmJsonsWithid = []\n",
    "    for machine in allTms:\n",
    "        index = ((int(machine)-1)*18) + 1\n",
    "        allTmJsonsWithid.append((requestMachine(index), machine))\n",
    "    return allTmJsonsWithid\n"
   ]
  },
  {
   "cell_type": "code",
   "execution_count": 15,
   "id": "6095401c-28ff-4215-95c6-8487f0ffa067",
   "metadata": {},
   "outputs": [],
   "source": [
    "def createAllMoveJSONfromTMJSON(allTmJson):\n",
    "    allMovesByTmJsons = []\n",
    "    for tmJson in allTmJson:\n",
    "        allMovesByTmJsons.append((requestMove(tmJson[0]['move']['name']), tmJson[1] ) )\n",
    "    return allMovesByTmJsons"
   ]
  },
  {
   "cell_type": "code",
   "execution_count": 16,
   "id": "c3d9bca9-b6fd-49d5-bbd3-509c319f2a9d",
   "metadata": {
    "tags": []
   },
   "outputs": [],
   "source": [
    "def createIdToMoveNameAndAllowedPokemon(allMoveJsonAndId, encounterablePokemonTable):\n",
    "    idObject = {}\n",
    "    for moveJson in allMoveJsonAndId:\n",
    "        tmId = moveJson[1]\n",
    "        moveJson = moveJson[0]\n",
    "        moveName = moveJson['name']\n",
    "        allowedPoke = []\n",
    "        for pokemon in moveJson['learned_by_pokemon']:\n",
    "            name = pokemon['name']\n",
    "            if(encounterablePokemonTable.name.str.contains(name).any()):\n",
    "                allowedPoke.append(name)\n",
    "        idObject[tmId] = {\"name\":moveName,'allowedPoke':allowedPoke} \n",
    "    return idObject\n",
    "                 #  pokemonToTM[name].append(moveName)"
   ]
  },
  {
   "cell_type": "code",
   "execution_count": 17,
   "id": "23c46d87-5ac2-41c9-a59c-3c83242c5d96",
   "metadata": {
    "tags": []
   },
   "outputs": [],
   "source": [
    "def appendTmMovesToMovesOfInterestCSV(moveJsonsWithId, moveTable):\n",
    "    movesToAppend = []\n",
    "    movesOfInterestColumNames = ['name', 'moveType', 'damageClass', 'power', 'pp', 'priority', 'accuracy']\n",
    "    \n",
    "    for moveJsonWithId in moveJsonsWithId:\n",
    "        moveJson = moveJsonWithId[0]\n",
    "        name = moveJson['name']\n",
    "        if name not in moveTable.name:\n",
    "            # extracts moves data to CSV format\n",
    "            moveObject = produceMoveWithoutFetch(moveJson)\n",
    "            moveCSVformat = [moveObject['name'],moveObject['moveType'],moveObject['damageClass'],moveObject['power'],moveObject['pp'],moveObject['priority'],moveObject['accuracy']]\n",
    "            moveTable = moveTable.append({'name':moveObject['name'], 'moveType':moveObject['moveType'],'damageClass': moveObject['damageClass'],'power': moveObject['power'],'pp': moveObject['pp'], 'priority':moveObject['priority'],'accuracy':moveObject['accuracy']},ignore_index=True)\n",
    "    return moveTable\n",
    "            # ----- #\n",
    "    #TODO WRITE table ToFile \n",
    "    #index=False"
   ]
  },
  {
   "cell_type": "code",
   "execution_count": 52,
   "id": "ce6985e3-9f1f-472d-916c-06336277e536",
   "metadata": {},
   "outputs": [],
   "source": [
    "def writeTMtoCSV(game):\n",
    "    allTmJson = createAllTMsJSONandId(POSSIBLE_TM_ARENA9)\n",
    "    allMoveJson = createAllMoveJSONfromTMJSON(allTmJson)\n",
    "\n",
    "    for i in range(0, len(machineArrays) ):\n",
    "        arrayIndex = i\n",
    "        arenaIndex = i+1\n",
    "        print('ARENA ' , arenaIndex)\n",
    "        pathMoves = f'Data/{game}/arena-{arenaIndex}/MovesOfInterest.csv'\n",
    "        pathPokemon = f'Data/{game}/arena-{arenaIndex}/EncounterablePokemon.csv'\n",
    "        movesOfInterestTable = pd.read_csv(pathMoves)\n",
    "        movesOfInterestTable.drop(columns=movesOfInterestTable.columns[0], axis=1, inplace=True)\n",
    "        movesOfInterestTable = appendTmMovesToMovesOfInterestCSV(allMoveJson, movesOfInterestTable)\n",
    "        appendTmMovesToMovesOfInterestCSV(allMoveJson, movesOfInterestTable)\n",
    "        print(movesOfInterestTable.tail())\n",
    "        \n",
    "        encounterablePokemonTable = pd.read_csv(pathPokemon)    \n",
    "        \n",
    "        pokeToNewMoves = {}\n",
    "        tmIdToMoveAndAllowedPoke = createIdToMoveNameAndAllowedPokemon(allMoveJson, encounterablePokemonTable)\n",
    "        \n",
    "        for tmId in machineArrays[arrayIndex]:\n",
    "            tmIdNumber = tmId\n",
    "            allowedPoke = tmIdToMoveAndAllowedPoke[tmIdNumber]['allowedPoke']\n",
    "            moveName = tmIdToMoveAndAllowedPoke[tmIdNumber]['name']\n",
    "            for pokeName in tmIdToMoveAndAllowedPoke[tmIdNumber]['allowedPoke']:\n",
    "                if pokeName in pokeToNewMoves.keys():\n",
    "                    pokeToNewMoves[pokeName].append(moveName)\n",
    "                else:\n",
    "                     pokeToNewMoves[pokeName] = [moveName]\n",
    "        newMoveArrays = []\n",
    "        for name in encounterablePokemonTable.name:\n",
    "            if name in pokeToNewMoves.keys():\n",
    "                newMoveArrays.append(pokeToNewMoves[name])\n",
    "            else:\n",
    "                newMoveArrays.append([])\n",
    "        encounterablePokemonTable['movesByTM'] = newMoveArrays\n",
    "        \n",
    "        encounterablePokemonTable.to_csv(pathPokemon,index=False) \n",
    "        movesOfInterestTable.to_csv(pathMoves,index=False) "
   ]
  },
  {
   "cell_type": "code",
   "execution_count": null,
   "id": "18a90171-834d-4cf2-b22f-03ee9fad6acc",
   "metadata": {},
   "outputs": [],
   "source": [
    "def writeTMtoCSV(game):\n",
    "    allTmJson = createAllTMsJSONandId(POSSIBLE_TM_ARENA9)\n",
    "    allMoveJson = createAllMoveJSONfromTMJSON(allTmJson)\n",
    "\n",
    "    for i in range(0, len(machineArrays) ):\n",
    "        arrayIndex = i\n",
    "        arenaIndex = i+1\n",
    "        print('ARENA ' , arenaIndex)\n",
    "        pathMoves = f'Data/{game}/arena-{arenaIndex}/MovesOfInterest.csv'\n",
    "        pathPokemon = f'Data/{game}/arena-{arenaIndex}/EncounterablePokemon.csv'\n",
    "        movesOfInterestTable = pd.read_csv(pathMoves)\n",
    "        movesOfInterestTable.drop(columns=movesOfInterestTable.columns[0], axis=1, inplace=True)\n",
    "        movesOfInterestTable = appendTmMovesToMovesOfInterestCSV(allMoveJson, movesOfInterestTable)\n",
    "        appendTmMovesToMovesOfInterestCSV(allMoveJson, movesOfInterestTable)\n",
    "        print(movesOfInterestTable.tail())\n",
    "        \n",
    "        encounterablePokemonTable = pd.read_csv(pathPokemon)    \n",
    "        \n",
    "        pokeToNewMoves = {}\n",
    "        tmIdToMoveAndAllowedPoke = createIdToMoveNameAndAllowedPokemon(allMoveJson, encounterablePokemonTable)\n",
    "        \n",
    "        for tmId in machineArrays[arrayIndex]:\n",
    "            tmIdNumber = tmId\n",
    "            allowedPoke = tmIdToMoveAndAllowedPoke[tmIdNumber]['allowedPoke']\n",
    "            moveName = tmIdToMoveAndAllowedPoke[tmIdNumber]['name']\n",
    "            for pokeName in tmIdToMoveAndAllowedPoke[tmIdNumber]['allowedPoke']:\n",
    "                if pokeName in pokeToNewMoves.keys():\n",
    "                    pokeToNewMoves[pokeName].append(moveName)\n",
    "                else:\n",
    "                     pokeToNewMoves[pokeName] = [moveName]\n",
    "        newMoveArrays = []\n",
    "        for name in encounterablePokemonTable.name:\n",
    "            if name in pokeToNewMoves.keys():\n",
    "                newMoveArrays.append(pokeToNewMoves[name])\n",
    "            else:\n",
    "                newMoveArrays.append([])\n",
    "        encounterablePokemonTable['movesByTM'] = newMoveArrays\n",
    "        \n",
    "        encounterablePokemonTable.to_csv(pathPokemon,index=False) \n",
    "        movesOfInterestTable.to_csv(pathMoves,index=False) "
   ]
  },
  {
   "cell_type": "code",
   "execution_count": 20,
   "id": "36a2297e-e4a6-4a57-b6dc-49b09ca60438",
   "metadata": {},
   "outputs": [
    {
     "name": "stdout",
     "output_type": "stream",
     "text": [
      "1317\n",
      "1335\n",
      "1353\n",
      "1371\n"
     ]
    }
   ],
   "source": [
    " for number in range(1,5):\n",
    "    index = ((int(number)-1)*18) + 1 +1316\n",
    "    print(index)"
   ]
  },
  {
   "cell_type": "code",
   "execution_count": 44,
   "id": "e4054079-6502-4aff-9c62-649e58012a54",
   "metadata": {},
   "outputs": [],
   "source": [
    "def createAllVMsJSONandId(machines):\n",
    "    allVmJsonsWithid = []\n",
    "    for machine in machines:\n",
    "        index = ((int(machine)-1)*18) + 1 +1316\n",
    "        print(index)\n",
    "        allVmJsonsWithid.append((requestMachine(index), machine))\n",
    "    return allVmJsonsWithid"
   ]
  }
 ],
 "metadata": {
  "kernelspec": {
   "display_name": "Python 3.8.8 64-bit ('base': conda)",
   "language": "python",
   "name": "python388jvsc74a57bd045d6d7d53af0fd0bf88c7a08674bcc9ed373bd0cf6f76311c6d74ca621b7f474"
  },
  "language_info": {
   "codemirror_mode": {
    "name": "ipython",
    "version": 3
   },
   "file_extension": ".py",
   "mimetype": "text/x-python",
   "name": "python",
   "nbconvert_exporter": "python",
   "pygments_lexer": "ipython3",
   "version": "3.8.8"
  }
 },
 "nbformat": 4,
 "nbformat_minor": 5
}
