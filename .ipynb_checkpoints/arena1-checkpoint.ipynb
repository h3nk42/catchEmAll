{
 "cells": [
  {
   "cell_type": "code",
   "execution_count": 41,
   "id": "d1fac3e0",
   "metadata": {
    "tags": []
   },
   "outputs": [],
   "source": [
    "%run ./ArenaToCSV.ipynb"
   ]
  },
  {
   "cell_type": "code",
   "execution_count": 47,
   "id": "3c2b7971-8141-4f66-b74a-d2d1b5b52be3",
   "metadata": {},
   "outputs": [],
   "source": [
    "placeholderSteps = 0"
   ]
  },
  {
   "cell_type": "code",
   "execution_count": 45,
   "id": "917e005a",
   "metadata": {
    "tags": []
   },
   "outputs": [],
   "source": [
    "# ---- ARENA-1 ---- #\n",
    "# ---- SETTINGS ---- #\n",
    "ARENA = 'arena-1'\n",
    "STARTERS = ['bulbasaur','charmander','squirtle']\n",
    "LOCATIONS =  [{'name':'kanto-route-1', 'steps':31},\n",
    "              {'name':'kanto-route-2', 'steps':0},\n",
    "              {'name':'viridian-forest', 'steps':110},\n",
    "              {'name':'kanto-route-22', 'steps':placeholderSteps}]\n",
    "SPECIALPOKEMON = []\n",
    "GENERATION = 'red-blue'\n",
    "#leader\n",
    "_geodude = {'name': 'geodude', 'level': 12, 'moves':['tackle','defense-curl']}\n",
    "_onix = {'name': 'onix', 'level': 14, 'moves':['tackle','screech','bide','bind']}\n",
    "LEADER = ('brock', [_geodude,_onix])\n",
    "FISHING = False\n",
    "# ----- #\n",
    "# --- RED --- #\n",
    "GAME='red'\n",
    "parseArenaToCSV(LOCATIONS,GAME,GENERATION,STARTERS,LEADER,ARENA,FISHING,SPECIALPOKEMON)\n",
    "# --- BLUE --- #\n",
    "GAME='blue'\n",
    "parseArenaToCSV(LOCATIONS,GAME,GENERATION,STARTERS,LEADER,ARENA,FISHING,SPECIALPOKEMON)\n",
    "\n",
    "#REDARENA1SETTINGS = {\"arena\":ARENA, \"starters\": STARTERS,'locations':LOCATIONS,\n",
    "            #         'specialPokemon': SPECIALPOKEMON, 'game':GAME, 'generation': GENERATION, 'leader': LEADER, 'fishing':FISHING}\n"
   ]
  },
  {
   "cell_type": "code",
   "execution_count": null,
   "id": "1aebd995-614f-466e-9344-205c4d7efc9d",
   "metadata": {},
   "outputs": [],
   "source": [
    "# ---- ARENA-2 ---- #\n",
    "POSSIBLETM=['TM11 Blubbstrahl','TM04 Wirbelwind','TM12 Aquaknarre','TM01 Megahieb','TM34 Geduld']\n",
    "# ---- SETTINGS ---- #\n",
    "ARENA = 'arena-2'\n",
    "STARTERS = ['bulbasaur','charmander','squirtle']\n",
    "LOCATIONS =  [{'name':'mt-moon', 'steps':31},\n",
    "              {'name':'kanto-route-2', 'steps':0},\n",
    "              {'name':'viridian-forest', 'steps':110},\n",
    "              {'name':'kanto-route-22', 'steps':placeholderSteps},\n",
    "              {'name':'kanto-route-3', 'steps':placeholderSteps},\n",
    "              {'name':'kanto-route-4', 'steps':placeholderSteps},\n",
    "              {'name':'kanto-route-24', 'steps':placeholderSteps},\n",
    "              {'name':'kanto-route-25', 'steps':placeholderSteps}\n",
    "              \n",
    "             ]\n",
    "SPECIALPOKEMON = ['kabuto','omanyte','magikarp','jynx']\n",
    "GENERATION = 'red-blue'\n",
    "#leader\n",
    "staryu = {'name': 'staryu', 'level': 18, 'moves':['tackle','water-gun']}\n",
    "starmie = {'name': 'starmie', 'level': 21, 'moves':['tackle','water-gun','bubble-beam','harden']}\n",
    "LEADER = ('misty', [staryu,starmie])\n",
    "FISHING = False\n",
    "# ----- #\n",
    "# --- RED --- #\n",
    "GAME='red'\n",
    "parseArenaToCSV(LOCATIONS,GAME,GENERATION,STARTERS,LEADER,ARENA,FISHING,SPECIALPOKEMON)\n",
    "# --- BLUE --- #\n",
    "GAME='blue'\n",
    "parseArenaToCSV(LOCATIONS,GAME,GENERATION,STARTERS,LEADER,ARENA,FISHING,SPECIALPOKEMON)"
   ]
  },
  {
   "cell_type": "code",
   "execution_count": null,
   "id": "749f9be8-0dd7-4e25-b120-1e9527c638c9",
   "metadata": {},
   "outputs": [],
   "source": [
    "# ---- ARENA-3 ---- #\n",
    "POSSIBLETM=['TM11 Blubbstrahl','TM04 Wirbelwind','TM12 Aquaknarre','TM01 Megahieb','TM34 Geduld','TM28 Schaufler']\n",
    "# ---- SETTINGS ---- #\n",
    "ARENA = 'arena-2'\n",
    "STARTERS = ['bulbasaur','charmander','squirtle']\n",
    "LOCATIONS =  [\n",
    "              {'name':'kanto-route-2', 'steps':0},\n",
    "              {'name':'viridian-forest', 'steps':110},\n",
    "              {'name':'kanto-route-22', 'steps':placeholderSteps},\n",
    "              {'name':'mt-moon', 'steps':31},\n",
    "              {'name':'kanto-route-3', 'steps':placeholderSteps},\n",
    "              {'name':'kanto-route-4', 'steps':placeholderSteps},\n",
    "              {'name':'kanto-route-24', 'steps':placeholderSteps},\n",
    "              {'name':'kanto-route-25', 'steps':placeholderSteps},\n",
    "              {'name':'kanto-route-5', 'steps':placeholderSteps},\n",
    "              {'name':'kanto-route-6', 'steps':placeholderSteps},\n",
    "              {'name':'ss-anne', 'steps':placeholderSteps},\n",
    "             ]\n",
    "SPECIALPOKEMON = ['kabuto','omanyte','magikarp','jynx','farfetchd']\n",
    "GENERATION = 'red-blue'\n",
    "#leader\n",
    "staryu = {'name': 'staryu', 'level': 18, 'moves':['tackle','water-gun']}\n",
    "starmie = {'name': 'starmie', 'level': 21, 'moves':['tackle','water-gun','bubble-beam','harden']}\n",
    "LEADER = ('misty', [staryu,starmie])\n",
    "FISHING = True\n",
    "# ----- #\n",
    "# --- RED --- #\n",
    "GAME='red'\n",
    "parseArenaToCSV(LOCATIONS,GAME,GENERATION,STARTERS,LEADER,ARENA,FISHING,SPECIALPOKEMON)\n",
    "# --- BLUE --- #\n",
    "GAME='blue'\n",
    "parseArenaToCSV(LOCATIONS,GAME,GENERATION,STARTERS,LEADER,ARENA,FISHING,SPECIALPOKEMON)"
   ]
  },
  {
   "cell_type": "code",
   "execution_count": null,
   "id": "0a6fb9e7-c19d-46fc-83ba-12b3685c7138",
   "metadata": {},
   "outputs": [],
   "source": []
  }
 ],
 "metadata": {
  "kernelspec": {
   "display_name": "Python 3.8.8 64-bit ('base': conda)",
   "language": "python",
   "name": "python388jvsc74a57bd045d6d7d53af0fd0bf88c7a08674bcc9ed373bd0cf6f76311c6d74ca621b7f474"
  },
  "language_info": {
   "codemirror_mode": {
    "name": "ipython",
    "version": 3
   },
   "file_extension": ".py",
   "mimetype": "text/x-python",
   "name": "python",
   "nbconvert_exporter": "python",
   "pygments_lexer": "ipython3",
   "version": "3.8.8"
  }
 },
 "nbformat": 4,
 "nbformat_minor": 5
}
