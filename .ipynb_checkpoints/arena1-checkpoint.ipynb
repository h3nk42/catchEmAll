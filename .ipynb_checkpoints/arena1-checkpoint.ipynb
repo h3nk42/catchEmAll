{
 "cells": [
  {
   "cell_type": "code",
   "execution_count": 161,
   "id": "5b95d72c",
   "metadata": {
    "scrolled": false
   },
   "outputs": [],
   "source": [
    "%run ./ArenaDataLib.ipynb"
   ]
  },
  {
   "cell_type": "code",
   "execution_count": 170,
   "id": "3edad609",
   "metadata": {},
   "outputs": [],
   "source": [
    "# VERSION GROUP 1 - RED, BLUE\n",
    "# api source: /version-goup/1/\n",
    "\n",
    "# REGION - KANTO\n",
    "# api source: /region/1/\n",
    "\n",
    "# POKEMON GENERATION - i / 1\n",
    "# hier findet man zb auch die moeglichen moves (165 items)\n",
    "# api source: /generation/1/\n",
    "\n",
    "# ARENALEITER: Brock\n",
    "# https://bulbapedia.bulbagarden.net/wiki/Brock\n",
    "#brockPokemonTeam = [Pokemon('Geodude', 12, [POKETYPE.Normal, POKETYPE.Normal], [POKETYPE.Rock, POKETYPE.Ground])]\n",
    "#brockPokemonTeam.append(Pokemon('Onix', 14, [POKETYPE.Normal, POKETYPE.Normal, POKETYPE.Normal], [POKETYPE.Rock, POKETYPE.Ground] ))\n",
    "\n",
    "# ---- SETTINGS ---- #\n",
    "STARTERS = ['bulbasaur','charmander','squirtle']\n",
    "LOCATIONS =  [{'name':'kanto-route-1', 'steps':31},\n",
    "              {'name':'kanto-route-2', 'steps':31},\n",
    "              {'name':'viridian-forest', 'steps':31}] \n",
    "GAME = 'red'\n",
    "GENERATION = 'red-blue'\n",
    "#leader\n",
    "_geodude = {'name': 'geodude', 'level': 12, 'moves':['tackle','defense-curl']}\n",
    "_onix = {'name': 'onix', 'level': 14, 'moves':['tackle','screech','bide']}\n",
    "LEADER = ('brock', [_geodude,_onix])\n",
    "# ----- #"
   ]
  },
  {
   "cell_type": "code",
   "execution_count": 162,
   "id": "d1c35650",
   "metadata": {
    "scrolled": true
   },
   "outputs": [],
   "source": [
    "arena1Data =  gatherDataForArena(LOCATIONS,GAME,GENERATION,STARTERS,LEADER)"
   ]
  },
  {
   "cell_type": "code",
   "execution_count": 167,
   "id": "5e1f8024",
   "metadata": {
    "scrolled": true
   },
   "outputs": [],
   "source": [
    "#for pokemonName in arena1Data['catchablePokemons']:\n",
    "   # print(arena1Data['catchablePokemons'][pokemonName])"
   ]
  },
  {
   "cell_type": "code",
   "execution_count": 166,
   "id": "9ce537d5",
   "metadata": {
    "scrolled": true
   },
   "outputs": [],
   "source": [
    "#for pokemonAndLevel in arena1Data['arenaLeader'].team:\n",
    "    #print(pokemonAndLevel[0])"
   ]
  },
  {
   "cell_type": "code",
   "execution_count": 169,
   "id": "b0245441",
   "metadata": {},
   "outputs": [
    {
     "name": "stdout",
     "output_type": "stream",
     "text": [
      "<Area:\n",
      "kanto-route-1-area,\n",
      " steps:None,\n",
      " bChance:0.2,\n",
      " encounters:[('pidgey', 50), ('rattata', 50)]\n",
      ">\n",
      "<Area:\n",
      "kanto-route-2-south-towards-viridian-city,\n",
      " steps:None,\n",
      " bChance:0.2,\n",
      " encounters:[('weedle', 15), ('pidgey', 45), ('rattata', 40)]\n",
      ">\n",
      "<Area:\n",
      "viridian-forest-area,\n",
      " steps:None,\n",
      " bChance:0.2,\n",
      " encounters:[('caterpie', 5), ('metapod', 5), ('weedle', 45), ('kakuna', 40), ('pikachu', 5)]\n",
      ">\n"
     ]
    }
   ],
   "source": [
    "for area in arena1Data['areas']:\n",
    "    print(area)"
   ]
  },
  {
   "cell_type": "code",
   "execution_count": 168,
   "id": "bcbfd855",
   "metadata": {},
   "outputs": [
    {
     "data": {
      "text/plain": [
       "{'areas': [<__main__.Area at 0x7fe1088cbb50>,\n",
       "  <__main__.Area at 0x7fe10aa210d0>,\n",
       "  <__main__.Area at 0x7fe1091709a0>],\n",
       " 'catchablePokemons': {'pidgey': <__main__.Pokemon at 0x7fe10aa0d550>,\n",
       "  'rattata': <__main__.Pokemon at 0x7fe11942cf70>,\n",
       "  'weedle': <__main__.Pokemon at 0x7fe0e800e910>,\n",
       "  'caterpie': <__main__.Pokemon at 0x7fe10aa0ae20>,\n",
       "  'metapod': <__main__.Pokemon at 0x7fe10aa0a970>,\n",
       "  'kakuna': <__main__.Pokemon at 0x7fe0e009dd00>,\n",
       "  'pikachu': <__main__.Pokemon at 0x7fe0e009d160>,\n",
       "  'bulbasaur': <__main__.Pokemon at 0x7fe119045ca0>,\n",
       "  'charmander': <__main__.Pokemon at 0x7fe1191f6d30>,\n",
       "  'squirtle': <__main__.Pokemon at 0x7fe10a32f4f0>},\n",
       " 'arenaLeader': <__main__.ArenaLeader at 0x7fe1088cb550>}"
      ]
     },
     "execution_count": 168,
     "metadata": {},
     "output_type": "execute_result"
    }
   ],
   "source": [
    "arena1Data"
   ]
  }
 ],
 "metadata": {
  "kernelspec": {
   "display_name": "Python 3.8.8 64-bit ('base': conda)",
   "language": "python",
   "name": "python388jvsc74a57bd045d6d7d53af0fd0bf88c7a08674bcc9ed373bd0cf6f76311c6d74ca621b7f474"
  },
  "language_info": {
   "codemirror_mode": {
    "name": "ipython",
    "version": 3
   },
   "file_extension": ".py",
   "mimetype": "text/x-python",
   "name": "python",
   "nbconvert_exporter": "python",
   "pygments_lexer": "ipython3",
   "version": "3.8.8"
  }
 },
 "nbformat": 4,
 "nbformat_minor": 5
}
