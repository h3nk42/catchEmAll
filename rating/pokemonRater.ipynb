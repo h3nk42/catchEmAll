{
 "cells": [
  {
   "cell_type": "code",
   "execution_count": 14,
   "id": "12cb03de-50f2-435b-bb0e-aff011be4dcc",
   "metadata": {},
   "outputs": [],
   "source": [
    "import pandas as pd\n",
    "import json as json"
   ]
  },
  {
   "cell_type": "code",
   "execution_count": 16,
   "id": "b141d444-94f4-46c5-8bc4-bf3937f319b2",
   "metadata": {
    "tags": []
   },
   "outputs": [],
   "source": [
    "def loadFiles(version, arena):\n",
    "    file_path     = \"../data/\"\n",
    "    list_of_files = []\n",
    "    arena_list    = [\"arena-1\", \"arena-2\", \"arena-3\", \"arena-4\", \"arena-5\", \"arena-6\", \"arena-7\", \"arena-8\", \"arena-9\",]\n",
    "    file_path = getVersionPath(version, file_path)\n",
    "    if arena in arena_list:   \n",
    "        file_path        += \"/\" + arena + \"/\"\n",
    "        encounter_pokemon = file_path + \"EncounterablePokemon.csv\"\n",
    "        pokemon_of_leader = file_path + \"LeaderPokemon.csv\"\n",
    "        arena_leader = file_path + \"ArenaLeader.csv\"\n",
    "        move_of_in        = file_path + \"MovesOfInterest.csv\"\n",
    "        list_of_files.append(encounter_pokemon)\n",
    "        list_of_files.append(pokemon_of_leader)\n",
    "        list_of_files.append(arena_leader)\n",
    "        list_of_files.append(move_of_in)  \n",
    "    else:\n",
    "        print(\"[-] Arena not found...\")\n",
    "    return list_of_files\n",
    "\n",
    "def getVersionPath(version, file_path):\n",
    "    if version == \"red\":\n",
    "        file_path += \"red\"\n",
    "        return file_path\n",
    "    elif version == \"blue\":\n",
    "        file_path += \"blue\"\n",
    "        return file_path"
   ]
  },
  {
   "cell_type": "code",
   "execution_count": 17,
   "id": "19b4f81a-c620-44e1-9406-64bde2d92141",
   "metadata": {
    "tags": []
   },
   "outputs": [],
   "source": [
    "def loadStones(arena):\n",
    "    #[\"moon-stone\", \"fire-stone\", \"thunder-stone\", \"water-stone\", \"leaf-stone\"]\n",
    "    ## TODO: add arena stone data\n",
    "    list_of_stones = []\n",
    "    \n",
    "    arena1_stones = []\n",
    "    arena2_stones =  arena1_stones + [\"moon-stone\"]\n",
    "    arena3_stones = arena2_stones + []\n",
    "    \n",
    "    if arena == \"arena-1\":\n",
    "        pass\n",
    "    elif arena == \"arena-2\":\n",
    "        for stone in arena2_stones:  \n",
    "            list_of_stones.append(stone)\n",
    "    elif arena == \"arena-3\":\n",
    "        for stone in arena3_stones:\n",
    "            list_of_stones.append(stone)\n",
    "    return list_of_stones"
   ]
  },
  {
   "cell_type": "code",
   "execution_count": 274,
   "id": "56073641-7d02-46fd-abeb-9c2fb95a27cb",
   "metadata": {
    "tags": []
   },
   "outputs": [],
   "source": [
    "# STATIC CSV FILES\n",
    "pokemonTable = pd.read_csv('../Data/Pokemon.csv')\n",
    "pokemonTypeTable = pd.read_csv('../Data/PokemonTypeChart.csv')\n",
    "\n",
    "# SETUP ARENA-1\n",
    "ARENA = 'arena-1'\n",
    "GAME = 'blue'\n",
    "csvPaths = loadFiles(GAME, ARENA)\n",
    "\n",
    "encounterable_pokemonTable = pd.read_csv(csvPaths[0])\n",
    "\n",
    "# [name, moves, encounter, originIfEvo, movesByVM, movesByTM]\n",
    "encounterable_pokemonParsed = []\n",
    "\n",
    "for row in encounterable_pokemonTable.values.tolist():\n",
    "    row = row[1:]\n",
    "    moves = row[1]\n",
    "    moves = moves.replace(\"'\", \"\\\"\") \n",
    "    moves = json.loads(moves)\n",
    "    row[1] = moves\n",
    "    \n",
    "    VMmoves = row[4]\n",
    "    VMmoves = VMmoves.replace(\"'\", \"\\\"\") \n",
    "    VMmoves = json.loads(VMmoves)\n",
    "    row[4] = VMmoves\n",
    "    \n",
    "    TMmoves = row[5]\n",
    "    TMmoves = TMmoves.replace(\"'\", \"\\\"\") \n",
    "    TMmoves = json.loads(TMmoves)\n",
    "    row[5] = TMmoves\n",
    "   \n",
    "    encounterable_pokemonParsed.append(row)\n",
    "    \n",
    "leader_pokemon =  pd.read_csv(csvPaths[1])\n",
    "\n",
    "## um moves von leaderPokemon zu parsen\n",
    "#test = leader_pokemon.loc[leader_pokemon['name']=='geodude']['moves'].values.tolist()[0].replace(\"'\", \"\\\"\") \n",
    "#json.loads(test)\n",
    "\n",
    "arena_leader = pd.read_csv(csvPaths[2])\n",
    "arena_leader_parsed = []\n",
    "for row in arena_leader.values.tolist(): \n",
    "    moves = row[3]\n",
    "    moves = moves.replace(\"'\", \"\\\"\") \n",
    "    moves = json.loads(moves)\n",
    "    row[3] = moves\n",
    "    arena_leader_parsed.append(row[1:])\n",
    "\n",
    "moves_of_interest = pd.read_csv(csvPaths[3])\n",
    "\n",
    "## extracted Variables from DATAFRAME\n",
    "AVERAGE_LEVEL = arena_leader['averageLevel'][0]\n",
    "\n",
    "## Variables for each Arena\n",
    "arena1_Options = loadStones(ARENA)\n",
    "\n",
    "## get leaderPokemonData \n",
    "# [stats, moves]\n",
    "leaderPokemonData = {}\n",
    "for leaderPokemon in arena_leader_parsed[0][2]:\n",
    "    moves = leader_pokemon.loc[leader_pokemon['name']==leaderPokemon]['moves'].values.tolist()[0].replace(\"'\", \"\\\"\") \n",
    "    moves = json.loads(moves)\n",
    "    moveDict = {}\n",
    "    for move in moves:\n",
    "        moveData = moves_of_interest.loc[moves_of_interest['name']==move]\n",
    "        moveDict[move] = moveData\n",
    "    leaderPokemonData[leaderPokemon] = [ extractPokemonStatsFromTable(leaderPokemon), moveDict] \n"
   ]
  },
  {
   "cell_type": "code",
   "execution_count": 233,
   "id": "debb5af4-22d0-4cb2-8cea-4c3cb332065f",
   "metadata": {},
   "outputs": [],
   "source": [
    "# extracts all data of interest for the enemy leader pokemon\n",
    "def extractPokemonStatsFromTable(pokemonName):\n",
    "    pokeRow = pokemonTable.loc[pokemonTable['Name'] == pokemonName]\n",
    "    return pokeRow"
   ]
  },
  {
   "cell_type": "code",
   "execution_count": 192,
   "id": "4be55c23-ca74-483a-a140-6e26e97307d0",
   "metadata": {
    "tags": []
   },
   "outputs": [],
   "source": [
    "# spuckt liste von Pokemon aus welche zur verf. stehen\n",
    "\n",
    "# @para1: encounterable_pokemon - liste von antreffbaren pokemon :: [index,name,encounterOrEvolutionTrigger,...]\n",
    "# @para2: averageLevel - averageLevel des ArenaLeiters\n",
    "# @para3: stones_available - Die Entw. Steine welche zur verfuegung stehen\n",
    "# @return: poss_team_member - liste von pokemon welche mit dem averageLevel und den vorhanden Steinen erreichbar sind :: [index,name,encounterOrEvolutionTrigger,...]\n",
    "def possPokemonArenaNLeaderM(encounterable_pokemon, averageLevel, stones_available):\n",
    "    \n",
    "    encounterable_pokemon_available = []\n",
    "    for pokemon in encounterable_pokemon:\n",
    "        encounterOrEvolutionTrigger = pokemon[2]\n",
    "        if encounterOrEvolutionTrigger.isnumeric() and int(encounterOrEvolutionTrigger) <= averageLevel:\n",
    "            encounterable_pokemon_available.append(pokemon)\n",
    "        elif encounterOrEvolutionTrigger == 'walk' or encounterOrEvolutionTrigger == 'starter' or encounterOrEvolutionTrigger == 'special' or encounterOrEvolutionTrigger == 'trade':\n",
    "            encounterable_pokemon_available.append(pokemon)\n",
    "        elif encounterOrEvolutionTrigger in stones_available:\n",
    "            encounterable_pokemon_available.append(pokemon)\n",
    "    return encounterable_pokemon_available"
   ]
  },
  {
   "cell_type": "code",
   "execution_count": 351,
   "id": "8ad2afb4-6308-415b-a913-d6275903af17",
   "metadata": {
    "tags": []
   },
   "outputs": [],
   "source": [
    "possiblePokemon = possPokemonArenaNLeaderM(encounterable_pokemonParsed, AVERAGE_LEVEL, arena1_Options)"
   ]
  },
  {
   "cell_type": "code",
   "execution_count": 164,
   "id": "6b7363a2-2814-4705-9c6f-550ccd3e0890",
   "metadata": {},
   "outputs": [],
   "source": [
    "def extractMoveData(moveName):\n",
    "    return moves_of_interest.loc[moves_of_interest['name']==moveName]"
   ]
  },
  {
   "cell_type": "code",
   "execution_count": 204,
   "id": "6bbbc0a8-20a2-44d9-8b55-987ebd28fcac",
   "metadata": {},
   "outputs": [],
   "source": [
    "# extracts available move names from pokemon list item\n",
    "def calcAvailableMoveNamesForPokemon(ourPokemonAndMoves, averageLevel):\n",
    "    moves = []\n",
    "    # LEVEL UP MOVES\n",
    "    for move in ourPokemonAndMoves[1]:\n",
    "        if move['levelLearnedAt'] <= averageLevel:\n",
    "            moves.append(move['name'])\n",
    "    # VM MOVES\n",
    "    for move in ourPokemonAndMoves[4]:\n",
    "        moves.append(move)\n",
    "    # TM MOVES\n",
    "    for move in ourPokemonAndMoves[5]:\n",
    "        moves.append(move)\n",
    "    return moves"
   ]
  },
  {
   "cell_type": "code",
   "execution_count": 383,
   "id": "2de17973-9488-4b94-870c-71690e02c9b4",
   "metadata": {},
   "outputs": [],
   "source": [
    "def getMoveData(pokemonMoveNames):\n",
    "    moveData = []\n",
    "    for move in pokemonMoveNames:\n",
    "        moveData.append(extractMoveData(move))\n",
    "    return moveData"
   ]
  },
  {
   "cell_type": "code",
   "execution_count": 286,
   "id": "a4648ce5-bbd4-4931-8d4b-23f39a78a951",
   "metadata": {},
   "outputs": [],
   "source": [
    "def retreiveMoveEffectiveness(moveType, vsMoveType):\n",
    "    return pokemonTypeTable.loc[pokemonTypeTable['type'] == moveType][vsMoveType].values[0]"
   ]
  },
  {
   "cell_type": "code",
   "execution_count": 294,
   "id": "fa8ad7b9-6ec6-4c4f-b36f-e2fd6f7b82a9",
   "metadata": {},
   "outputs": [],
   "source": [
    "avail_moves = calcAvailableMoveNamesForPokemon(encounterable_pokemonParsed[0], AVERAGE_LEVEL)\n",
    "\n",
    "testPokeObject = createOurPokemonObject(encounterable_pokemonParsed[0][0], avail_moves)"
   ]
  },
  {
   "cell_type": "code",
   "execution_count": 409,
   "id": "f2cb9ebb-d240-4169-8086-2eef7dab5eca",
   "metadata": {
    "tags": []
   },
   "outputs": [],
   "source": [
    "def calcEffectiveMovesVs(ourPokeMoves, theirPoke):\n",
    "    theirType1 = theirPoke[0]['Type 1'].values[0].lower()\n",
    "    theirType2 = theirPoke[0]['Type 2'].values[0].lower()\n",
    "    effectivenessList = []\n",
    "    for move in ourPokeMoves:\n",
    "        moveType = move['moveType'].values[0]\n",
    "        moveName =  move['name'].values[0]\n",
    "        effective = retreiveMoveEffectiveness(moveType, theirType1)\n",
    "        effectivenessList.append({'name':moveName, 'effective':effective})\n",
    "    effectivenessList = sorted(effectivenessList, key=lambda d: d['effective'],reverse=True) \n",
    "    return(effectivenessList)"
   ]
  },
  {
   "cell_type": "code",
   "execution_count": 410,
   "id": "ae786ba6-63c8-4898-9348-caecb378d2c9",
   "metadata": {},
   "outputs": [
    {
     "data": {
      "text/plain": [
       "[{'name': 'sand-attack', 'effective': 2.0},\n",
       " {'name': 'gust', 'effective': 0.5},\n",
       " {'name': 'quick-attack', 'effective': 0.5}]"
      ]
     },
     "execution_count": 410,
     "metadata": {},
     "output_type": "execute_result"
    }
   ],
   "source": [
    "calcEffectiveMovesVs(testPokeObject[2], leaderPokemonData['onix'])"
   ]
  },
  {
   "cell_type": "code",
   "execution_count": 417,
   "id": "617b2e20-81c6-45b4-be31-1aab181e493f",
   "metadata": {},
   "outputs": [],
   "source": [
    "def calcAllPokemonVsArenaPokemon(possiblePokemons, arenaPokemon, averageLevel):\n",
    "    pokemonWithData = []\n",
    "    for pokemon in possiblePokemon:\n",
    "        pokemonName = pokemon[0]\n",
    "        availableMoves = calcAvailableMoveNamesForPokemon(pokemon, averageLevel)\n",
    "        availableMove_Data = getMoveData(availableMoves)\n",
    "        pokeBaseStats = extractPokemonStatsFromTable(pokemonName)\n",
    "        effectiveMoves = calcEffectiveMovesVs(availableMove_Data, arenaPokemon)\n",
    "        pokemonWithData.append({'name':pokemonName, 'moves':effectiveMoves, 'stats':pokeBaseStats})\n",
    "    return (pokemonWithData)\n"
   ]
  },
  {
   "cell_type": "code",
   "execution_count": 418,
   "id": "1cecf3e4-9edf-475a-b61e-7a7f10c213f6",
   "metadata": {},
   "outputs": [
    {
     "data": {
      "text/plain": [
       "[{'name': 'pidgey',\n",
       "  'moves': [{'name': 'sand-attack', 'effective': 2.0},\n",
       "   {'name': 'gust', 'effective': 0.5},\n",
       "   {'name': 'quick-attack', 'effective': 0.5}],\n",
       "  'stats':     Unnamed: 0   #    Name  Type 1  Type 2  Total  HP  Attack  Defense  \\\n",
       "  20          20  16  pidgey  Normal  Flying    251  40      45       40   \n",
       "  \n",
       "      Sp. Atk  Sp. Def  Speed  Generation  Legendary  \n",
       "  20       35       35     56           1      False  },\n",
       " {'name': 'rattata',\n",
       "  'moves': [{'name': 'tackle', 'effective': 0.5},\n",
       "   {'name': 'tail-whip', 'effective': 0.5},\n",
       "   {'name': 'quick-attack', 'effective': 0.5}],\n",
       "  'stats':     Unnamed: 0   #     Name  Type 1 Type 2  Total  HP  Attack  Defense  \\\n",
       "  24          24  19  rattata  Normal    NaN    253  30      56       35   \n",
       "  \n",
       "      Sp. Atk  Sp. Def  Speed  Generation  Legendary  \n",
       "  24       25       35     72           1      False  },\n",
       " {'name': 'caterpie',\n",
       "  'moves': [{'name': 'string-shot', 'effective': 1.0},\n",
       "   {'name': 'tackle', 'effective': 0.5}],\n",
       "  'stats':     Unnamed: 0   #      Name Type 1 Type 2  Total  HP  Attack  Defense  \\\n",
       "  13          13  10  caterpie    Bug    NaN    195  45      30       35   \n",
       "  \n",
       "      Sp. Atk  Sp. Def  Speed  Generation  Legendary  \n",
       "  13       20       20     45           1      False  },\n",
       " {'name': 'metapod',\n",
       "  'moves': [{'name': 'harden', 'effective': 0.5}],\n",
       "  'stats':     Unnamed: 0   #     Name Type 1 Type 2  Total  HP  Attack  Defense  \\\n",
       "  14          14  11  metapod    Bug    NaN    205  50      20       55   \n",
       "  \n",
       "      Sp. Atk  Sp. Def  Speed  Generation  Legendary  \n",
       "  14       25       25     30           1      False  },\n",
       " {'name': 'weedle',\n",
       "  'moves': [{'name': 'string-shot', 'effective': 1.0},\n",
       "   {'name': 'poison-sting', 'effective': 0.5}],\n",
       "  'stats':     Unnamed: 0   #    Name Type 1  Type 2  Total  HP  Attack  Defense  \\\n",
       "  16          16  13  weedle    Bug  Poison    195  40      35       30   \n",
       "  \n",
       "      Sp. Atk  Sp. Def  Speed  Generation  Legendary  \n",
       "  16       20       20     50           1      False  },\n",
       " {'name': 'kakuna',\n",
       "  'moves': [{'name': 'harden', 'effective': 0.5}],\n",
       "  'stats':     Unnamed: 0   #    Name Type 1  Type 2  Total  HP  Attack  Defense  \\\n",
       "  17          17  14  kakuna    Bug  Poison    205  45      25       50   \n",
       "  \n",
       "      Sp. Atk  Sp. Def  Speed  Generation  Legendary  \n",
       "  17       25       25     35           1      False  },\n",
       " {'name': 'pikachu',\n",
       "  'moves': [{'name': 'thunder-shock', 'effective': 1.0},\n",
       "   {'name': 'thunder-wave', 'effective': 1.0},\n",
       "   {'name': 'growl', 'effective': 0.5}],\n",
       "  'stats':     Unnamed: 0   #     Name    Type 1 Type 2  Total  HP  Attack  Defense  \\\n",
       "  30          30  25  pikachu  Electric    NaN    320  35      55       40   \n",
       "  \n",
       "      Sp. Atk  Sp. Def  Speed  Generation  Legendary  \n",
       "  30       50       50     90           1      False  },\n",
       " {'name': 'spearow',\n",
       "  'moves': [{'name': 'growl', 'effective': 0.5},\n",
       "   {'name': 'peck', 'effective': 0.5},\n",
       "   {'name': 'leer', 'effective': 0.5}],\n",
       "  'stats':     Unnamed: 0   #     Name  Type 1  Type 2  Total  HP  Attack  Defense  \\\n",
       "  26          26  21  spearow  Normal  Flying    262  40      60       30   \n",
       "  \n",
       "      Sp. Atk  Sp. Def  Speed  Generation  Legendary  \n",
       "  26       31       31     70           1      False  },\n",
       " {'name': 'nidoran-f',\n",
       "  'moves': [{'name': 'tackle', 'effective': 0.5},\n",
       "   {'name': 'growl', 'effective': 0.5},\n",
       "   {'name': 'scratch', 'effective': 0.5}],\n",
       "  'stats':     Unnamed: 0   #       Name  Type 1 Type 2  Total  HP  Attack  Defense  \\\n",
       "  34          34  29  nidoran-f  Poison    NaN    275  55      47       52   \n",
       "  \n",
       "      Sp. Atk  Sp. Def  Speed  Generation  Legendary  \n",
       "  34       40       40     41           1      False  },\n",
       " {'name': 'nidoran-m',\n",
       "  'moves': [{'name': 'tackle', 'effective': 0.5},\n",
       "   {'name': 'leer', 'effective': 0.5},\n",
       "   {'name': 'horn-attack', 'effective': 0.5}],\n",
       "  'stats':     Unnamed: 0   #       Name  Type 1 Type 2  Total  HP  Attack  Defense  \\\n",
       "  37          37  32  nidoran-m  Poison    NaN    273  46      57       40   \n",
       "  \n",
       "      Sp. Atk  Sp. Def  Speed  Generation  Legendary  \n",
       "  37       40       40     50           1      False  },\n",
       " {'name': 'bulbasaur',\n",
       "  'moves': [{'name': 'leech-seed', 'effective': 2.0},\n",
       "   {'name': 'vine-whip', 'effective': 2.0},\n",
       "   {'name': 'tackle', 'effective': 0.5},\n",
       "   {'name': 'growl', 'effective': 0.5}],\n",
       "  'stats':    Unnamed: 0  #       Name Type 1  Type 2  Total  HP  Attack  Defense  \\\n",
       "  0           0  1  bulbasaur  Grass  Poison    318  45      49       49   \n",
       "  \n",
       "     Sp. Atk  Sp. Def  Speed  Generation  Legendary  \n",
       "  0       65       65     45           1      False  },\n",
       " {'name': 'charmander',\n",
       "  'moves': [{'name': 'scratch', 'effective': 0.5},\n",
       "   {'name': 'growl', 'effective': 0.5},\n",
       "   {'name': 'ember', 'effective': 0.5}],\n",
       "  'stats':    Unnamed: 0  #        Name Type 1 Type 2  Total  HP  Attack  Defense  \\\n",
       "  4           4  4  charmander   Fire    NaN    309  39      52       43   \n",
       "  \n",
       "     Sp. Atk  Sp. Def  Speed  Generation  Legendary  \n",
       "  4       60       50     65           1      False  },\n",
       " {'name': 'squirtle',\n",
       "  'moves': [{'name': 'bubble', 'effective': 2.0},\n",
       "   {'name': 'tackle', 'effective': 0.5},\n",
       "   {'name': 'tail-whip', 'effective': 0.5}],\n",
       "  'stats':    Unnamed: 0  #      Name Type 1 Type 2  Total  HP  Attack  Defense  Sp. Atk  \\\n",
       "  9           9  7  squirtle  Water    NaN    314  44      48       65       50   \n",
       "  \n",
       "     Sp. Def  Speed  Generation  Legendary  \n",
       "  9       64     43           1      False  },\n",
       " {'name': 'butterfree',\n",
       "  'moves': [{'name': 'confusion', 'effective': 1.0}],\n",
       "  'stats':     Unnamed: 0   #        Name Type 1  Type 2  Total  HP  Attack  Defense  \\\n",
       "  15          15  12  butterfree    Bug  Flying    395  60      45       50   \n",
       "  \n",
       "      Sp. Atk  Sp. Def  Speed  Generation  Legendary  \n",
       "  15       90       80     70           1      False  },\n",
       " {'name': 'beedrill',\n",
       "  'moves': [{'name': 'fury-attack', 'effective': 0.5}],\n",
       "  'stats':     Unnamed: 0   #      Name Type 1  Type 2  Total  HP  Attack  Defense  \\\n",
       "  18          18  15  beedrill    Bug  Poison    395  65      90       40   \n",
       "  \n",
       "      Sp. Atk  Sp. Def  Speed  Generation  Legendary  \n",
       "  18       45       80     75           1      False  }]"
      ]
     },
     "execution_count": 418,
     "metadata": {},
     "output_type": "execute_result"
    }
   ],
   "source": [
    "calcAllPokemonVsArenaPokemon(encounterable_pokemonParsed, leaderPokemonData['geodude'], AVERAGE_LEVEL)"
   ]
  },
  {
   "cell_type": "code",
   "execution_count": null,
   "id": "f077a641-333c-4861-af56-e5391664c6fe",
   "metadata": {},
   "outputs": [],
   "source": []
  }
 ],
 "metadata": {
  "kernelspec": {
   "display_name": "Python 3.8.8 64-bit ('base': conda)",
   "language": "python",
   "name": "python388jvsc74a57bd045d6d7d53af0fd0bf88c7a08674bcc9ed373bd0cf6f76311c6d74ca621b7f474"
  },
  "language_info": {
   "codemirror_mode": {
    "name": "ipython",
    "version": 3
   },
   "file_extension": ".py",
   "mimetype": "text/x-python",
   "name": "python",
   "nbconvert_exporter": "python",
   "pygments_lexer": "ipython3",
   "version": "3.8.8"
  }
 },
 "nbformat": 4,
 "nbformat_minor": 5
}
