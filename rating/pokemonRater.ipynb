{
 "cells": [
  {
   "cell_type": "code",
   "execution_count": 2,
   "id": "12cb03de-50f2-435b-bb0e-aff011be4dcc",
   "metadata": {},
   "outputs": [],
   "source": [
    "import pandas as pd\n",
    "import json as json"
   ]
  },
  {
   "cell_type": "code",
   "execution_count": 3,
   "id": "b141d444-94f4-46c5-8bc4-bf3937f319b2",
   "metadata": {
    "jupyter": {
     "source_hidden": true
    },
    "tags": []
   },
   "outputs": [],
   "source": [
    "def loadFiles(version, arena):\n",
    "    file_path     = \"../data/\"\n",
    "    list_of_files = []\n",
    "    arena_list    = [\"arena-1\", \"arena-2\", \"arena-3\", \"arena-4\", \"arena-5\", \"arena-6\", \"arena-7\", \"arena-8\", \"arena-9\",]\n",
    "    file_path = getVersionPath(version, file_path)\n",
    "    if arena in arena_list:   \n",
    "        file_path        += \"/\" + arena + \"/\"\n",
    "        encounter_pokemon = file_path + \"EncounterablePokemon.csv\"\n",
    "        pokemon_of_leader = file_path + \"LeaderPokemon.csv\"\n",
    "        arena_leader = file_path + \"ArenaLeader.csv\"\n",
    "        move_of_in        = file_path + \"MovesOfInterest.csv\"\n",
    "        list_of_files.append(encounter_pokemon)\n",
    "        list_of_files.append(pokemon_of_leader)\n",
    "        list_of_files.append(arena_leader)\n",
    "        list_of_files.append(move_of_in)  \n",
    "    else:\n",
    "        print(\"[-] Arena not found...\")\n",
    "    return list_of_files\n",
    "\n",
    "def getVersionPath(version, file_path):\n",
    "    if version == \"red\":\n",
    "        file_path += \"red\"\n",
    "        return file_path\n",
    "    elif version == \"blue\":\n",
    "        file_path += \"blue\"\n",
    "        return file_path"
   ]
  },
  {
   "cell_type": "code",
   "execution_count": 4,
   "id": "19b4f81a-c620-44e1-9406-64bde2d92141",
   "metadata": {
    "jupyter": {
     "source_hidden": true
    },
    "tags": []
   },
   "outputs": [],
   "source": [
    "def loadStones(arena):\n",
    "    #[\"moon-stone\", \"fire-stone\", \"thunder-stone\", \"water-stone\", \"leaf-stone\"]\n",
    "    ## TODO: add arena stone data\n",
    "    list_of_stones = []\n",
    "    \n",
    "    arena1_stones = []\n",
    "    arena2_stones = arena1_stones + [\"moon-stone\"]\n",
    "    arena3_stones = arena2_stones + [\"fire-stone\", \"thunder-stone\" , \"water-stone\", \"leaf-stone\" ]\n",
    "    \n",
    "    if arena == \"arena-1\":\n",
    "        pass\n",
    "    elif arena == \"arena-2\":\n",
    "        for stone in arena2_stones:  \n",
    "            list_of_stones.append(stone)\n",
    "    elif arena == \"arena-3\":\n",
    "        for stone in arena3_stones:\n",
    "            list_of_stones.append(stone)\n",
    "    else:\n",
    "        for stone in arena3_stones:\n",
    "            list_of_stones.append(stone)\n",
    "    return list_of_stones"
   ]
  },
  {
   "cell_type": "code",
   "execution_count": 5,
   "id": "debb5af4-22d0-4cb2-8cea-4c3cb332065f",
   "metadata": {
    "jupyter": {
     "source_hidden": true
    },
    "tags": []
   },
   "outputs": [],
   "source": [
    "# extracts all data of interest for the enemy leader pokemon\n",
    "def extractPokemonStatsFromTable(pokemonName):\n",
    "    pokeRow = pokemonTable.loc[pokemonTable['Name'] == pokemonName]\n",
    "    return pokeRow"
   ]
  },
  {
   "cell_type": "code",
   "execution_count": 6,
   "id": "4be55c23-ca74-483a-a140-6e26e97307d0",
   "metadata": {
    "jupyter": {
     "source_hidden": true
    },
    "tags": []
   },
   "outputs": [],
   "source": [
    "# spuckt liste von Pokemon aus welche zur verf. stehen\n",
    "\n",
    "# @para1: encounterable_pokemon - liste von antreffbaren pokemon :: [index,name,encounterOrEvolutionTrigger,...]\n",
    "# @para2: averageLevel - averageLevel des ArenaLeiters\n",
    "# @para3: stones_available - Die Entw. Steine welche zur verfuegung stehen\n",
    "# @return: poss_team_member - liste von pokemon welche mit dem averageLevel und den vorhanden Steinen erreichbar sind :: [index,name,encounterOrEvolutionTrigger,...]\n",
    "def possPokemonArenaNLeaderM(encounterable_pokemon, averageLevel, stones_available):\n",
    "    \n",
    "    encounterable_pokemon_available = []\n",
    "    for pokemon in encounterable_pokemon:\n",
    "        encounterOrEvolutionTrigger = pokemon[2]\n",
    "        if encounterOrEvolutionTrigger.isnumeric() and int(encounterOrEvolutionTrigger) <= averageLevel:\n",
    "            encounterable_pokemon_available.append(pokemon)\n",
    "        elif encounterOrEvolutionTrigger == 'walk' or encounterOrEvolutionTrigger == 'starter' or encounterOrEvolutionTrigger == 'special' or encounterOrEvolutionTrigger == 'trade':\n",
    "            encounterable_pokemon_available.append(pokemon)\n",
    "        elif encounterOrEvolutionTrigger in stones_available:\n",
    "            encounterable_pokemon_available.append(pokemon)\n",
    "    return encounterable_pokemon_available"
   ]
  },
  {
   "cell_type": "code",
   "execution_count": 7,
   "id": "6b7363a2-2814-4705-9c6f-550ccd3e0890",
   "metadata": {
    "jupyter": {
     "source_hidden": true
    },
    "tags": []
   },
   "outputs": [],
   "source": [
    "def extractMoveData(moveName):\n",
    "    return moves_of_interest.loc[moves_of_interest['name']==moveName]\n",
    "\n",
    "#  extractMoveData('gust')\n",
    "\n",
    "# returns moveTable row"
   ]
  },
  {
   "cell_type": "code",
   "execution_count": 8,
   "id": "2de17973-9488-4b94-870c-71690e02c9b4",
   "metadata": {
    "jupyter": {
     "source_hidden": true
    },
    "tags": []
   },
   "outputs": [],
   "source": [
    "def getMoveData(pokemonMoveNames):\n",
    "    moveData = []\n",
    "    for move in pokemonMoveNames:\n",
    "        moveData.append(extractMoveData(move))\n",
    "    return moveData\n",
    "\n",
    "# returns array of moveTable rows"
   ]
  },
  {
   "cell_type": "code",
   "execution_count": 9,
   "id": "6bbbc0a8-20a2-44d9-8b55-987ebd28fcac",
   "metadata": {
    "jupyter": {
     "source_hidden": true
    },
    "tags": []
   },
   "outputs": [],
   "source": [
    "# extracts available move names from pokemon list item\n",
    "\n",
    "# @param ourPokemonAndMoves:\n",
    "#    [ \n",
    "#       index 0: 'name',\n",
    "#       index 1: [{name:'moveName', levelLearnedAt: x}]\n",
    "#       index 2: encounterOrEvoTrigger -> nur 1 starter pokemon erlaubt\n",
    "#       index 3: origin if evolution -> nur 1 starter evolution erlaubt\n",
    "#       index 4: movesByTM\n",
    "#       index 5: movesByVM\n",
    "#    ]\n",
    "\n",
    "# @param averageLevel: int -> average LeaderPokemon level\n",
    "\n",
    "\n",
    "def calcAvailableMoveNamesForPokemon(ourPokemonAndMoves, averageLevel):\n",
    "    moves = []\n",
    "    # LEVEL UP MOVES\n",
    "    for move in ourPokemonAndMoves[1]:\n",
    "        if move['levelLearnedAt'] <= averageLevel:\n",
    "            moves.append(move['name'])\n",
    "    # VM MOVES\n",
    "    for move in ourPokemonAndMoves[4]:\n",
    "        moves.append(move)\n",
    "    # TM MOVES\n",
    "    for move in ourPokemonAndMoves[5]:\n",
    "        moves.append(move)\n",
    "    return moves\n",
    "\n",
    "# returns array with moveNames:  ['gust', 'sand-attack', 'quick-attack']\n",
    "\n",
    "# calcAvailableMoveNamesForPokemon(possiblePokemon[0], 13)"
   ]
  },
  {
   "cell_type": "code",
   "execution_count": 10,
   "id": "a4648ce5-bbd4-4931-8d4b-23f39a78a951",
   "metadata": {
    "jupyter": {
     "source_hidden": true
    },
    "tags": []
   },
   "outputs": [],
   "source": [
    "def retreiveMoveEffectiveness(moveType, vsMoveType):\n",
    "    return pokemonTypeTable.loc[pokemonTypeTable['type'] == moveType][vsMoveType].values[0]\n",
    "\n",
    "# returns the effectiveness value from kaggleTable\n",
    "# 0.5 | 1 | 2"
   ]
  },
  {
   "cell_type": "code",
   "execution_count": null,
   "id": "d342a2c4-d4ba-4f16-8f97-dcd34a35e532",
   "metadata": {},
   "outputs": [],
   "source": []
  },
  {
   "cell_type": "code",
   "execution_count": null,
   "id": "43616eb3-151b-4212-a9ca-96beaf2c98e2",
   "metadata": {},
   "outputs": [],
   "source": []
  },
  {
   "cell_type": "code",
   "execution_count": 11,
   "id": "f74df944-3904-441c-a22d-4cda1a9422c3",
   "metadata": {
    "jupyter": {
     "source_hidden": true
    },
    "tags": []
   },
   "outputs": [],
   "source": [
    "## THIS FUNCTION IS ENTRY POINT AFTER SETTINGS\n",
    "\n",
    "def createAvailablePokemonWithAvailableMoves(encounterable_pokemonParsed, AVERAGE_LEVEL, arena1_Options):\n",
    "    pokeObjects = {}\n",
    "    availablePokemonArrays = possPokemonArenaNLeaderM(encounterable_pokemonParsed, AVERAGE_LEVEL, arena1_Options)\n",
    "    \n",
    "    for pokemonArrayElement in availablePokemonArrays: \n",
    "        name = pokemonArrayElement[0]\n",
    "        pokemonTableRow = extractPokemonStatsFromTable(name)\n",
    "        availableMoves = calcAvailableMoveNamesForPokemon(pokemonArrayElement, AVERAGE_LEVEL)\n",
    "        availableMoveDetails = getMoveData(availableMoves)\n",
    "        pokeObjects[name] = {}\n",
    "        pokeObjects[name]['name'] = name\n",
    "        pokeObjects[name]['stats'] = pokemonTableRow\n",
    "        pokeObjects[name]['moves'] = availableMoveDetails\n",
    "        pokeObjects[name]['origin'] = pokemonArrayElement[2]\n",
    "        pokeObjects[name]['originIfEvo'] = pokemonArrayElement[3]\n",
    "        pokeObjects[name]['movesVs'] = {}\n",
    "        pokeObjects[name]['scoreVs'] = {}\n",
    "        pokeObjects[name]['actualMovesVs'] = {}\n",
    "        \n",
    "    return pokeObjects\n",
    "\n",
    "# returns { pokemonName: {stats: pokeStatTableRow, moves: availableMovesTableRow}}"
   ]
  },
  {
   "cell_type": "code",
   "execution_count": 12,
   "id": "f2cb9ebb-d240-4169-8086-2eef7dab5eca",
   "metadata": {
    "jupyter": {
     "source_hidden": true
    },
    "tags": []
   },
   "outputs": [],
   "source": [
    "def calcEffectiveMovesVs(pokemonObject, theirPoke):\n",
    "    theirType1 = theirPoke[0]['Type 1'].values[0].lower()\n",
    "    theirType2 = theirPoke[0]['Type 2'].values[0]\n",
    "    \n",
    "    theirAtk = theirPoke[0]['Attack'].values[0]\n",
    "    theirDefense = theirPoke[0]['Defense'].values[0]\n",
    "    theirSpAtk = theirPoke[0]['Sp. Atk'].values[0]\n",
    "    theirSpDefense = theirPoke[0]['Sp. Def'].values[0]\n",
    "    \n",
    "    ourAtk = pokemonObject['stats']['Attack'].values[0]\n",
    "    ourDefense = pokemonObject['stats']['Defense'].values[0]\n",
    "    ourSpAtk = pokemonObject['stats']['Sp. Atk'].values[0]\n",
    "    ourSpDefense = pokemonObject['stats']['Sp. Def'].values[0]\n",
    "    \n",
    "    type2Available = False\n",
    "    \n",
    "    if isinstance(theirType2, float):\n",
    "        pass\n",
    "    else:\n",
    "        theirType2 = theirType2.lower()\n",
    "        type2Available = True\n",
    "    effectivenessList = []\n",
    "    \n",
    "    ourPokeMoves = pokemonObject['moves']\n",
    "    for move in ourPokeMoves:\n",
    "        if len(move['moveType'].values) > 0:\n",
    "            moveType = move['moveType'].values[0]\n",
    "            #\n",
    "            damageClass = move['damageClass'].values[0]\n",
    "            power = move['power'].values[0]\n",
    "            movePP = move['pp'].values[0]\n",
    "            movePrio = move['priority'].values[0]\n",
    "            moveAccuracy = move['accuracy'].values[0]\n",
    "            #\n",
    "            \n",
    "            moveName =  move['name'].values[0]\n",
    "            effective = retreiveMoveEffectiveness(moveType, theirType1)\n",
    "            if type2Available:\n",
    "                effective2 = retreiveMoveEffectiveness(moveType, theirType2)\n",
    "                effective = effective * effective2\n",
    "\n",
    "            atkVsDefense = 0\n",
    "            if(damageClass == 'status'):\n",
    "                atkVsDefense = 1.0\n",
    "                continue\n",
    "            elif(damageClass == 'special'):\n",
    "                atkVsDefense = ourSpAtk / theirSpDefense\n",
    "            elif(damageClass == 'physical'):\n",
    "                atkVsDefense = ourAtk / theirAtk\n",
    "            effectivenessList.append({'name':moveName, 'effective':effective, 'atkVsDefense':atkVsDefense, 'moveType': moveType, 'damageClass': damageClass, 'power':power, 'movePP': movePP, 'movePrio': movePrio, 'moveAccuracy': moveAccuracy })\n",
    "        else:\n",
    "            pass\n",
    "    effectivenessList = sorted(effectivenessList, key=lambda d: d['effective'],reverse=True) \n",
    "    return(effectivenessList)"
   ]
  },
  {
   "cell_type": "code",
   "execution_count": 13,
   "id": "1a3d1232-d0d6-4582-a6c4-6bcc090cd42d",
   "metadata": {
    "jupyter": {
     "source_hidden": true
    },
    "tags": []
   },
   "outputs": [],
   "source": [
    "## for each arenaLeaderPokemon append the moveEffectiveness to the pokemonObjects\n",
    "\n",
    "def appendMovesVsToPokemonObject(availablePokemonObjects, leaderPokemonData):\n",
    "    for key in availablePokemonObjects:\n",
    "        pokemonObject = availablePokemonObjects[key]\n",
    "        for leaderPokeKey in leaderPokemonData:\n",
    "            leaderPokemon = leaderPokemonData[leaderPokeKey]\n",
    "            pokemonObject['movesVs'][leaderPokeKey] = calcEffectiveMovesVs(pokemonObject, leaderPokemon)"
   ]
  },
  {
   "cell_type": "code",
   "execution_count": 14,
   "id": "4f5d7901-9034-4a57-8531-ca9ca6359d2b",
   "metadata": {
    "jupyter": {
     "source_hidden": true
    },
    "tags": []
   },
   "outputs": [],
   "source": [
    "def appendMoveScoreToPokemonObject(ourAvailablePokemonObjects, leaderPokemonData):\n",
    "     for ourName in ourAvailablePokemonObjects:\n",
    "            ourPokeObject = ourAvailablePokemonObjects[ourName]\n",
    "            for theirName in leaderPokemonData:\n",
    "                theirPoke = leaderPokemonData[theirName]\n",
    "                i = 0\n",
    "                score = 0\n",
    "                \n",
    "                highestScoreVs = 0\n",
    "                lowestScoreVs = 0\n",
    "                \n",
    "                actualMovesVs = []\n",
    "                \n",
    "                for move in ourPokeObject['movesVs'][theirName]:\n",
    "                    if(i<4):\n",
    "                        if move['name'] in actualMovesVs:\n",
    "                            continue\n",
    "                        else:\n",
    "                            score += move['effective'] * move['atkVsDefense']\n",
    "                            actualMovesVs.append(move['name'])\n",
    "                            i += 1\n",
    "                    else:\n",
    "                        break\n",
    "                        \n",
    "                        \n",
    "                theirAtk = theirPoke[0]['Attack'].values[0]\n",
    "                theirDefense = theirPoke[0]['Defense'].values[0]\n",
    "                theirSpAtk = theirPoke[0]['Sp. Atk'].values[0]\n",
    "                theirSpDefense = theirPoke[0]['Sp. Def'].values[0]\n",
    "                \n",
    "                ourAtk = ourPokeObject['stats']['Attack'].values[0]\n",
    "                ourDefense = ourPokeObject['stats']['Defense'].values[0]\n",
    "                ourSpAtk = ourPokeObject['stats']['Sp. Atk'].values[0]\n",
    "                ourSpDefense = ourPokeObject['stats']['Sp. Def'].values[0]\n",
    "                \n",
    "                for arenaPmove in theirPoke[1]:\n",
    "                    ourPokeType1 = ourPokeObject['stats']['Type 1'].values[0].lower()\n",
    "                    ourPokeType2 =  ourPokeObject['stats']['Type 2'].values[0]\n",
    "                    \n",
    "                    \n",
    "                    ourType2Available = False\n",
    "                    if isinstance(ourPokeType2, float):\n",
    "                        pass\n",
    "                    else:\n",
    "                        ourPokeType2 = ourPokeType2.lower()\n",
    "                        ourType2Available = True\n",
    "                    \n",
    "                    theirMoveType = theirPoke[1][arenaPmove]['moveType'].values[0]\n",
    "                    theirMoveDamageClass = theirPoke[1][arenaPmove]['damageClass'].values[0]\n",
    "                    atkVsDefense = 0\n",
    "                    if(theirMoveDamageClass == 'status'):\n",
    "                        continue\n",
    "                        effective = 1.0\n",
    "                        atkVsDefense = 1.0\n",
    "                    elif(theirMoveDamageClass == 'special'):\n",
    "                        atkVsDefense = theirSpAtk / ourSpDefense\n",
    "                    elif(theirMoveDamageClass == 'physical'):\n",
    "                        atkVsDefense = theirAtk / ourAtk\n",
    "                        \n",
    "                    effective = retreiveMoveEffectiveness(theirMoveType, ourPokeType1)\n",
    "                    if ourType2Available:\n",
    "                        effective2 = retreiveMoveEffectiveness(theirMoveType, ourPokeType2)\n",
    "                        effective = effective * effective2\n",
    "                    score -= effective * atkVsDefense\n",
    "                ourPokeObject['scoreVs'][theirName] = score\n",
    "                ourPokeObject['actualMovesVs'][theirName] = actualMovesVs\n"
   ]
  },
  {
   "cell_type": "code",
   "execution_count": 15,
   "id": "5664f335-bbe6-4099-ad66-7047207b800d",
   "metadata": {
    "jupyter": {
     "source_hidden": true
    },
    "tags": []
   },
   "outputs": [],
   "source": [
    "def chooseRankingForEachLeaderPokemon(availablePokemonObjects, leaderPokemonData):\n",
    "    bestTeamVsTheirPoke = {}\n",
    "    for theirName in leaderPokemonData:\n",
    "        theirPoke = leaderPokemonData[theirName]\n",
    "        bestTeamVsTheirPoke[theirName] = []\n",
    "        for ourName in availablePokemonObjects:\n",
    "            ourPoke = availablePokemonObjects[ourName]\n",
    "            bestTeamVsTheirPoke[theirName].append(ourPoke)\n",
    "        bestTeamVsTheirPoke[theirName] = sorted(bestTeamVsTheirPoke[theirName], key=lambda d: d['scoreVs'][theirName],reverse=True) \n",
    "    return bestTeamVsTheirPoke"
   ]
  },
  {
   "cell_type": "code",
   "execution_count": 16,
   "id": "be53d8d2-9244-43b2-9876-1a7482866c88",
   "metadata": {
    "jupyter": {
     "source_hidden": true
    },
    "scrolled": true,
    "tags": []
   },
   "outputs": [],
   "source": [
    "## RUN THIS AFTER RUNNING SETTINGS \n",
    "def runRating(encounterable_pokemonParsed, leaderPokemonData):\n",
    "    availablePokemonObjects = createAvailablePokemonWithAvailableMoves(encounterable_pokemonParsed, AVERAGE_LEVEL, arena1_Options)\n",
    "    appendMovesVsToPokemonObject(availablePokemonObjects, leaderPokemonData)\n",
    "    appendMoveScoreToPokemonObject(availablePokemonObjects, leaderPokemonData)\n",
    "    final = chooseRankingForEachLeaderPokemon(availablePokemonObjects, leaderPokemonData)\n",
    "    return final"
   ]
  },
  {
   "cell_type": "code",
   "execution_count": 17,
   "id": "6ff5a563-48bb-4cd9-a0f2-8d960bee2cfa",
   "metadata": {
    "jupyter": {
     "source_hidden": true
    },
    "scrolled": true,
    "tags": []
   },
   "outputs": [],
   "source": [
    "def printResults(final):\n",
    "    for leaderPokeName in final:\n",
    "        ourRanking = final[leaderPokeName]\n",
    "        print('--------------')\n",
    "        print('ranking for: ', leaderPokeName)\n",
    "\n",
    "\n",
    "        lowestScoreVs = {}\n",
    "        lowestScoreVs[leaderPokeName] = ourRanking[-1]['scoreVs'][leaderPokeName] * -1\n",
    "\n",
    "\n",
    "        highestScoreVs = {}\n",
    "        highestScoreVs[leaderPokeName] = ourRanking[0]['scoreVs'][leaderPokeName] + lowestScoreVs[leaderPokeName]\n",
    "\n",
    "        for poke in ourRanking:\n",
    "            print('   ', poke['name'], 'score: ', poke['scoreVs'][leaderPokeName])\n",
    "            print('      with moves:', poke['actualMovesVs'][leaderPokeName])\n",
    "            poke['percentScoreVs'] = {}\n",
    "            poke['percentScoreVs'][leaderPokeName] = (poke['scoreVs'][leaderPokeName] + lowestScoreVs[leaderPokeName]) / highestScoreVs[leaderPokeName]\n",
    "\n",
    "            print('      percentScore:',  poke['percentScoreVs'][leaderPokeName])\n",
    "\n",
    "           # print(poke['movesVs'][leaderPokeName])"
   ]
  },
  {
   "cell_type": "code",
   "execution_count": null,
   "id": "f077a641-333c-4861-af56-e5391664c6fe",
   "metadata": {},
   "outputs": [],
   "source": []
  },
  {
   "cell_type": "code",
   "execution_count": null,
   "id": "44d92033-772a-4181-b5d4-1346e4805539",
   "metadata": {},
   "outputs": [],
   "source": []
  },
  {
   "cell_type": "code",
   "execution_count": 18,
   "id": "56073641-7d02-46fd-abeb-9c2fb95a27cb",
   "metadata": {
    "scrolled": true,
    "tags": []
   },
   "outputs": [
    {
     "name": "stdout",
     "output_type": "stream",
     "text": [
      "--------------\n",
      "ranking for:  geodude\n",
      "    squirtle score:  5.3\n",
      "      with moves: ['bubble', 'tackle']\n",
      "      percentScore: 1.0\n",
      "    butterfree score:  1.2222222222222223\n",
      "      with moves: ['confusion']\n",
      "      percentScore: 0.5615292712066905\n",
      "    bulbasaur score:  1.1235969387755103\n",
      "      with moves: ['vine-whip', 'tackle']\n",
      "      percentScore: 0.5509244020188719\n",
      "    charmander score:  -0.2134615384615386\n",
      "      with moves: ['scratch', 'ember']\n",
      "      percentScore: 0.40715467328370547\n",
      "    beedrill score:  -0.32638888888888884\n",
      "      with moves: ['fury-attack']\n",
      "      percentScore: 0.39501194743130225\n",
      "    nidoran-m score:  -0.6910087719298245\n",
      "      with moves: ['tackle', 'horn-attack']\n",
      "      percentScore: 0.3558055083946425\n",
      "    rattata score:  -0.7285714285714286\n",
      "      with moves: ['tackle', 'quick-attack']\n",
      "      percentScore: 0.3517665130568356\n",
      "    pidgey score:  -0.9131944444444443\n",
      "      with moves: ['gust', 'quick-attack']\n",
      "      percentScore: 0.3319145758661888\n",
      "    spearow score:  -0.9583333333333333\n",
      "      with moves: ['peck']\n",
      "      percentScore: 0.3270609318996416\n",
      "    nidoran-f score:  -1.114627659574468\n",
      "      with moves: ['tackle', 'scratch']\n",
      "      percentScore: 0.31025509036833676\n",
      "    pikachu score:  -1.4545454545454546\n",
      "      with moves: ['thunder-shock']\n",
      "      percentScore: 0.27370478983382207\n",
      "    weedle score:  -2.1763392857142856\n",
      "      with moves: ['poison-sting']\n",
      "      percentScore: 0.19609254992319508\n",
      "    caterpie score:  -2.4791666666666665\n",
      "      with moves: ['tackle']\n",
      "      percentScore: 0.1635304659498208\n",
      "    kakuna score:  -3.2\n",
      "      with moves: []\n",
      "      percentScore: 0.08602150537634407\n",
      "    metapod score:  -4.0\n",
      "      with moves: []\n",
      "      percentScore: 0.0\n",
      "--------------\n",
      "ranking for:  onix\n",
      "    squirtle score:  2.165277777777778\n",
      "      with moves: ['bubble', 'tackle']\n",
      "      percentScore: 1.0\n",
      "    bulbasaur score:  2.144897959183673\n",
      "      with moves: ['vine-whip', 'tackle']\n",
      "      percentScore: 0.9977140568020322\n",
      "    beedrill score:  -0.5\n",
      "      with moves: ['fury-attack']\n",
      "      percentScore: 0.7010437762891416\n",
      "    butterfree score:  -1.0\n",
      "      with moves: ['confusion']\n",
      "      percentScore: 0.6449602741860103\n",
      "    nidoran-m score:  -1.1017543859649124\n",
      "      with moves: ['tackle', 'horn-attack']\n",
      "      percentScore: 0.6335467895474783\n",
      "    rattata score:  -1.1662698412698413\n",
      "      with moves: ['tackle', 'quick-attack']\n",
      "      percentScore: 0.6263102842009214\n",
      "    charmander score:  -1.3517094017094018\n",
      "      with moves: ['scratch', 'ember']\n",
      "      percentScore: 0.6055100842450898\n",
      "    spearow score:  -1.5833333333333335\n",
      "      with moves: ['peck']\n",
      "      percentScore: 0.579529521732357\n",
      "    nidoran-f score:  -1.8278959810874706\n",
      "      with moves: ['tackle', 'scratch']\n",
      "      percentScore: 0.552097662193024\n",
      "    pidgey score:  -2.111111111111111\n",
      "      with moves: ['gust', 'quick-attack']\n",
      "      percentScore: 0.5203302695123851\n",
      "    pikachu score:  -2.4545454545454546\n",
      "      with moves: ['thunder-shock']\n",
      "      percentScore: 0.48180826806781\n",
      "    weedle score:  -3.662698412698413\n",
      "      with moves: ['poison-sting']\n",
      "      percentScore: 0.34629337012885847\n",
      "    caterpie score:  -4.166666666666667\n",
      "      with moves: ['tackle']\n",
      "      percentScore: 0.2897647608661785\n",
      "    kakuna score:  -5.4\n",
      "      with moves: []\n",
      "      percentScore: 0.15142545567845456\n",
      "    metapod score:  -6.75\n",
      "      with moves: []\n",
      "      percentScore: 0.0\n"
     ]
    }
   ],
   "source": [
    "# SETTINGS --------------------------------------------- #\n",
    "# ARENA\n",
    "ARENA = 'arena-1'\n",
    "GAME = 'red'\n",
    "csvPaths = loadFiles(GAME, ARENA)\n",
    "# SETUP WHICH LEADER? 1 = first, 2 = second, ...\n",
    "#  arena-1 - arena-8 have ONE leader, arena-9 has 4+3\n",
    "LEADER = 1\n",
    "# ------------------------------------------------------ #\n",
    "\n",
    "\n",
    "\n",
    "\n",
    "# STATIC CSV FILES\n",
    "pokemonTable = pd.read_csv('../Data/Pokemon.csv')\n",
    "pokemonTypeTable = pd.read_csv('../Data/PokemonTypeChart.csv')\n",
    "\n",
    "\n",
    "\n",
    "encounterable_pokemonTable = pd.read_csv(csvPaths[0])\n",
    "\n",
    "# [name, moves, encounter, originIfEvo, movesByVM, movesByTM]\n",
    "encounterable_pokemonParsed = []\n",
    "\n",
    "for row in encounterable_pokemonTable.values.tolist():\n",
    "    row = row[1:]\n",
    "    moves = row[1]\n",
    "    moves = moves.replace(\"'\", \"\\\"\") \n",
    "    moves = json.loads(moves)\n",
    "    row[1] = moves\n",
    "    \n",
    "    VMmoves = row[4]\n",
    "    VMmoves = VMmoves.replace(\"'\", \"\\\"\") \n",
    "    VMmoves = json.loads(VMmoves)\n",
    "    row[4] = VMmoves\n",
    "    \n",
    "    TMmoves = row[5]\n",
    "    TMmoves = TMmoves.replace(\"'\", \"\\\"\") \n",
    "    TMmoves = json.loads(TMmoves)\n",
    "    row[5] = TMmoves\n",
    "   \n",
    "    encounterable_pokemonParsed.append(row)\n",
    "    \n",
    "leader_pokemon =  pd.read_csv(csvPaths[1])\n",
    "\n",
    "## um moves von leaderPokemon zu parsen\n",
    "#test = leader_pokemon.loc[leader_pokemon['name']=='geodude']['moves'].values.tolist()[0].replace(\"'\", \"\\\"\") \n",
    "#json.loads(test)\n",
    "\n",
    "arena_leader = pd.read_csv(csvPaths[2])\n",
    "arena_leader_parsed = []\n",
    "for row in arena_leader.values.tolist(): \n",
    "    moves = row[3]\n",
    "    moves = moves.replace(\"'\", \"\\\"\") \n",
    "    moves = json.loads(moves)\n",
    "    row[3] = moves\n",
    "    arena_leader_parsed.append(row[1:])\n",
    "\n",
    "moves_of_interest = pd.read_csv(csvPaths[3])\n",
    "\n",
    "## extracted Variables from DATAFRAME\n",
    "AVERAGE_LEVEL = arena_leader['averageLevel'][0]\n",
    "\n",
    "## Variables for each Arena\n",
    "arena1_Options = loadStones(ARENA)\n",
    "\n",
    "## get leaderPokemonData \n",
    "# [stats, moves]\n",
    "leaderPokemonData = {}\n",
    "for leaderPokemon in arena_leader_parsed[LEADER-1][2]:\n",
    "    moves = leader_pokemon.loc[leader_pokemon['name']==leaderPokemon]['moves'].values.tolist()[0].replace(\"'\", \"\\\"\") \n",
    "    moves = json.loads(moves)\n",
    "    moveDict = {}\n",
    "    for move in moves:\n",
    "        moveData = moves_of_interest.loc[moves_of_interest['name']==move]\n",
    "        moveDict[move] = moveData\n",
    "    leaderPokemonData[leaderPokemon] = [ extractPokemonStatsFromTable(leaderPokemon), moveDict] \n",
    "    \n",
    "    \n",
    "    \n",
    "    \n",
    "    \n",
    "#this is executing all calculations    \n",
    "plottableData = runRating(encounterable_pokemonParsed, leaderPokemonData)\n",
    "\n",
    "# this is printing some of the results\n",
    "printResults(plottableData)"
   ]
  },
  {
   "cell_type": "code",
   "execution_count": null,
   "id": "59b72753-2507-4a83-896f-3b2ee3d5ac34",
   "metadata": {},
   "outputs": [],
   "source": []
  }
 ],
 "metadata": {
  "kernelspec": {
   "display_name": "Python 3.8.8 64-bit ('base': conda)",
   "language": "python",
   "name": "python388jvsc74a57bd045d6d7d53af0fd0bf88c7a08674bcc9ed373bd0cf6f76311c6d74ca621b7f474"
  },
  "language_info": {
   "codemirror_mode": {
    "name": "ipython",
    "version": 3
   },
   "file_extension": ".py",
   "mimetype": "text/x-python",
   "name": "python",
   "nbconvert_exporter": "python",
   "pygments_lexer": "ipython3",
   "version": "3.8.8"
  }
 },
 "nbformat": 4,
 "nbformat_minor": 5
}
