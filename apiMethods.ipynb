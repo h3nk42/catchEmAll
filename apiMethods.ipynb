{
 "cells": [
  {
   "cell_type": "code",
   "execution_count": 1,
   "id": "66c37e80",
   "metadata": {},
   "outputs": [],
   "source": [
    "# HTTP REQUEST BASICS\n",
    "import requests\n",
    "import json\n",
    "def requestPartUrl(urlEnding):\n",
    "    url = f\"https://pokeapi.co/api/v2/{urlEnding}\"\n",
    "    response = requests.get(url)\n",
    "    response = json.loads(response.text)\n",
    "    return response\n",
    "def requestFullUrl(url):\n",
    "    response = requests.get(url)\n",
    "    response = json.loads(response.text)\n",
    "    return response"
   ]
  },
  {
   "cell_type": "code",
   "execution_count": null,
   "id": "2f33029d",
   "metadata": {},
   "outputs": [],
   "source": [
    "def requestLocation(location):\n",
    "    return requestPartUrl(f\"location/{location}\")"
   ]
  }
 ],
 "metadata": {
  "kernelspec": {
   "display_name": "Python 3.8.8 64-bit ('base': conda)",
   "language": "python",
   "name": "python388jvsc74a57bd045d6d7d53af0fd0bf88c7a08674bcc9ed373bd0cf6f76311c6d74ca621b7f474"
  },
  "language_info": {
   "codemirror_mode": {
    "name": "ipython",
    "version": 3
   },
   "file_extension": ".py",
   "mimetype": "text/x-python",
   "name": "python",
   "nbconvert_exporter": "python",
   "pygments_lexer": "ipython3",
   "version": "3.8.8"
  }
 },
 "nbformat": 4,
 "nbformat_minor": 5
}
