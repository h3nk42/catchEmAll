{
 "cells": [
  {
   "cell_type": "code",
   "execution_count": 149,
   "id": "c8c01f2a",
   "metadata": {},
   "outputs": [],
   "source": [
    "%run ./apiMethods.ipynb"
   ]
  },
  {
   "cell_type": "code",
   "execution_count": 114,
   "id": "5ba36c8b",
   "metadata": {},
   "outputs": [],
   "source": [
    "from enum import Enum\n",
    "class POKETYPE(Enum):\n",
    "    Normal = 'Normal'\n",
    "    Fire= 'Fire'\n",
    "    Water= 'Water'\n",
    "    Electric= 'Electric'\n",
    "    Grass= 'Grass'\n",
    "    Ice= 'Ice'\n",
    "    Fighting= 'Fighting'\n",
    "    Poison= 'Poison'\n",
    "    Ground= 'Ground'\n",
    "    Flying= 'Flying'\n",
    "    Psychic= 'Psychic'\n",
    "    Bug= 'Bug'\n",
    "    Rock= 'Rock'\n",
    "    Ghost= 'Ghost'\n",
    "    Dragon= 'Dragon'\n",
    "    Dark= 'Dark'\n",
    "    Steel= 'Steel'\n",
    "    Fairy= 'Fairy'\n"
   ]
  },
  {
   "cell_type": "code",
   "execution_count": 160,
   "id": "eb4782ff",
   "metadata": {},
   "outputs": [],
   "source": [
    "class Pokemon:\n",
    "    level = None\n",
    "    def __init__(self, name, moves, baseTypes):\n",
    "        self.name = name\n",
    "        self.moves = moves\n",
    "        self.baseTypes = baseTypes\n",
    "    def __str__(self):\n",
    "     return f\"<Pokemon!\\n{self.name},\\n lv:{self.level},\\n moves:{self.moves},\\n types:{self.baseTypes}\\n>\""
   ]
  },
  {
   "cell_type": "code",
   "execution_count": 135,
   "id": "4b95ac50",
   "metadata": {},
   "outputs": [],
   "source": [
    "class Area:\n",
    "    stepsThroughGrass = None\n",
    "    encounterablePokemons = None\n",
    "    def __init__(self, name, baseEncounterChance, json):\n",
    "        self.name = name\n",
    "        self.baseEncounterChance = baseEncounterChance\n",
    "        self.json = json\n",
    "    def __str__(self):\n",
    "         return f\"<Area!\\n{self.name},\\n steps:{self.stepsThroughGrass},\\n bChance:{self.baseEncounterChance},\\n encounters:{self.encounterablePokemons}\\n>\""
   ]
  },
  {
   "cell_type": "code",
   "execution_count": 125,
   "id": "5c7ca2a9",
   "metadata": {},
   "outputs": [],
   "source": [
    "def fetchAreaToLocation(locations):\n",
    "    areaUrl = requestLocation(location)['areas'][0]['url']\n",
    "    area = requestFullUrl(areaUrl)\n",
    "    return area"
   ]
  },
  {
   "cell_type": "code",
   "execution_count": 123,
   "id": "2d6020cc",
   "metadata": {},
   "outputs": [],
   "source": [
    "# allowedVersion = ['red'] | ['red','blue'] | 'gold' ...\n",
    "# returns (pokemonName, encounterChance)\n",
    "\n",
    "def returnPokemonAndChanceFromArea(area, allowedVersions):\n",
    "    encounters = []\n",
    "    encounterChance = 0\n",
    "    for encounter in area['pokemon_encounters']:\n",
    "        isInAllowedVersion = False\n",
    "        for versionDetail in encounter['version_details']:\n",
    "            if versionDetail['version']['name'] in allowedVersions:\n",
    "                isInAllowedVersion = True\n",
    "                encounterChance = versionDetail['max_chance'] \n",
    "        if isInAllowedVersion:\n",
    "            encounters.append((encounter['pokemon']['name'], encounterChance) )\n",
    "    return encounters"
   ]
  },
  {
   "cell_type": "code",
   "execution_count": 60,
   "id": "7e99efb3",
   "metadata": {},
   "outputs": [],
   "source": [
    "def returnEncounterFromListWhereName(encounters, wantedName):\n",
    "    for encounter in encounters:\n",
    "        if encounter['pokemon']['name'] == wantedName:\n",
    "            return encounter"
   ]
  },
  {
   "cell_type": "code",
   "execution_count": 148,
   "id": "9ff2d109",
   "metadata": {},
   "outputs": [],
   "source": [
    "def fetchPokemon(name):\n",
    "    return requestPokemon(name)"
   ]
  },
  {
   "cell_type": "code",
   "execution_count": 150,
   "id": "6569f072",
   "metadata": {},
   "outputs": [],
   "source": [
    "def fetchMove(name):\n",
    "    return requestMove(name)"
   ]
  },
  {
   "cell_type": "code",
   "execution_count": 173,
   "id": "1d22f1c0",
   "metadata": {},
   "outputs": [],
   "source": [
    "def sortMovesForLevel(elem):\n",
    "    return elem[2]\n",
    "# returns (moveName, moveType, levelLearnedAt)\n",
    "def fetchPokemonMoves(name, generation):\n",
    "    pokemon = fetchPokemon(name)\n",
    "    moves = pokemon['moves']\n",
    "    actualPokemonMoves = []\n",
    "    for move in moves:\n",
    "        moveIsOfInterest = False\n",
    "        levelLearnedAt = 0\n",
    "        for versionDetail in move['version_group_details']:\n",
    "            if versionDetail['move_learn_method']['name'] == 'level-up':\n",
    "                if versionDetail['version_group']['name'] == generation:\n",
    "                    moveIsOfInterest = True\n",
    "                    levelLearnedAt = versionDetail['level_learned_at']\n",
    "        if moveIsOfInterest:\n",
    "            name = move['move']['name']\n",
    "            moveFetched = fetchMove(name)\n",
    "            moveType = moveFetched['type']['name']\n",
    "            actualPokemonMoves.append((name, moveType, levelLearnedAt))\n",
    "    actualPokemonMoves.sort(key=sortMovesForLevel)        \n",
    "    \n",
    "    return actualPokemonMoves"
   ]
  },
  {
   "cell_type": "code",
   "execution_count": 159,
   "id": "c379316b",
   "metadata": {},
   "outputs": [],
   "source": [
    "def fetchPokemonType(name):\n",
    "    pokemon = fetchPokemon(name)\n",
    "    types = []\n",
    "    for t in pokemon['types']:\n",
    "        types.append(t['type']['name'])\n",
    "    return types"
   ]
  },
  {
   "cell_type": "code",
   "execution_count": 158,
   "id": "48acb737",
   "metadata": {},
   "outputs": [
    {
     "name": "stdout",
     "output_type": "stream",
     "text": [
      "{'slot': 1, 'type': {'name': 'normal', 'url': 'https://pokeapi.co/api/v2/type/1/'}}\n",
      "{'slot': 2, 'type': {'name': 'flying', 'url': 'https://pokeapi.co/api/v2/type/3/'}}\n"
     ]
    },
    {
     "data": {
      "text/plain": [
       "['normal', 'flying']"
      ]
     },
     "execution_count": 158,
     "metadata": {},
     "output_type": "execute_result"
    }
   ],
   "source": [
    "fetchPokemonType('pidgey')"
   ]
  }
 ],
 "metadata": {
  "kernelspec": {
   "display_name": "Python 3.8.8 64-bit ('base': conda)",
   "language": "python",
   "name": "python388jvsc74a57bd045d6d7d53af0fd0bf88c7a08674bcc9ed373bd0cf6f76311c6d74ca621b7f474"
  },
  "language_info": {
   "codemirror_mode": {
    "name": "ipython",
    "version": 3
   },
   "file_extension": ".py",
   "mimetype": "text/x-python",
   "name": "python",
   "nbconvert_exporter": "python",
   "pygments_lexer": "ipython3",
   "version": "3.8.8"
  }
 },
 "nbformat": 4,
 "nbformat_minor": 5
}
