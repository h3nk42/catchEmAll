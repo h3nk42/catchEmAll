{
 "cells": [
  {
   "cell_type": "code",
   "execution_count": 2,
   "id": "72f9bdca",
   "metadata": {},
   "outputs": [],
   "source": [
    "%run ./apiMethods.ipynb"
   ]
  },
  {
   "cell_type": "code",
   "execution_count": 114,
   "id": "5ff9caf2",
   "metadata": {},
   "outputs": [],
   "source": [
    "from enum import Enum\n",
    "class POKETYPE(Enum):\n",
    "    Normal = 'Normal'\n",
    "    Fire= 'Fire'\n",
    "    Water= 'Water'\n",
    "    Electric= 'Electric'\n",
    "    Grass= 'Grass'\n",
    "    Ice= 'Ice'\n",
    "    Fighting= 'Fighting'\n",
    "    Poison= 'Poison'\n",
    "    Ground= 'Ground'\n",
    "    Flying= 'Flying'\n",
    "    Psychic= 'Psychic'\n",
    "    Bug= 'Bug'\n",
    "    Rock= 'Rock'\n",
    "    Ghost= 'Ghost'\n",
    "    Dragon= 'Dragon'\n",
    "    Dark= 'Dark'\n",
    "    Steel= 'Steel'\n",
    "    Fairy= 'Fairy'\n"
   ]
  },
  {
   "cell_type": "code",
   "execution_count": 99,
   "id": "bfb998e4",
   "metadata": {},
   "outputs": [],
   "source": [
    "class Pokemon:\n",
    "    def __init__(self, name, level, moveTypes, baseTypes, **kwargs):\n",
    "        self.name = name\n",
    "        self.level = level\n",
    "        self.moveTypes = moveTypes\n",
    "        self.baseTypes = baseTypes\n",
    "        self.encounterChance = kwargs.get('encounterChance', None)\n",
    "    def __str__(self):\n",
    "     return f\"<{self.name},\\n lv:{self.level},\\n moves:{self.moveTypes},\\n types:{self._types}\\n>\""
   ]
  },
  {
   "cell_type": "code",
   "execution_count": 103,
   "id": "8add47e6",
   "metadata": {},
   "outputs": [],
   "source": [
    "class Area:\n",
    "    def __init__(self, name, level, encounterChance):\n",
    "        self.name = name\n",
    "        self.level = level\n",
    "        self.encounterChance = encounterChance\n",
    "    def __str__(self):\n",
    "         return f\"<Encounter!\\n{self.name},\\n lv:{self.level},\\n encounterChance:{self.encounterChance}\\n>\""
   ]
  },
  {
   "cell_type": "code",
   "execution_count": 20,
   "id": "1199e9c7",
   "metadata": {},
   "outputs": [],
   "source": [
    "def fetchAreasToLocations(locations):\n",
    "    areas = []\n",
    "    for location in locations:\n",
    "        areaUrl = requestLocation(location)['areas'][0]['url']\n",
    "        print(areaUrl)\n",
    "        area = requestFullUrl(areaUrl)\n",
    "        areas.append(area)\n",
    "    return areas"
   ]
  },
  {
   "cell_type": "code",
   "execution_count": 57,
   "id": "31d550d2",
   "metadata": {},
   "outputs": [],
   "source": [
    "# allowedVersion = ['red'] | ['red','blue'] | 'gold' ...\n",
    "\n",
    "def returnPokemonEncountersFromArea(area, allowedVersions):\n",
    "    encounters = []\n",
    "    for encounter in area['pokemon_encounters']:\n",
    "        isInAllowedVersion = False\n",
    "        for versionDetail in encounter['version_details']:\n",
    "            if versionDetail['version']['name'] in allowedVersions:\n",
    "                isInAllowedVersion = True\n",
    "        \n",
    "        if isInAllowedVersion:\n",
    "            encounters.append(encounter)\n",
    "    return encounters\n",
    "\n",
    "def returnPokemonEncountersFromAreas(areas, allowedVersions):\n",
    "    encounters = []\n",
    "    for area in areas:\n",
    "       encounters.extend(returnPokemonEncountersFromArea(area, allowedVersions))\n",
    "    return encounters"
   ]
  },
  {
   "cell_type": "code",
   "execution_count": 60,
   "id": "9edf3f39",
   "metadata": {},
   "outputs": [],
   "source": [
    "def returnEncounterFromListWhereName(encounters, wantedName):\n",
    "    for encounter in encounters:\n",
    "        if encounter['pokemon']['name'] == wantedName:\n",
    "            return encounter"
   ]
  }
 ],
 "metadata": {
  "kernelspec": {
   "display_name": "Python 3.8.8 64-bit ('base': conda)",
   "language": "python",
   "name": "python388jvsc74a57bd045d6d7d53af0fd0bf88c7a08674bcc9ed373bd0cf6f76311c6d74ca621b7f474"
  },
  "language_info": {
   "codemirror_mode": {
    "name": "ipython",
    "version": 3
   },
   "file_extension": ".py",
   "mimetype": "text/x-python",
   "name": "python",
   "nbconvert_exporter": "python",
   "pygments_lexer": "ipython3",
   "version": "3.8.8"
  }
 },
 "nbformat": 4,
 "nbformat_minor": 5
}
