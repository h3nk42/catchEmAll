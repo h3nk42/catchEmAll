{
 "cells": [
  {
   "cell_type": "code",
   "execution_count": 1,
   "id": "d1fac3e0",
   "metadata": {
    "tags": []
   },
   "outputs": [],
   "source": [
    "%run ./ArenaToCSV.ipynb"
   ]
  },
  {
   "cell_type": "code",
   "execution_count": 2,
   "id": "3c2b7971-8141-4f66-b74a-d2d1b5b52be3",
   "metadata": {},
   "outputs": [],
   "source": [
    "placeholderSteps = 0\n",
    "# ---- GAME SETTINGS ---- #\n",
    "STARTERS = ['bulbasaur','charmander','squirtle']\n",
    "GENERATION = 'red-blue'\n",
    "GAMES=['red','blue']\n",
    "# ----  ---- #"
   ]
  },
  {
   "cell_type": "code",
   "execution_count": 7,
   "id": "917e005a",
   "metadata": {
    "tags": []
   },
   "outputs": [
    {
     "name": "stdout",
     "output_type": "stream",
     "text": [
      "CPU times: user 23.6 s, sys: 1.58 s, total: 25.2 s\n",
      "Wall time: 1min 36s\n"
     ]
    }
   ],
   "source": [
    "%%time\n",
    "# ---- ARENA-1 ---- #\n",
    "POSSIBLE_TM_ARENA1 = []\n",
    "POSSIBLE_VM_ARENA1 = []\n",
    "# ---- ARENA SETTINGS ---- #\n",
    "ARENA = 'arena-1'\n",
    "LOCATIONS_ARENA1 =  [{'name':'kanto-route-1', 'steps':31},\n",
    "              {'name':'kanto-route-2', 'steps':0},\n",
    "              {'name':'viridian-forest', 'steps':110},\n",
    "              {'name':'kanto-route-22', 'steps':placeholderSteps}]\n",
    "SPECIALPOKEMON_ARENA1 = []\n",
    "#leader\n",
    "_geodude = {'name': 'geodude', 'level': 12, 'moves':['tackle','defense-curl']}\n",
    "_onix = {'name': 'onix', 'level': 14, 'moves':['tackle','screech','bide','bind']}\n",
    "LEADER = ('brock', [_geodude,_onix])\n",
    "FISHING = False\n",
    "# ----- #\n",
    "# --- WRITE TO ALL GAM\n",
    "for GAME in GAMES: \n",
    "    #parseArenaToCSV(LOCATIONS_ARENA1,GAME,GENERATION,STARTERS,LEADER,ARENA,FISHING,SPECIALPOKEMON_ARENA1)"
   ]
  },
  {
   "cell_type": "code",
   "execution_count": 4,
   "id": "1aebd995-614f-466e-9344-205c4d7efc9d",
   "metadata": {},
   "outputs": [
    {
     "name": "stdout",
     "output_type": "stream",
     "text": [
      "CPU times: user 6 µs, sys: 0 ns, total: 6 µs\n",
      "Wall time: 8.11 µs\n"
     ]
    }
   ],
   "source": [
    "%%time\n",
    "# ---- ARENA-2 ---- #\n",
    "POSSIBLE_TM_ARENA2 = POSSIBLE_TM_ARENA1 + ['TM11 Blubbstrahl','TM04 Wirbelwind','TM12 Aquaknarre','TM01 Megahieb','TM34 Geduld']\n",
    "POSSIBLE_VM_ARENA2 = POSSIBLE_VM_ARENA1 + []\n",
    "# ---- ARENA SETTINGS ---- #\n",
    "ARENA = 'arena-2'\n",
    "LOCATIONS_ARENA2 = LOCATIONS_ARENA1 + [\n",
    "              {'name':'kanto-route-3', 'steps':placeholderSteps},\n",
    "              {'name':'kanto-route-4', 'steps':placeholderSteps},\n",
    "              {'name':'kanto-route-24', 'steps':placeholderSteps},\n",
    "              {'name':'kanto-route-25', 'steps':placeholderSteps},\n",
    "              {'name':'kanto-route-11', 'steps':placeholderSteps},\n",
    "              {'name':'digletts-cave', 'steps':placeholderSteps}\n",
    "             ]\n",
    "SPECIALPOKEMON_ARENA2 = SPECIALPOKEMON_ARENA1 + ['kabuto','omanyte','magikarp','jynx']\n",
    "#leader\n",
    "staryu = {'name': 'staryu', 'level': 18, 'moves':['tackle','water-gun']}\n",
    "starmie = {'name': 'starmie', 'level': 21, 'moves':['tackle','water-gun','bubble-beam','harden']}\n",
    "LEADER = ('misty', [staryu,starmie])\n",
    "FISHING = False\n",
    "# ----- #\n",
    "for GAME in GAMES: \n",
    "    #parseArenaToCSV(LOCATIONS_ARENA1,GAME,GENERATION,STARTERS,LEADER,ARENA,FISHING,SPECIALPOKEMON_ARENA1)"
   ]
  },
  {
   "cell_type": "code",
   "execution_count": 5,
   "id": "749f9be8-0dd7-4e25-b120-1e9527c638c9",
   "metadata": {},
   "outputs": [
    {
     "name": "stdout",
     "output_type": "stream",
     "text": [
      "CPU times: user 6 µs, sys: 0 ns, total: 6 µs\n",
      "Wall time: 9.3 µs\n"
     ]
    }
   ],
   "source": [
    "%%time\n",
    "# ---- ARENA-3 ---- #\n",
    "POSSIBLE_TM_ARENA3 = POSSIBLE_TM_ARENA2 + ['TM28 Schaufler','TM24 Donnerblitz']\n",
    "POSSIBLE_VM_ARENA3 = POSSIBLE_VM_ARENA2 + ['VM01 Zerschneider']\n",
    "# ---- ARENA SETTINGS ---- #\n",
    "ARENA = 'arena-3'\n",
    "LOCATIONS_ARENA3 = LOCATIONS_ARENA2 + [\n",
    "              {'name':'kanto-route-5', 'steps':placeholderSteps},\n",
    "              {'name':'kanto-route-6', 'steps':placeholderSteps},\n",
    "              {'name':'ss-anne', 'steps':placeholderSteps},\n",
    "             ]\n",
    "SPECIALPOKEMON_ARENA3 = SPECIALPOKEMON_ARENA2 + ['farfetchd','mr-mime']\n",
    "#leader\n",
    "voltorb = {'name': 'voltorb', 'level': 21, 'moves':['tackle','screech','sonic-boom']}\n",
    "pikachu = {'name': 'pikachu', 'level': 18, 'moves':['thunder-shock','growl','thunder-wave','quick-attack']}\n",
    "raichu = {'name': 'raichu', 'level': 24, 'moves':['thunder-shock','growl','thunderbolt']}\n",
    "LEADER = ('lt-surge', [voltorb,pikachu,raichu])\n",
    "FISHING = True\n",
    "# ----- #\n",
    "\n",
    "# --- RED --- #\n",
    "GAME='red'\n",
    "#parseArenaToCSV(LOCATIONS_ARENA3,GAME,GENERATION,STARTERS,LEADER,ARENA,FISHING,SPECIALPOKEMON_ARENA3)\n",
    "# --- BLUE --- #\n",
    "GAME='blue'\n",
    "#parseArenaToCSV(LOCATIONS_ARENA3,GAME,GENERATION,STARTERS,LEADER,ARENA,FISHING,SPECIALPOKEMON_ARENA3)"
   ]
  },
  {
   "cell_type": "code",
   "execution_count": null,
   "id": "add80943-01f3-45fc-a579-931f30202507",
   "metadata": {},
   "outputs": [],
   "source": [
    "%%time\n",
    "# ---- ARENA-4 ---- #\n",
    "POSSIBLE_TM_ARENA4 = POSSIBLE_TM_ARENA3 + ['TM30 Teleport','TM13 Eisstrahl','TM48 Steinhagel','TM49 Triplette']\n",
    "POSSIBLE_VM_ARENA4= POSSIBLE_VM_ARENA3 + ['VM02 Fliegen']\n",
    "# ---- ARENA SETTINGS ---- #\n",
    "ARENA = 'arena-4'\n",
    "LOCATIONS_ARENA4 = LOCATIONS_ARENA3 + [\n",
    "              {'name':'kanto-route-9', 'steps':placeholderSteps},\n",
    "              {'name':'kanto-route-10', 'steps':placeholderSteps},\n",
    "              {'name':'rock-tunnel', 'steps':placeholderSteps},\n",
    "              {'name':'kanto-route-7', 'steps':placeholderSteps},\n",
    "              {'name':'kanto-route-8', 'steps':placeholderSteps},\n",
    "             ]\n",
    "SPECIALPOKEMON_ARENA4 = SPECIALPOKEMON_ARENA3 + ['eevee']\n",
    "#leader\n",
    "victreebel = {'name': 'victreebel', 'level': 29, 'moves':['razor-leaf','wrap','poison-powder','sleep-powder']}\n",
    "tangela = {'name': 'tangela', 'level': 24, 'moves':['constrict','bind']}\n",
    "vileplume = {'name': 'vileplume', 'level': 29, 'moves':['petal-dance','poison-powder','mega-drain','sleep-powder']}\n",
    "LEADER = ('erika', [victreebel,tangela,vileplume])\n",
    "FISHING = True\n",
    "# ----- #\n",
    "# --- RED --- #\n",
    "GAME='red'\n",
    "parseArenaToCSV(LOCATIONS_ARENA4,GAME,GENERATION,STARTERS,LEADER,ARENA,FISHING,SPECIALPOKEMON_ARENA4)\n",
    "# --- BLUE --- #\n",
    "GAME='blue'\n",
    "parseArenaToCSV(LOCATIONS_ARENA4,GAME,GENERATION,STARTERS,LEADER,ARENA,FISHING,SPECIALPOKEMON_ARENA4)"
   ]
  },
  {
   "cell_type": "code",
   "execution_count": null,
   "id": "f2fabed7-a0fe-495d-8a3b-c487da476d3e",
   "metadata": {},
   "outputs": [],
   "source": [
    "%%time\n",
    "# ---- ARENA-5 ---- #\n",
    "POSSIBLE_TM_ARENA5 = POSSIBLE_TM_ARENA4 + ['TM30 Teleport','TM13 Eisstrahl','TM48 Steinhagel','TM49 Triplette']\n",
    "POSSIBLE_VM_ARENA5= POSSIBLE_VM_ARENA4 + ['VM02 Fliegen']\n",
    "# ---- SETTINGS ---- #\n",
    "ARENA = 'arena-5'\n",
    "LOCATIONS_ARENA5 = LOCATIONS_ARENA4 + [\n",
    "              {'name':'kanto-route-9', 'steps':placeholderSteps},\n",
    "              {'name':'kanto-route-10', 'steps':placeholderSteps},\n",
    "              {'name':'rock-tunnel', 'steps':placeholderSteps},\n",
    "              {'name':'kanto-route-7', 'steps':placeholderSteps},\n",
    "              {'name':'kanto-route-8', 'steps':placeholderSteps},\n",
    "             ]\n",
    "SPECIALPOKEMON_ARENA5 = SPECIALPOKEMON_ARENA4 + []\n",
    "#leader\n",
    "victreebel = {'name': 'victreebel', 'level': 29, 'moves':['razor-leaf','wrap','poison-powder','sleep-powder']}\n",
    "tangela = {'name': 'tangela', 'level': 24, 'moves':['constrict','bind']}\n",
    "vileplume = {'name': 'vileplume', 'level': 29, 'moves':['petal-dance','poison-powder','mega-drain','sleep-powder']}\n",
    "LEADER = ('erika', [victreebel,tangela,vileplume])\n",
    "FISHING = True\n",
    "# ----- #\n",
    "# --- RED --- #\n",
    "GAME='red'\n",
    "#parseArenaToCSV(LOCATIONS_ARENA5,GAME,GENERATION,STARTERS,LEADER,ARENA,FISHING,SPECIALPOKEMON_ARENA5)\n",
    "# --- BLUE --- #\n",
    "GAME='blue'\n",
    "#parseArenaToCSV(LOCATIONS_ARENA5,GAME,GENERATION,STARTERS,LEADER,ARENA,FISHING,SPECIALPOKEMON_ARENA5)"
   ]
  }
 ],
 "metadata": {
  "kernelspec": {
   "display_name": "Python 3.8.8 64-bit ('base': conda)",
   "language": "python",
   "name": "python388jvsc74a57bd045d6d7d53af0fd0bf88c7a08674bcc9ed373bd0cf6f76311c6d74ca621b7f474"
  },
  "language_info": {
   "codemirror_mode": {
    "name": "ipython",
    "version": 3
   },
   "file_extension": ".py",
   "mimetype": "text/x-python",
   "name": "python",
   "nbconvert_exporter": "python",
   "pygments_lexer": "ipython3",
   "version": "3.8.8"
  }
 },
 "nbformat": 4,
 "nbformat_minor": 5
}
