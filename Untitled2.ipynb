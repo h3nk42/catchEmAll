{
 "cells": [
  {
   "cell_type": "code",
   "execution_count": 44,
   "id": "670ba795",
   "metadata": {
    "scrolled": true
   },
   "outputs": [],
   "source": [
    "# VERSION GROUP 1 - RED, BLUE\n",
    "#/version-goup/1/\n",
    "# REGION - KANTO\n",
    "#/region/1/\n",
    "# POKEMON GENERATION - i / 1\n",
    "# hier findet man zb auch die moeglichen moves (165 items)\n",
    "#/generation/1/\n",
    "# STARTER POKEMON: \n",
    "starters = ['bulbasaur','charmander','squirtle']\n",
    "# pokemon/1, pokemon/4, pokemon/7\n",
    "\n",
    "\n",
    "locationsBeforeArena1 = ['kanto-route-1', 'kanto-route-2', 'viridian-forest']"
   ]
  },
  {
   "cell_type": "code",
   "execution_count": 2,
   "id": "d5c7b0ca",
   "metadata": {},
   "outputs": [],
   "source": [
    "import pokepy\n",
    "api = pokepy.V2Client()\n"
   ]
  },
  {
   "cell_type": "code",
   "execution_count": 37,
   "id": "8159d79b",
   "metadata": {},
   "outputs": [],
   "source": [
    "def fetchAreasToLocations(locationNames):\n",
    "    areas = []\n",
    "    for locationName in locationNames:\n",
    "        area = client.get_location_area(client.get_location(locationName)[0].areas[0].name)[0]\n",
    "        areas.append(area)\n",
    "    return areas"
   ]
  },
  {
   "cell_type": "code",
   "execution_count": null,
   "id": "06b6fec3",
   "metadata": {},
   "outputs": [],
   "source": [
    "# allowedVersion = ['red'] | ['red','blue'] | 'gold' ...\n",
    "\n",
    "def returnPokemonEncountersFromArea(area, allowedVersions):\n",
    "    encounters = []\n",
    "    for encounter in area['pokemon_encounters']:\n",
    "        isInAllowedVersion = False\n",
    "        for versionDetail in encounter['version_details']:\n",
    "            if versionDetail['version']['name'] in allowedVersions:\n",
    "                isInAllowedVersion = True\n",
    "        if isInAllowedVersion:\n",
    "            encounters.append(encounter)\n",
    "    return encounters\n",
    "\n",
    "def returnPokemonEncountersFromAreas(areas, allowedVersions):\n",
    "    encounters = []\n",
    "    for area in areas:\n",
    "       encounters.extend(returnPokemonEncountersFromArea(area, allowedVersions))\n",
    "    return encounters"
   ]
  },
  {
   "cell_type": "code",
   "execution_count": 58,
   "id": "2d3bdb20",
   "metadata": {
    "scrolled": true
   },
   "outputs": [
    {
     "ename": "AttributeError",
     "evalue": "'LocationAreaResource' object has no attribute 'pokemon_encounters'",
     "output_type": "error",
     "traceback": [
      "\u001b[0;31m---------------------------------------------------------------------------\u001b[0m",
      "\u001b[0;31mAttributeError\u001b[0m                            Traceback (most recent call last)",
      "\u001b[0;32m<ipython-input-58-aa478095ff5f>\u001b[0m in \u001b[0;36m<module>\u001b[0;34m\u001b[0m\n\u001b[1;32m      1\u001b[0m \u001b[0mpokemon\u001b[0m \u001b[0;34m=\u001b[0m \u001b[0mclient\u001b[0m\u001b[0;34m.\u001b[0m\u001b[0mget_pokemon\u001b[0m\u001b[0;34m(\u001b[0m\u001b[0;36m14\u001b[0m\u001b[0;34m)\u001b[0m\u001b[0;34m[\u001b[0m\u001b[0;36m0\u001b[0m\u001b[0;34m]\u001b[0m\u001b[0;34m\u001b[0m\u001b[0;34m\u001b[0m\u001b[0m\n\u001b[1;32m      2\u001b[0m \u001b[0mareasBeforeArena1\u001b[0m \u001b[0;34m=\u001b[0m \u001b[0mfetchAreasToLocations\u001b[0m\u001b[0;34m(\u001b[0m\u001b[0mlocationsBeforeArena1\u001b[0m\u001b[0;34m)\u001b[0m\u001b[0;34m\u001b[0m\u001b[0;34m\u001b[0m\u001b[0m\n\u001b[0;32m----> 3\u001b[0;31m \u001b[0mareasBeforeArena1\u001b[0m\u001b[0;34m[\u001b[0m\u001b[0;36m0\u001b[0m\u001b[0;34m]\u001b[0m\u001b[0;34m.\u001b[0m\u001b[0mpokemon_encounters\u001b[0m\u001b[0;34m\u001b[0m\u001b[0;34m\u001b[0m\u001b[0m\n\u001b[0m",
      "\u001b[0;31mAttributeError\u001b[0m: 'LocationAreaResource' object has no attribute 'pokemon_encounters'"
     ]
    }
   ],
   "source": [
    "pokemon = client.get_pokemon(14)[0]\n",
    "areasBeforeArena1 = fetchAreasToLocations(locationsBeforeArena1)\n",
    "areasBeforeArena1[0].pokemon_encounters"
   ]
  },
  {
   "cell_type": "code",
   "execution_count": null,
   "id": "c94e0c20",
   "metadata": {},
   "outputs": [],
   "source": []
  }
 ],
 "metadata": {
  "kernelspec": {
   "display_name": "Python 3.8.8 64-bit ('base': conda)",
   "language": "python",
   "name": "python388jvsc74a57bd045d6d7d53af0fd0bf88c7a08674bcc9ed373bd0cf6f76311c6d74ca621b7f474"
  },
  "language_info": {
   "codemirror_mode": {
    "name": "ipython",
    "version": 3
   },
   "file_extension": ".py",
   "mimetype": "text/x-python",
   "name": "python",
   "nbconvert_exporter": "python",
   "pygments_lexer": "ipython3",
   "version": "3.8.8"
  }
 },
 "nbformat": 4,
 "nbformat_minor": 5
}
