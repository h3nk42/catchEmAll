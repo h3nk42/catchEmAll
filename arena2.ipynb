{
 "cells": [
  {
   "cell_type": "code",
   "execution_count": 31,
   "id": "447673f7-1f9d-4e80-a509-486f4428c8c1",
   "metadata": {},
   "outputs": [],
   "source": [
    "%run ./ArenaToCSV.ipynb"
   ]
  },
  {
   "cell_type": "code",
   "execution_count": 32,
   "id": "113871b4-023e-4273-9ccf-4dc66d26be92",
   "metadata": {},
   "outputs": [],
   "source": [
    "# VERSION GROUP 1 - RED, BLUE\n",
    "# api source: /version-goup/1/\n",
    "\n",
    "# REGION - KANTO\n",
    "# api source: /region/1/\n",
    "\n",
    "# POKEMON GENERATION - i / 1\n",
    "# hier findet man zb auch die moeglichen moves (165 items)\n",
    "# api source: /generation/1/\n",
    "\n",
    "# ARENALEITER: Brock\n",
    "# https://bulbapedia.bulbagarden.net/wiki/Brock\n",
    "#brockPokemonTeam = [Pokemon('Geodude', 12, [POKETYPE.Normal, POKETYPE.Normal], [POKETYPE.Rock, POKETYPE.Ground])]\n",
    "#brockPokemonTeam.append(Pokemon('Onix', 14, [POKETYPE.Normal, POKETYPE.Normal, POKETYPE.Normal], [POKETYPE.Rock, POKETYPE.Ground] ))\n",
    "\n",
    "# ---- SETTINGS ---- #\n",
    "placeholderSteps = 0\n",
    "ARENA = 'arena-2'\n",
    "STARTERS = ['bulbasaur','charmander','squirtle']\n",
    "LOCATIONS =  [{'name':'mt-moon', 'steps':31},\n",
    "              {'name':'kanto-route-2', 'steps':0},\n",
    "              {'name':'viridian-forest', 'steps':110},\n",
    "              {'name':'kanto-route-22', 'steps':placeholderSteps},\n",
    "              {'name':'kanto-route-3', 'steps':placeholderSteps}\n",
    "             ]\n",
    "SPECIALPOKEMON = ['kabuto','omanyte']\n",
    "GAME = 'red'\n",
    "GENERATION = 'red-blue'\n",
    "#leader\n",
    "staryu = {'name': 'staryu', 'level': 18, 'moves':['tackle','water-gun']}\n",
    "starmie = {'name': 'starmie', 'level': 21, 'moves':['tackle','water-gun','bubble-beam','harden']}\n",
    "LEADER = ('misty', [staryu,starmie])\n",
    "FISHING = False\n",
    "# ----- #"
   ]
  },
  {
   "cell_type": "code",
   "execution_count": 33,
   "id": "2e382154-885f-4b6e-b869-2761ce36d8ac",
   "metadata": {},
   "outputs": [],
   "source": [
    "parseArenaToCSV(LOCATIONS,GAME,GENERATION,STARTERS,LEADER,ARENA,FISHING,SPECIALPOKEMON)"
   ]
  },
  {
   "cell_type": "code",
   "execution_count": 41,
   "id": "c9d8a72c-73b3-4063-a2c1-41ce811721c5",
   "metadata": {},
   "outputs": [
    {
     "data": {
      "text/plain": [
       "[0, 'a', 1, 2, 3]"
      ]
     },
     "execution_count": 41,
     "metadata": {},
     "output_type": "execute_result"
    }
   ],
   "source": [
    "arr1 = [0,'a']\n",
    "arr2 = [1,2,3]\n",
    "arr1 = arr1 + arr2\n",
    "arr1"
   ]
  },
  {
   "cell_type": "code",
   "execution_count": null,
   "id": "3e0f3d9c-e36d-4f59-9fdf-a29d6c7b8f7b",
   "metadata": {},
   "outputs": [],
   "source": []
  }
 ],
 "metadata": {
  "kernelspec": {
   "display_name": "Python 3.8.8 64-bit ('base': conda)",
   "language": "python",
   "name": "python388jvsc74a57bd045d6d7d53af0fd0bf88c7a08674bcc9ed373bd0cf6f76311c6d74ca621b7f474"
  },
  "language_info": {
   "codemirror_mode": {
    "name": "ipython",
    "version": 3
   },
   "file_extension": ".py",
   "mimetype": "text/x-python",
   "name": "python",
   "nbconvert_exporter": "python",
   "pygments_lexer": "ipython3",
   "version": "3.8.8"
  }
 },
 "nbformat": 4,
 "nbformat_minor": 5
}
