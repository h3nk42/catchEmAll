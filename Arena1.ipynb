{
 "cells": [
  {
   "cell_type": "code",
   "execution_count": 2,
   "id": "8ac27c6f",
   "metadata": {},
   "outputs": [],
   "source": [
    "%run ./apiMethods.ipynb"
   ]
  },
  {
   "cell_type": "code",
   "execution_count": 10,
   "id": "b0c4992c",
   "metadata": {},
   "outputs": [],
   "source": [
    "# VERSION GROUP 1 - RED, BLUE\n",
    "/version-goup/1/\n",
    "# REGION - KANTO\n",
    "/region/1/\n",
    "# POKEMON GENERATION - i / 1\n",
    "# hier findet man zb auch die moeglichen moves (165 items)\n",
    "/generation/1/\n",
    "\n",
    "locationsUntilArena1 = ['kanto-route-1', 'kanto-route-2', 'viridian-forest']"
   ]
  },
  {
   "cell_type": "code",
   "execution_count": 20,
   "id": "3b2fc62e",
   "metadata": {},
   "outputs": [],
   "source": [
    "def fetchAreasToLocations(locations):\n",
    "    areas = []\n",
    "    for location in locations:\n",
    "        areaUrl = requestLocation(location)['areas'][0]['url']\n",
    "        print(areaUrl)\n",
    "        area = requestFullUrl(areaUrl)\n",
    "        areas.append(area)\n",
    "    return areas"
   ]
  },
  {
   "cell_type": "code",
   "execution_count": 45,
   "id": "8defc144",
   "metadata": {},
   "outputs": [],
   "source": [
    "# allowedVersion = ['red'] | ['red','blue'] | 'gold' ...\n",
    "\n",
    "def returnPokemonEncountersFromArea(area, allowedVersions):\n",
    "    encounters = []\n",
    "    for encounter in area['pokemon_encounters']:\n",
    "        isInAllowedVersion = False\n",
    "        for versionDetail in encounter['version_details']:\n",
    "            if versionDetail['version']['name'] in allowedVersions:\n",
    "                isInAllowedVersion = True\n",
    "        \n",
    "        if isInAllowedVersion:\n",
    "            encounters.append(encounter)\n",
    "    return encounters"
   ]
  },
  {
   "cell_type": "code",
   "execution_count": 49,
   "id": "13a8818d",
   "metadata": {
    "scrolled": false
   },
   "outputs": [
    {
     "name": "stdout",
     "output_type": "stream",
     "text": [
      "https://pokeapi.co/api/v2/location-area/295/\n",
      "https://pokeapi.co/api/v2/location-area/296/\n",
      "https://pokeapi.co/api/v2/location-area/321/\n",
      "pidgey\n",
      "rattata\n"
     ]
    }
   ],
   "source": [
    "# Examples: \n",
    "\n",
    "areas = fetchAreasToLocations(locationsUntilArena1)\n",
    "encounters = returnPokemonEncountersFromArea(areas[0],['red','blue'])\n",
    "for encounter in encounters:\n",
    "    print(encounter['pokemon']['name'])"
   ]
  },
  {
   "cell_type": "code",
   "execution_count": null,
   "id": "56a7ea30",
   "metadata": {},
   "outputs": [],
   "source": []
  }
 ],
 "metadata": {
  "kernelspec": {
   "display_name": "Python 3.8.8 64-bit ('base': conda)",
   "language": "python",
   "name": "python388jvsc74a57bd045d6d7d53af0fd0bf88c7a08674bcc9ed373bd0cf6f76311c6d74ca621b7f474"
  },
  "language_info": {
   "codemirror_mode": {
    "name": "ipython",
    "version": 3
   },
   "file_extension": ".py",
   "mimetype": "text/x-python",
   "name": "python",
   "nbconvert_exporter": "python",
   "pygments_lexer": "ipython3",
   "version": "3.8.8"
  }
 },
 "nbformat": 4,
 "nbformat_minor": 5
}
