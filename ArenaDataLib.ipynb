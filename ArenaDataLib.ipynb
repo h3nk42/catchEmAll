{
 "cells": [
  {
   "cell_type": "code",
   "execution_count": 338,
   "id": "43f3e41e",
   "metadata": {
    "scrolled": true,
    "tags": []
   },
   "outputs": [],
   "source": [
    "%run ./PokemonLib.ipynb"
   ]
  },
  {
   "cell_type": "code",
   "execution_count": 354,
   "id": "e629b0cc",
   "metadata": {},
   "outputs": [],
   "source": [
    "def gatherDataForArena(locations, game, generation, starters, leaderData, FISHING):\n",
    "    areas = produceAreaForLocations(locations)\n",
    "    addEncounterablePokemonsToAreas(areas, FISHING)\n",
    "    \n",
    "    catchablePokemons = producePokemonForAreas(areas, generation)\n",
    "    appendPokemonFromStarters(starters, catchablePokemons, generation)\n",
    "    appendPokemonFromEvolutions(catchablePokemons, game, generation)\n",
    "    \n",
    "    \n",
    "    arenaLeader = produceArenaLeader(leaderData[0], generation, leaderData[1])\n",
    "\n",
    "    return {'areas': areas, 'catchablePokemons': catchablePokemons, 'arenaLeader': arenaLeader}"
   ]
  },
  {
   "cell_type": "code",
   "execution_count": 340,
   "id": "8f1105f7-2d09-4346-aa5c-6744b0766aa5",
   "metadata": {},
   "outputs": [],
   "source": [
    "def findEvolutionsRecursive(evolvesTo, originalName, game):\n",
    "    entwicklungen = []\n",
    "    for entwicklung in evolvesTo:\n",
    "        entwicklungsName = entwicklung['species']['name']\n",
    "        entwicklungPokeJson = requestPokemon(entwicklungsName)\n",
    "        pokeIsInWantedGame = False\n",
    "        for gameIndice in entwicklungPokeJson['game_indices']:\n",
    "            if gameIndice['version']['name'] == game:\n",
    "                pokeIsInWantedGame = True\n",
    "        if(entwicklungsName != originalName):\n",
    "          #  print(originalName)\n",
    "          #  print('entwickelt sich zu')\n",
    "          #  print(entwicklungsName)\n",
    "            evoDetails = entwicklung['evolution_details'][0]\n",
    "            trigger = evoDetails['trigger']['name']\n",
    "            if trigger == 'level-up':\n",
    "                levelUpCondition = evoDetails['min_level']\n",
    "            elif trigger == 'use-item':\n",
    "                levelUpCondition = evoDetails['item']['name']\n",
    "            elif trigger == 'trade':\n",
    "                levelUpCondition = 'trade'\n",
    "            else:\n",
    "                levelUpCondition = None\n",
    "           # print(levelUpCondition)\n",
    "           # print('----')\n",
    "            entwicklungen.append((entwicklungsName, levelUpCondition))\n",
    "            #print(entwicklungen)\n",
    "        if(entwicklung['evolves_to']!= None):\n",
    "            entwicklungInDepth = findEvolutionsRecursive(entwicklung['evolves_to'], originalName, game)\n",
    "            if(len(entwicklungInDepth)>0):\n",
    "                for entw in entwicklungInDepth:\n",
    "                    entwicklungen.append(entw)\n",
    "    return entwicklungen"
   ]
  },
  {
   "cell_type": "code",
   "execution_count": 341,
   "id": "f961544d-8aef-44f0-92e6-eeb8362bb742",
   "metadata": {
    "tags": []
   },
   "outputs": [],
   "source": [
    "def fetchPokemonEvolutionPossibilities(catchablePokemons, game):\n",
    "    allEvolves = []\n",
    "    for poke in catchablePokemons:\n",
    "        originalName = catchablePokemons[poke].name\n",
    "        originalEncounterCondition = catchablePokemons[poke].encounterOrEvolutionTrigger\n",
    "        pokeJson = fetchPokemon(originalName)\n",
    "        speciesUrl = pokeJson['species']['url']\n",
    "        speciesJson = requestFullUrl(speciesUrl)\n",
    "        evolutionChainUrl = speciesJson['evolution_chain']['url']\n",
    "        evolutionChainJson = requestFullUrl(evolutionChainUrl)\n",
    "        chain = evolutionChainJson['chain']\n",
    "        tempEvolvesTo = chain['evolves_to']\n",
    "        evolves = findEvolutionsRecursive(tempEvolvesTo, originalName, game)\n",
    "        for evolve in evolves:\n",
    "            evolve = (evolve[0], evolve[1], originalEncounterCondition)\n",
    "            allEvolves.append(evolve)\n",
    "    return allEvolves"
   ]
  },
  {
   "cell_type": "code",
   "execution_count": 342,
   "id": "858cc5df-8a8a-4f06-a606-45343ad7b3d5",
   "metadata": {},
   "outputs": [],
   "source": [
    "def appendPokemonFromEvolutions(catchablePokemons, game, generation):\n",
    "    tempEvos = fetchPokemonEvolutionPossibilities(catchablePokemons, game)\n",
    "    \n",
    "    for evolution in tempEvos:\n",
    "        evoName = evolution[0]\n",
    "        if not evoName in catchablePokemons:\n",
    "            catchablePokemons[evoName] = producePokemonFromEvolution(evolution, generation)"
   ]
  },
  {
   "cell_type": "code",
   "execution_count": 343,
   "id": "0b8cddda",
   "metadata": {},
   "outputs": [],
   "source": [
    "def appendPokemonFromStarters(starters, pokemonSet, generation):\n",
    "     for name in starters:\n",
    "        if not name in pokemonSet:\n",
    "            pokemonSet[name] = producePokemon(name,generation, 'starter')"
   ]
  },
  {
   "cell_type": "code",
   "execution_count": 344,
   "id": "8e094c2c",
   "metadata": {},
   "outputs": [],
   "source": [
    "def produceAreaForLocation(location, steps):\n",
    "    areaTemp = fetchAreaToLocation(location)\n",
    "    area = Area(areaTemp['name'], 0.2, areaTemp, steps )\n",
    "    return area"
   ]
  },
  {
   "cell_type": "code",
   "execution_count": 345,
   "id": "9261dd7f",
   "metadata": {},
   "outputs": [],
   "source": [
    "def produceAreaForLocations(locations):\n",
    "    areas = []\n",
    "    for location in locations:\n",
    "        locationName = location['name']\n",
    "        steps = location['steps']\n",
    "        areas.append(produceAreaForLocation(locationName, steps))\n",
    "    return areas"
   ]
  },
  {
   "cell_type": "code",
   "execution_count": 346,
   "id": "1aa2c184",
   "metadata": {
    "tags": []
   },
   "outputs": [],
   "source": [
    "def addEncounterablePokemonsToArea(area, FISHING):\n",
    "     area.encounterablePokemons = returnPokemonAndChanceAndEncounterTypeFromArea(area.json ,[GAME], FISHING)"
   ]
  },
  {
   "cell_type": "code",
   "execution_count": 347,
   "id": "34f4bf3f",
   "metadata": {},
   "outputs": [],
   "source": [
    "def addEncounterablePokemonsToAreas(areas, FISHING):\n",
    "    for area in areas:\n",
    "        addEncounterablePokemonsToArea(area, FISHING)\n",
    "        area.calculateAverageEncounters()"
   ]
  },
  {
   "cell_type": "code",
   "execution_count": 348,
   "id": "09013a34",
   "metadata": {},
   "outputs": [],
   "source": [
    "def producePokemonForArea(area, pokemonSet, generation):\n",
    "    for pokemon in area.encounterablePokemons:\n",
    "        name = pokemon[0]\n",
    "        encounterType = pokemon[2]\n",
    "        if not name in pokemonSet:\n",
    "            pokemonSet[name] = producePokemon(name, generation, encounterType )"
   ]
  },
  {
   "cell_type": "code",
   "execution_count": 349,
   "id": "94e82f8d",
   "metadata": {},
   "outputs": [],
   "source": [
    "def producePokemonForAreas(areas, generation):\n",
    "    pokemonSet = {}\n",
    "    for area in areas:\n",
    "        producePokemonForArea(area, pokemonSet, generation)\n",
    "    return pokemonSet"
   ]
  },
  {
   "cell_type": "code",
   "execution_count": 350,
   "id": "b0365773",
   "metadata": {},
   "outputs": [],
   "source": [
    "def producePokemon(name, generation, encounterType):\n",
    "    moves = fetchPokemonMoves(name, generation)\n",
    "    pokemonInstance = Pokemon(name, moves, encounterType)\n",
    "    return pokemonInstance"
   ]
  },
  {
   "cell_type": "code",
   "execution_count": 351,
   "id": "e6f67455-a9fe-4cd7-963c-de3d74c4d5de",
   "metadata": {},
   "outputs": [],
   "source": [
    "def producePokemonFromEvolution(evolution, generation):\n",
    "    evoName = evolution[0]\n",
    "    evoTrigger = evolution[1]\n",
    "    evoOrigin = evolution[2]\n",
    "    moves = fetchPokemonMoves(evoName, generation)\n",
    "    pokemonInstance = Pokemon(evoName, moves, evoTrigger)\n",
    "    pokemonInstance.setOriginIfEvolution(evoOrigin)\n",
    "    return pokemonInstance"
   ]
  },
  {
   "cell_type": "code",
   "execution_count": 352,
   "id": "51b3a7ba",
   "metadata": {},
   "outputs": [],
   "source": [
    "def producePokemonWithCustomMoves(name, generation, customMoves):\n",
    "    moves = []\n",
    "    for move in customMoves:\n",
    "        moves.append(produceMove(move))\n",
    "    pokemonInstance = Pokemon(name, moves, 'encounter')\n",
    "    return pokemonInstance"
   ]
  },
  {
   "cell_type": "code",
   "execution_count": 353,
   "id": "5f0b5f5e",
   "metadata": {},
   "outputs": [],
   "source": [
    "#pokemonTeam = [{name: 'pikachu', level: 12, moves:['tackle']}]\n",
    "#produceArenaLeader('brock', 'red-blue', [{'name': 'pikachu', 'level': 12, 'moves':['tackle']}])\n",
    "def produceArenaLeader(name, generation, pokemonTeam):\n",
    "    pokemon = []\n",
    "    for poke in pokemonTeam:\n",
    "        producedPoke = producePokemonWithCustomMoves(poke['name'],generation,poke['moves'])\n",
    "        pokemon.append((producedPoke, poke['level']))\n",
    "    \n",
    "    leader = ArenaLeader(name, pokemon)\n",
    "    return leader"
   ]
  }
 ],
 "metadata": {
  "kernelspec": {
   "display_name": "Python 3.8.8 64-bit ('base': conda)",
   "language": "python",
   "name": "python388jvsc74a57bd045d6d7d53af0fd0bf88c7a08674bcc9ed373bd0cf6f76311c6d74ca621b7f474"
  },
  "language_info": {
   "codemirror_mode": {
    "name": "ipython",
    "version": 3
   },
   "file_extension": ".py",
   "mimetype": "text/x-python",
   "name": "python",
   "nbconvert_exporter": "python",
   "pygments_lexer": "ipython3",
   "version": "3.8.8"
  }
 },
 "nbformat": 4,
 "nbformat_minor": 5
}
