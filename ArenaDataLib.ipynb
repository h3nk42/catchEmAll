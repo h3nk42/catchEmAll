{
 "cells": [
  {
   "cell_type": "code",
   "execution_count": 3,
   "id": "43f3e41e",
   "metadata": {
    "scrolled": true
   },
   "outputs": [],
   "source": [
    "%run ./PokemonLib.ipynb"
   ]
  },
  {
   "cell_type": "code",
   "execution_count": 4,
   "id": "e629b0cc",
   "metadata": {},
   "outputs": [],
   "source": [
    "def gatherDataForArena(locations, game, generation, starters, leaderData):\n",
    "    areas = produceAreaForLocations(locations)\n",
    "    addEncounterablePokemonsToAreas(areas)\n",
    "    \n",
    "    catchablePokemons = producePokemonForAreas(areas, generation)\n",
    "    producePokemonFromStarters(starters, catchablePokemons, generation)\n",
    "    \n",
    "    arenaLeader = produceArenaLeader(leaderData[0], generation, leaderData[1])\n",
    "\n",
    "    return {'areas': areas, 'catchablePokemons': catchablePokemons, 'arenaLeader': arenaLeader}"
   ]
  },
  {
   "cell_type": "code",
   "execution_count": 5,
   "id": "0b8cddda",
   "metadata": {},
   "outputs": [],
   "source": [
    "def producePokemonFromStarters(starters, pokemonSet, generation):\n",
    "     for name in starters:\n",
    "        if not name in pokemonSet:\n",
    "            pokemonSet[name] = producePokemon(name,generation)"
   ]
  },
  {
   "cell_type": "code",
   "execution_count": 6,
   "id": "8e094c2c",
   "metadata": {},
   "outputs": [],
   "source": [
    "def produceAreaForLocation(location, steps):\n",
    "    areaTemp = fetchAreaToLocation(location)\n",
    "    area = Area(areaTemp['name'], 0.2, areaTemp, steps )\n",
    "    return area"
   ]
  },
  {
   "cell_type": "code",
   "execution_count": 7,
   "id": "9261dd7f",
   "metadata": {},
   "outputs": [],
   "source": [
    "def produceAreaForLocations(locations):\n",
    "    areas = []\n",
    "    for location in locations:\n",
    "        locationName = location['name']\n",
    "        steps = location['steps']\n",
    "        areas.append(produceAreaForLocation(locationName, steps))\n",
    "    return areas"
   ]
  },
  {
   "cell_type": "code",
   "execution_count": 8,
   "id": "1aa2c184",
   "metadata": {},
   "outputs": [],
   "source": [
    "def addEncounterablePokemonsToArea(area):\n",
    "     area.encounterablePokemons = returnPokemonAndChanceFromArea(area.json ,[GAME])"
   ]
  },
  {
   "cell_type": "code",
   "execution_count": 9,
   "id": "34f4bf3f",
   "metadata": {},
   "outputs": [],
   "source": [
    "def addEncounterablePokemonsToAreas(areas):\n",
    "    for area in areas:\n",
    "        addEncounterablePokemonsToArea(area)\n",
    "        area.calculateAverageEncounters()"
   ]
  },
  {
   "cell_type": "code",
   "execution_count": 10,
   "id": "09013a34",
   "metadata": {},
   "outputs": [],
   "source": [
    "def producePokemonForArea(area, pokemonSet, generation):\n",
    "    for pokemon in area.encounterablePokemons:\n",
    "        name = pokemon[0]\n",
    "        if not name in pokemonSet:\n",
    "            pokemonSet[name] = producePokemon(name, generation)"
   ]
  },
  {
   "cell_type": "code",
   "execution_count": 11,
   "id": "94e82f8d",
   "metadata": {},
   "outputs": [],
   "source": [
    "def producePokemonForAreas(areas, generation):\n",
    "    pokemonSet = {}\n",
    "    for area in areas:\n",
    "        producePokemonForArea(area, pokemonSet, generation)\n",
    "    return pokemonSet"
   ]
  },
  {
   "cell_type": "code",
   "execution_count": 12,
   "id": "b0365773",
   "metadata": {},
   "outputs": [],
   "source": [
    "def producePokemon(name, generation):\n",
    "    moves = fetchPokemonMoves(name, generation)\n",
    "    pokemonInstance = Pokemon(name, moves)\n",
    "    return pokemonInstance"
   ]
  },
  {
   "cell_type": "code",
   "execution_count": 13,
   "id": "51b3a7ba",
   "metadata": {},
   "outputs": [],
   "source": [
    "def producePokemonWithCustomMoves(name, generation, customMoves):\n",
    "    moves = []\n",
    "    for move in customMoves:\n",
    "        moves.append(produceMove(move))\n",
    "    pokemonInstance = Pokemon(name, moves)\n",
    "    return pokemonInstance"
   ]
  },
  {
   "cell_type": "code",
   "execution_count": 14,
   "id": "5f0b5f5e",
   "metadata": {},
   "outputs": [],
   "source": [
    "#pokemonTeam = [{name: 'pikachu', level: 12, moves:['tackle']}]\n",
    "#produceArenaLeader('brock', 'red-blue', [{'name': 'pikachu', 'level': 12, 'moves':['tackle']}])\n",
    "def produceArenaLeader(name, generation, pokemonTeam):\n",
    "    pokemon = []\n",
    "    for poke in pokemonTeam:\n",
    "        producedPoke = producePokemonWithCustomMoves(poke['name'],generation,poke['moves'])\n",
    "        pokemon.append((producedPoke, poke['level']))\n",
    "    \n",
    "    leader = ArenaLeader(name, pokemon)\n",
    "    return leader"
   ]
  }
 ],
 "metadata": {
  "kernelspec": {
   "display_name": "Python 3.8.8 64-bit ('base': conda)",
   "language": "python",
   "name": "python388jvsc74a57bd045d6d7d53af0fd0bf88c7a08674bcc9ed373bd0cf6f76311c6d74ca621b7f474"
  },
  "language_info": {
   "codemirror_mode": {
    "name": "ipython",
    "version": 3
   },
   "file_extension": ".py",
   "mimetype": "text/x-python",
   "name": "python",
   "nbconvert_exporter": "python",
   "pygments_lexer": "ipython3",
   "version": "3.8.8"
  }
 },
 "nbformat": 4,
 "nbformat_minor": 5
}
