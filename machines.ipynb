{
 "cells": [
  {
   "cell_type": "code",
   "execution_count": 1,
   "id": "0050c798-50d1-4b67-84b3-bfc96408d44c",
   "metadata": {
    "tags": []
   },
   "outputs": [
    {
     "name": "stdout",
     "output_type": "stream",
     "text": [
      "CPU times: user 4 µs, sys: 0 ns, total: 4 µs\n",
      "Wall time: 5.01 µs\n",
      "CPU times: user 4 µs, sys: 0 ns, total: 4 µs\n",
      "Wall time: 6.2 µs\n",
      "CPU times: user 4 µs, sys: 1e+03 ns, total: 5 µs\n",
      "Wall time: 4.77 µs\n",
      "CPU times: user 4 µs, sys: 0 ns, total: 4 µs\n",
      "Wall time: 5.01 µs\n",
      "CPU times: user 4 µs, sys: 0 ns, total: 4 µs\n",
      "Wall time: 5.01 µs\n",
      "CPU times: user 5 µs, sys: 0 ns, total: 5 µs\n",
      "Wall time: 5.96 µs\n",
      "CPU times: user 4 µs, sys: 0 ns, total: 4 µs\n",
      "Wall time: 5.25 µs\n",
      "CPU times: user 3 µs, sys: 0 ns, total: 3 µs\n",
      "Wall time: 5.25 µs\n",
      "CPU times: user 11 µs, sys: 0 ns, total: 11 µs\n",
      "Wall time: 13.1 µs\n"
     ]
    }
   ],
   "source": [
    "%run ./apiMethods.ipynb\n",
    "%run ./arenaCrawlers.ipynb"
   ]
  },
  {
   "cell_type": "code",
   "execution_count": 2,
   "id": "0e4e81ec-0fdf-45b7-8807-c67a2bd18680",
   "metadata": {},
   "outputs": [],
   "source": [
    "def createAllTMsJSONandId(allTms):\n",
    "    allTmJsonsWithid = []\n",
    "    for machine in allTms:\n",
    "        index = ((int(machine)-1)*18) + 1\n",
    "        allTmJsonsWithid.append((requestMachine(index), machine))\n",
    "    return allTmJsonsWithid\n"
   ]
  },
  {
   "cell_type": "code",
   "execution_count": 3,
   "id": "6095401c-28ff-4215-95c6-8487f0ffa067",
   "metadata": {},
   "outputs": [],
   "source": [
    "def createAllMoveJSONfromTMJSON(allTmJson):\n",
    "    allMovesByTmJsons = []\n",
    "    for tmJson in allTmJson:\n",
    "        allMovesByTmJsons.append( (requestMove(tmJson[0]['move']['name']), tmJson[1] ) )\n",
    "    return allMovesByTmJsons"
   ]
  },
  {
   "cell_type": "code",
   "execution_count": 8,
   "id": "c3d9bca9-b6fd-49d5-bbd3-509c319f2a9d",
   "metadata": {
    "tags": []
   },
   "outputs": [],
   "source": [
    "def createIdToMoveNameAndAllowedPokemon(allMoveJsonAndId, encounterablePokemonTable):\n",
    "    idObject = {}\n",
    "    for moveJson in allMoveJsonAndId:\n",
    "        tmId = moveJson[1]\n",
    "        moveJson = moveJson[0]\n",
    "        moveName = moveJson['name']\n",
    "        allowedPoke = []\n",
    "        for pokemon in moveJson['learned_by_pokemon']:\n",
    "            name = pokemon['name']\n",
    "            if(encounterablePokemonTable.name.str.contains(name).any()):\n",
    "                allowedPoke.append(name)\n",
    "        idObject[tmId] = {\"name\":moveName,'allowedPoke':allowedPoke} \n",
    "    return idObject\n",
    "                 #  pokemonToTM[name].append(moveName)"
   ]
  },
  {
   "cell_type": "code",
   "execution_count": 5,
   "id": "23c46d87-5ac2-41c9-a59c-3c83242c5d96",
   "metadata": {
    "tags": []
   },
   "outputs": [],
   "source": [
    "def appendTmMovesToMovesOfInterestCSV(moveJsonsWithId, moveTable):\n",
    "    movesToAppend = []\n",
    "    movesOfInterestColumNames = ['name', 'moveType', 'damageClass', 'power', 'pp', 'priority', 'accuracy']\n",
    "    \n",
    "    for moveJsonWithId in moveJsonsWithId:\n",
    "        moveJson = moveJsonWithId[0]\n",
    "        name = moveJson['name']\n",
    "        if name not in moveTable.name:\n",
    "            # extracts moves data to CSV format\n",
    "            moveObject = produceMoveWithoutFetch(moveJson)\n",
    "            moveCSVformat = [moveObject['name'],moveObject['moveType'],moveObject['damageClass'],moveObject['power'],moveObject['pp'],moveObject['priority'],moveObject['accuracy']]\n",
    "            moveTable = moveTable.append({'name':moveObject['name'], 'moveType':moveObject['moveType'],'damageClass': moveObject['damageClass'],'power': moveObject['power'],'pp': moveObject['pp'], 'priority':moveObject['priority'],'accuracy':moveObject['accuracy']},ignore_index=True)\n",
    "    return moveTable\n",
    "            # ----- #\n",
    "    #TODO WRITE table ToFile \n",
    "    #index=False"
   ]
  },
  {
   "cell_type": "code",
   "execution_count": 9,
   "id": "e4f381bb-1d23-48de-9f02-9735caf7f3cf",
   "metadata": {
    "collapsed": true,
    "jupyter": {
     "outputs_hidden": true
    },
    "tags": []
   },
   "outputs": [
    {
     "name": "stdout",
     "output_type": "stream",
     "text": [
      "ARENA  9\n",
      "           name moveType damageClass power  pp  priority accuracy\n",
      "186   metronome   normal      status  None  10         0     None\n",
      "187  fire-blast     fire     special   110   5         0       85\n",
      "188     fissure   ground    physical  None   5         0       30\n",
      "189  sky-attack   flying    physical   140   5         0       90\n",
      "190   explosion   normal    physical   250   5         0      100\n"
     ]
    }
   ],
   "source": [
    "#allTmJson = createAllTMsJSONandId(POSSIBLE_TM_ARENA9)\n",
    "#allMoveJson = createAllMoveJSONfromTMJSON(allTmJson)\n",
    "\n",
    "# remove -1 wenn arena 9 gecrawled\n",
    "for i in range(8, len(machineArrays) ):\n",
    "    arrayIndex = i\n",
    "    arenaIndex = i+1\n",
    "    print('ARENA ' , arenaIndex)\n",
    "    pathMoves = f'Data/red/arena-{arenaIndex}/MovesOfInterest.csv'\n",
    "    pathPokemon = f'Data/red/arena-{arenaIndex}/EncounterablePokemon.csv'\n",
    "    movesOfInterestTable = pd.read_csv(pathMoves)\n",
    "    movesOfInterestTable.drop(columns=movesOfInterestTable.columns[0], axis=1, inplace=True)\n",
    "    movesOfInterestTable = appendTmMovesToMovesOfInterestCSV(allMoveJson, movesOfInterestTable)\n",
    "    appendTmMovesToMovesOfInterestCSV(allMoveJson, movesOfInterestTable)\n",
    "    print(movesOfInterestTable.tail())\n",
    "    \n",
    "    encounterablePokemonTable = pd.read_csv(pathPokemon)    \n",
    "    \n",
    "    pokeToNewMoves = {}\n",
    "    tmIdToMoveAndAllowedPoke = createIdToMoveNameAndAllowedPokemon(allMoveJson, encounterablePokemonTable)\n",
    "    for tmId in machineArrays[arrayIndex]:\n",
    "        tmIdNumber = tmId\n",
    "        allowedPoke = tmIdToMoveAndAllowedPoke[tmIdNumber]['allowedPoke']\n",
    "        moveName = tmIdToMoveAndAllowedPoke[tmIdNumber]['name']\n",
    "        for pokeName in tmIdToMoveAndAllowedPoke[tmIdNumber]['allowedPoke']:\n",
    "            if pokeName in pokeToNewMoves.keys():\n",
    "                pokeToNewMoves[pokeName].append(moveName)\n",
    "            else:\n",
    "                 pokeToNewMoves[pokeName] = [moveName]\n",
    "    newMoveArrays = []\n",
    "    for name in encounterablePokemonTable.name:\n",
    "        if name in pokeToNewMoves.keys():\n",
    "            newMoveArrays.append(pokeToNewMoves[name])\n",
    "        else:\n",
    "            newMoveArrays.append([])\n",
    "    encounterablePokemonTable['movesByTM'] = newMoveArrays\n",
    "    \n",
    "    \n",
    "    encounterablePokemonTable.to_csv(pathPokemon,index=False) \n",
    "    movesOfInterestTable.to_csv(pathMoves,index=False) \n"
   ]
  },
  {
   "cell_type": "code",
   "execution_count": 275,
   "id": "ab51538f-69fb-4e22-99ea-c3c7bc512c6f",
   "metadata": {
    "tags": []
   },
   "outputs": [],
   "source": [
    "idToMoveAndPokemon = createIdToMoveNameAndAllowedPokemon(allMoveJson, 1)"
   ]
  },
  {
   "cell_type": "code",
   "execution_count": 11,
   "id": "ce6985e3-9f1f-472d-916c-06336277e536",
   "metadata": {},
   "outputs": [],
   "source": [
    "def writeTMtoCSV(game):\n",
    "    #allTmJson = createAllTMsJSONandId(POSSIBLE_TM_ARENA9)\n",
    "    #allMoveJson = createAllMoveJSONfromTMJSON(allTmJson)\n",
    "\n",
    "    for i in range(0, len(machineArrays) ):\n",
    "        arrayIndex = i\n",
    "        arenaIndex = i+1\n",
    "        print('ARENA ' , arenaIndex)\n",
    "        pathMoves = f'Data/{game}/arena-{arenaIndex}/MovesOfInterest.csv'\n",
    "        pathPokemon = f'Data/{game}/arena-{arenaIndex}/EncounterablePokemon.csv'\n",
    "        movesOfInterestTable = pd.read_csv(pathMoves)\n",
    "        movesOfInterestTable.drop(columns=movesOfInterestTable.columns[0], axis=1, inplace=True)\n",
    "        movesOfInterestTable = appendTmMovesToMovesOfInterestCSV(allMoveJson, movesOfInterestTable)\n",
    "        appendTmMovesToMovesOfInterestCSV(allMoveJson, movesOfInterestTable)\n",
    "        print(movesOfInterestTable.tail())\n",
    "        \n",
    "        encounterablePokemonTable = pd.read_csv(pathPokemon)    \n",
    "        \n",
    "        pokeToNewMoves = {}\n",
    "        tmIdToMoveAndAllowedPoke = createIdToMoveNameAndAllowedPokemon(allMoveJson, encounterablePokemonTable)\n",
    "        for tmId in machineArrays[arrayIndex]:\n",
    "            tmIdNumber = tmId\n",
    "            allowedPoke = tmIdToMoveAndAllowedPoke[tmIdNumber]['allowedPoke']\n",
    "            moveName = tmIdToMoveAndAllowedPoke[tmIdNumber]['name']\n",
    "            for pokeName in tmIdToMoveAndAllowedPoke[tmIdNumber]['allowedPoke']:\n",
    "                if pokeName in pokeToNewMoves.keys():\n",
    "                    pokeToNewMoves[pokeName].append(moveName)\n",
    "                else:\n",
    "                     pokeToNewMoves[pokeName] = [moveName]\n",
    "        newMoveArrays = []\n",
    "        for name in encounterablePokemonTable.name:\n",
    "            if name in pokeToNewMoves.keys():\n",
    "                newMoveArrays.append(pokeToNewMoves[name])\n",
    "            else:\n",
    "                newMoveArrays.append([])\n",
    "        encounterablePokemonTable['movesByTM'] = newMoveArrays\n",
    "        \n",
    "        \n",
    "        encounterablePokemonTable.to_csv(pathPokemon,index=False) \n",
    "        movesOfInterestTable.to_csv(pathMoves,index=False) "
   ]
  },
  {
   "cell_type": "code",
   "execution_count": 12,
   "id": "292e922d-5439-469a-82c8-47bb54a2f885",
   "metadata": {},
   "outputs": [
    {
     "name": "stdout",
     "output_type": "stream",
     "text": [
      "ARENA  1\n",
      "           name moveType damageClass power  pp  priority accuracy\n",
      "104   metronome   normal      status  None  10         0     None\n",
      "105  fire-blast     fire     special   110   5         0       85\n",
      "106     fissure   ground    physical  None   5         0       30\n",
      "107  sky-attack   flying    physical   140   5         0       90\n",
      "108   explosion   normal    physical   250   5         0      100\n",
      "ARENA  2\n",
      "           name moveType damageClass power  pp  priority accuracy\n",
      "137   metronome   normal      status  None  10         0     None\n",
      "138  fire-blast     fire     special   110   5         0       85\n",
      "139     fissure   ground    physical  None   5         0       30\n",
      "140  sky-attack   flying    physical   140   5         0       90\n",
      "141   explosion   normal    physical   250   5         0      100\n",
      "ARENA  3\n",
      "           name moveType damageClass power  pp  priority accuracy\n",
      "143   metronome   normal      status  None  10         0     None\n",
      "144  fire-blast     fire     special   110   5         0       85\n",
      "145     fissure   ground    physical  None   5         0       30\n",
      "146  sky-attack   flying    physical   140   5         0       90\n",
      "147   explosion   normal    physical   250   5         0      100\n",
      "ARENA  4\n",
      "           name moveType damageClass power  pp  priority accuracy\n",
      "163   metronome   normal      status  None  10         0     None\n",
      "164  fire-blast     fire     special   110   5         0       85\n",
      "165     fissure   ground    physical  None   5         0       30\n",
      "166  sky-attack   flying    physical   140   5         0       90\n",
      "167   explosion   normal    physical   250   5         0      100\n",
      "ARENA  5\n",
      "           name moveType damageClass power  pp  priority accuracy\n",
      "177   metronome   normal      status  None  10         0     None\n",
      "178  fire-blast     fire     special   110   5         0       85\n",
      "179     fissure   ground    physical  None   5         0       30\n",
      "180  sky-attack   flying    physical   140   5         0       90\n",
      "181   explosion   normal    physical   250   5         0      100\n",
      "ARENA  6\n",
      "           name moveType damageClass power  pp  priority accuracy\n",
      "175   metronome   normal      status  None  10         0     None\n",
      "176  fire-blast     fire     special   110   5         0       85\n",
      "177     fissure   ground    physical  None   5         0       30\n",
      "178  sky-attack   flying    physical   140   5         0       90\n",
      "179   explosion   normal    physical   250   5         0      100\n",
      "ARENA  7\n",
      "           name moveType damageClass power  pp  priority accuracy\n",
      "175   metronome   normal      status  None  10         0     None\n",
      "176  fire-blast     fire     special   110   5         0       85\n",
      "177     fissure   ground    physical  None   5         0       30\n",
      "178  sky-attack   flying    physical   140   5         0       90\n",
      "179   explosion   normal    physical   250   5         0      100\n",
      "ARENA  8\n",
      "           name moveType damageClass power  pp  priority accuracy\n",
      "175   metronome   normal      status  None  10         0     None\n",
      "176  fire-blast     fire     special   110   5         0       85\n",
      "177     fissure   ground    physical  None   5         0       30\n",
      "178  sky-attack   flying    physical   140   5         0       90\n",
      "179   explosion   normal    physical   250   5         0      100\n",
      "ARENA  9\n",
      "           name moveType damageClass power  pp  priority accuracy\n",
      "185   metronome   normal      status  None  10         0     None\n",
      "186  fire-blast     fire     special   110   5         0       85\n",
      "187     fissure   ground    physical  None   5         0       30\n",
      "188  sky-attack   flying    physical   140   5         0       90\n",
      "189   explosion   normal    physical   250   5         0      100\n"
     ]
    }
   ],
   "source": [
    "writeTMtoCSV('blue')"
   ]
  },
  {
   "cell_type": "code",
   "execution_count": null,
   "id": "0003cc24-0a62-43e6-90e1-806a0f444a96",
   "metadata": {},
   "outputs": [],
   "source": []
  }
 ],
 "metadata": {
  "kernelspec": {
   "display_name": "Python 3.8.8 64-bit ('base': conda)",
   "language": "python",
   "name": "python388jvsc74a57bd045d6d7d53af0fd0bf88c7a08674bcc9ed373bd0cf6f76311c6d74ca621b7f474"
  },
  "language_info": {
   "codemirror_mode": {
    "name": "ipython",
    "version": 3
   },
   "file_extension": ".py",
   "mimetype": "text/x-python",
   "name": "python",
   "nbconvert_exporter": "python",
   "pygments_lexer": "ipython3",
   "version": "3.8.8"
  }
 },
 "nbformat": 4,
 "nbformat_minor": 5
}
