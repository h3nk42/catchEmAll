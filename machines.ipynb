{
 "cells": [
  {
   "cell_type": "code",
   "execution_count": 13,
   "id": "0050c798-50d1-4b67-84b3-bfc96408d44c",
   "metadata": {
    "tags": []
   },
   "outputs": [],
   "source": [
    "%run ./apiMethods.ipynb\n",
    "%run ./arenaCrawlers.ipynb"
   ]
  },
  {
   "cell_type": "code",
   "execution_count": 14,
   "id": "0e4e81ec-0fdf-45b7-8807-c67a2bd18680",
   "metadata": {
    "tags": []
   },
   "outputs": [],
   "source": [
    "def createAllTMsJSONandId(allTms):\n",
    "    allTmJsonsWithid = []\n",
    "    for machine in allTms:\n",
    "        index = ((int(machine)-1)*18) + 1\n",
    "        allTmJsonsWithid.append((requestMachine(index), machine))\n",
    "    return allTmJsonsWithid\n"
   ]
  },
  {
   "cell_type": "code",
   "execution_count": 15,
   "id": "6095401c-28ff-4215-95c6-8487f0ffa067",
   "metadata": {},
   "outputs": [],
   "source": [
    "def createAllMoveJSONfromTMJSON(allTmJson):\n",
    "    allMovesByTmJsons = []\n",
    "    for tmJson in allTmJson:\n",
    "        allMovesByTmJsons.append((requestMove(tmJson[0]['move']['name']), tmJson[1] ) )\n",
    "    return allMovesByTmJsons"
   ]
  },
  {
   "cell_type": "code",
   "execution_count": 16,
   "id": "c3d9bca9-b6fd-49d5-bbd3-509c319f2a9d",
   "metadata": {
    "tags": []
   },
   "outputs": [],
   "source": [
    "def createIdToMoveNameAndAllowedPokemon(allMoveJsonAndId, encounterablePokemonTable):\n",
    "    idObject = {}\n",
    "    for moveJson in allMoveJsonAndId:\n",
    "        tmId = moveJson[1]\n",
    "        moveJson = moveJson[0]\n",
    "        moveName = moveJson['name']\n",
    "        allowedPoke = []\n",
    "        for pokemon in moveJson['learned_by_pokemon']:\n",
    "            name = pokemon['name']\n",
    "            if(encounterablePokemonTable.name.str.contains(name).any()):\n",
    "                allowedPoke.append(name)\n",
    "        idObject[tmId] = {\"name\":moveName,'allowedPoke':allowedPoke} \n",
    "    return idObject\n",
    "                 #  pokemonToTM[name].append(moveName)"
   ]
  },
  {
   "cell_type": "code",
   "execution_count": 17,
   "id": "23c46d87-5ac2-41c9-a59c-3c83242c5d96",
   "metadata": {
    "tags": []
   },
   "outputs": [],
   "source": [
    "def appendTmMovesToMovesOfInterestCSV(moveJsonsWithId, moveTable):\n",
    "    movesToAppend = []\n",
    "    movesOfInterestColumNames = ['name', 'moveType', 'damageClass', 'power', 'pp', 'priority', 'accuracy']\n",
    "    \n",
    "    for moveJsonWithId in moveJsonsWithId:\n",
    "        moveJson = moveJsonWithId[0]\n",
    "        name = moveJson['name']\n",
    "        if name not in moveTable.name:\n",
    "            # extracts moves data to CSV format\n",
    "            moveObject = produceMoveWithoutFetch(moveJson)\n",
    "            moveCSVformat = [moveObject['name'],moveObject['moveType'],moveObject['damageClass'],moveObject['power'],moveObject['pp'],moveObject['priority'],moveObject['accuracy']]\n",
    "            moveTable = moveTable.append({'name':moveObject['name'], 'moveType':moveObject['moveType'],'damageClass': moveObject['damageClass'],'power': moveObject['power'],'pp': moveObject['pp'], 'priority':moveObject['priority'],'accuracy':moveObject['accuracy']},ignore_index=True)\n",
    "    return moveTable\n",
    "            # ----- #\n",
    "    #TODO WRITE table ToFile \n",
    "    #index=False"
   ]
  },
  {
   "cell_type": "code",
   "execution_count": 18,
   "id": "ce6985e3-9f1f-472d-916c-06336277e536",
   "metadata": {},
   "outputs": [],
   "source": [
    "def writeTMtoCSV(game):\n",
    "    #allTmJson = createAllTMsJSONandId(POSSIBLE_TM_ARENA9)\n",
    "    #allMoveJson = createAllMoveJSONfromTMJSON(allTmJson)\n",
    "\n",
    "    for i in range(0, len(machineArrays) ):\n",
    "        arrayIndex = i\n",
    "        arenaIndex = i+1\n",
    "        print('ARENA ' , arenaIndex)\n",
    "        pathMoves = f'Data/{game}/arena-{arenaIndex}/MovesOfInterest.csv'\n",
    "        pathPokemon = f'Data/{game}/arena-{arenaIndex}/EncounterablePokemon.csv'\n",
    "        movesOfInterestTable = pd.read_csv(pathMoves)\n",
    "        movesOfInterestTable.drop(columns=movesOfInterestTable.columns[0], axis=1, inplace=True)\n",
    "        movesOfInterestTable = appendTmMovesToMovesOfInterestCSV(allMoveJson, movesOfInterestTable)\n",
    "        appendTmMovesToMovesOfInterestCSV(allMoveJson, movesOfInterestTable)\n",
    "        print(movesOfInterestTable.tail())\n",
    "        \n",
    "        encounterablePokemonTable = pd.read_csv(pathPokemon)    \n",
    "        \n",
    "        pokeToNewMoves = {}\n",
    "        tmIdToMoveAndAllowedPoke = createIdToMoveNameAndAllowedPokemon(allMoveJson, encounterablePokemonTable)\n",
    "        for tmId in machineArrays[arrayIndex]:\n",
    "            tmIdNumber = tmId\n",
    "            allowedPoke = tmIdToMoveAndAllowedPoke[tmIdNumber]['allowedPoke']\n",
    "            moveName = tmIdToMoveAndAllowedPoke[tmIdNumber]['name']\n",
    "            for pokeName in tmIdToMoveAndAllowedPoke[tmIdNumber]['allowedPoke']:\n",
    "                if pokeName in pokeToNewMoves.keys():\n",
    "                    pokeToNewMoves[pokeName].append(moveName)\n",
    "                else:\n",
    "                     pokeToNewMoves[pokeName] = [moveName]\n",
    "        newMoveArrays = []\n",
    "        for name in encounterablePokemonTable.name:\n",
    "            if name in pokeToNewMoves.keys():\n",
    "                newMoveArrays.append(pokeToNewMoves[name])\n",
    "            else:\n",
    "                newMoveArrays.append([])\n",
    "        encounterablePokemonTable['movesByTM'] = newMoveArrays\n",
    "        \n",
    "        \n",
    "        encounterablePokemonTable.to_csv(pathPokemon,index=False) \n",
    "        movesOfInterestTable.to_csv(pathMoves,index=False) "
   ]
  },
  {
   "cell_type": "code",
   "execution_count": 20,
   "id": "36a2297e-e4a6-4a57-b6dc-49b09ca60438",
   "metadata": {},
   "outputs": [
    {
     "name": "stdout",
     "output_type": "stream",
     "text": [
      "1317\n",
      "1335\n",
      "1353\n",
      "1371\n"
     ]
    }
   ],
   "source": [
    " for number in range(1,5):\n",
    "    index = ((int(number)-1)*18) + 1 +1316\n",
    "    print(index)"
   ]
  },
  {
   "cell_type": "code",
   "execution_count": 28,
   "id": "e4054079-6502-4aff-9c62-649e58012a54",
   "metadata": {},
   "outputs": [],
   "source": [
    "def createAllVMsJSONandId(machines):\n",
    "    allVmJsonsWithid = []\n",
    "    for machine in machines:\n",
    "        index = ((int(machine)-1)*18) + 1 +1316\n",
    "        allVmJsonsWithid.append((requestMachine(index), machine))\n",
    "    return allVmJsonsWithid"
   ]
  },
  {
   "cell_type": "code",
   "execution_count": 29,
   "id": "f001b580-a50a-4f7b-b4ef-447213cad5e1",
   "metadata": {},
   "outputs": [],
   "source": [
    "vms = createAllVMsJSONandId([1,2,3,4,5])"
   ]
  },
  {
   "cell_type": "code",
   "execution_count": 30,
   "id": "6de78533-5c2c-4f42-baf4-d6b623c99c9e",
   "metadata": {},
   "outputs": [
    {
     "data": {
      "text/plain": [
       "[({'id': 1317,\n",
       "   'item': {'name': 'hm01', 'url': 'https://pokeapi.co/api/v2/item/397/'},\n",
       "   'move': {'name': 'cut', 'url': 'https://pokeapi.co/api/v2/move/15/'},\n",
       "   'version_group': {'name': 'red-blue',\n",
       "    'url': 'https://pokeapi.co/api/v2/version-group/1/'}},\n",
       "  1),\n",
       " ({'id': 1335,\n",
       "   'item': {'name': 'hm02', 'url': 'https://pokeapi.co/api/v2/item/398/'},\n",
       "   'move': {'name': 'fly', 'url': 'https://pokeapi.co/api/v2/move/19/'},\n",
       "   'version_group': {'name': 'red-blue',\n",
       "    'url': 'https://pokeapi.co/api/v2/version-group/1/'}},\n",
       "  2),\n",
       " ({'id': 1353,\n",
       "   'item': {'name': 'hm03', 'url': 'https://pokeapi.co/api/v2/item/399/'},\n",
       "   'move': {'name': 'surf', 'url': 'https://pokeapi.co/api/v2/move/57/'},\n",
       "   'version_group': {'name': 'red-blue',\n",
       "    'url': 'https://pokeapi.co/api/v2/version-group/1/'}},\n",
       "  3),\n",
       " ({'id': 1371,\n",
       "   'item': {'name': 'hm04', 'url': 'https://pokeapi.co/api/v2/item/400/'},\n",
       "   'move': {'name': 'strength', 'url': 'https://pokeapi.co/api/v2/move/70/'},\n",
       "   'version_group': {'name': 'red-blue',\n",
       "    'url': 'https://pokeapi.co/api/v2/version-group/1/'}},\n",
       "  4),\n",
       " ({'id': 1389,\n",
       "   'item': {'name': 'hm05', 'url': 'https://pokeapi.co/api/v2/item/401/'},\n",
       "   'move': {'name': 'flash', 'url': 'https://pokeapi.co/api/v2/move/148/'},\n",
       "   'version_group': {'name': 'red-blue',\n",
       "    'url': 'https://pokeapi.co/api/v2/version-group/1/'}},\n",
       "  5)]"
      ]
     },
     "execution_count": 30,
     "metadata": {},
     "output_type": "execute_result"
    }
   ],
   "source": [
    "vms"
   ]
  },
  {
   "cell_type": "code",
   "execution_count": 33,
   "id": "cd69722b-f356-4434-bd5e-5ba0a431a749",
   "metadata": {},
   "outputs": [
    {
     "data": {
      "text/plain": [
       "\"[{'name': 'gust', 'levelLearnedAt': 1}, {'name': 'sand-attack', 'levelLearnedAt': 5}, {'name': 'quick-attack', 'levelLearnedAt': 12}, {'name': 'whirlwind', 'levelLearnedAt': 19}, {'name': 'wing-attack', 'levelLearnedAt': 28}, {'name': 'agility', 'levelLearnedAt': 36}, {'name': 'mirror-move', 'levelLearnedAt': 44}]\""
      ]
     },
     "execution_count": 33,
     "metadata": {},
     "output_type": "execute_result"
    }
   ],
   "source": [
    "encounterablePokemonTable.moves[0]"
   ]
  },
  {
   "cell_type": "code",
   "execution_count": 35,
   "id": "5817119e-3d7a-4e9c-acd4-3185e6eef53d",
   "metadata": {},
   "outputs": [],
   "source": [
    "testMoves = encounterablePokemonTable.moves[0].replace(\"'\",\"\\\"\")"
   ]
  },
  {
   "cell_type": "code",
   "execution_count": 36,
   "id": "c638963b-417f-4086-b00c-dedb178bca79",
   "metadata": {},
   "outputs": [
    {
     "data": {
      "text/plain": [
       "'[{\"name\": \"gust\", \"levelLearnedAt\": 1}, {\"name\": \"sand-attack\", \"levelLearnedAt\": 5}, {\"name\": \"quick-attack\", \"levelLearnedAt\": 12}, {\"name\": \"whirlwind\", \"levelLearnedAt\": 19}, {\"name\": \"wing-attack\", \"levelLearnedAt\": 28}, {\"name\": \"agility\", \"levelLearnedAt\": 36}, {\"name\": \"mirror-move\", \"levelLearnedAt\": 44}]'"
      ]
     },
     "execution_count": 36,
     "metadata": {},
     "output_type": "execute_result"
    }
   ],
   "source": [
    "testMoves"
   ]
  },
  {
   "cell_type": "code",
   "execution_count": 37,
   "id": "c610fe80-7b1b-4fd3-959b-9b54af536cf6",
   "metadata": {},
   "outputs": [],
   "source": [
    "test = json.loads(testMoves)"
   ]
  },
  {
   "cell_type": "code",
   "execution_count": 38,
   "id": "80dfde51-2a2f-4ff1-9ce9-90f944e16c2c",
   "metadata": {},
   "outputs": [
    {
     "data": {
      "text/plain": [
       "[{'name': 'gust', 'levelLearnedAt': 1},\n",
       " {'name': 'sand-attack', 'levelLearnedAt': 5},\n",
       " {'name': 'quick-attack', 'levelLearnedAt': 12},\n",
       " {'name': 'whirlwind', 'levelLearnedAt': 19},\n",
       " {'name': 'wing-attack', 'levelLearnedAt': 28},\n",
       " {'name': 'agility', 'levelLearnedAt': 36},\n",
       " {'name': 'mirror-move', 'levelLearnedAt': 44}]"
      ]
     },
     "execution_count": 38,
     "metadata": {},
     "output_type": "execute_result"
    }
   ],
   "source": [
    "test"
   ]
  },
  {
   "cell_type": "code",
   "execution_count": null,
   "id": "56703716-ccfe-4a0e-8097-d128d37eec7f",
   "metadata": {},
   "outputs": [],
   "source": []
  }
 ],
 "metadata": {
  "kernelspec": {
   "display_name": "Python 3.8.8 64-bit ('base': conda)",
   "language": "python",
   "name": "python388jvsc74a57bd045d6d7d53af0fd0bf88c7a08674bcc9ed373bd0cf6f76311c6d74ca621b7f474"
  },
  "language_info": {
   "codemirror_mode": {
    "name": "ipython",
    "version": 3
   },
   "file_extension": ".py",
   "mimetype": "text/x-python",
   "name": "python",
   "nbconvert_exporter": "python",
   "pygments_lexer": "ipython3",
   "version": "3.8.8"
  }
 },
 "nbformat": 4,
 "nbformat_minor": 5
}
