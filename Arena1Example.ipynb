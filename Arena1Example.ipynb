{
 "cells": [
  {
   "cell_type": "code",
   "execution_count": 25,
   "id": "98e5f48a",
   "metadata": {
    "scrolled": false
   },
   "outputs": [
    {
     "name": "stdout",
     "output_type": "stream",
     "text": [
      "POKETYPE.Normal\n"
     ]
    }
   ],
   "source": [
    "%run ./PokemonLib.ipynb\n",
    "\n",
    "print(POKETYPE.Normal)"
   ]
  },
  {
   "cell_type": "code",
   "execution_count": 26,
   "id": "b81d0d73",
   "metadata": {},
   "outputs": [
    {
     "name": "stdout",
     "output_type": "stream",
     "text": [
      "<Onix,\n",
      " lv:14,\n",
      " moves:[<POKETYPE.Normal: 'Normal'>, <POKETYPE.Normal: 'Normal'>, <POKETYPE.Normal: 'Normal'>],\n",
      " types:[<POKETYPE.Rock: 'Rock'>, <POKETYPE.Ground: 'Ground'>]\n",
      ">\n"
     ]
    }
   ],
   "source": [
    "# VERSION GROUP 1 - RED, BLUE\n",
    "# api source: /version-goup/1/\n",
    "\n",
    "# REGION - KANTO\n",
    "# api source: /region/1/\n",
    "\n",
    "# POKEMON GENERATION - i / 1\n",
    "# hier findet man zb auch die moeglichen moves (165 items)\n",
    "# api source: /generation/1/\n",
    "\n",
    "# STARTER POKEMON: \n",
    "starters = ['bulbasaur','charmander','squirtle']\n",
    "# pokemon/1, pokemon/4, pokemon/7\n",
    "\n",
    "# ARENALEITER: Brock\n",
    "# https://bulbapedia.bulbagarden.net/wiki/Brock\n",
    "brockPokemonTeam = [Pokemon('Geodude', 12, [POKETYPE.Normal, POKETYPE.Normal], [POKETYPE.Rock, POKETYPE.Ground])]\n",
    "brockPokemonTeam.append(Pokemon('Onix', 14, [POKETYPE.Normal, POKETYPE.Normal, POKETYPE.Normal], [POKETYPE.Rock, POKETYPE.Ground] ))\n",
    "locationsUntilArena1 = ['kanto-route-1', 'kanto-route-2', 'viridian-forest']\n",
    "\n",
    "print(brockPokemonTeam[1])"
   ]
  },
  {
   "cell_type": "code",
   "execution_count": null,
   "id": "5871298c",
   "metadata": {},
   "outputs": [],
   "source": [
    "# Examples: \n",
    "\n",
    "areas = fetchAreasToLocations(locationsUntilArena1)\n",
    "areaToEncounters = {}\n",
    "for area in areas:\n",
    "    areaToEncounters[area['name']] = returnPokemonEncountersFromArea(area,['red','blue'])\n",
    "print(areaToEncounters)\n",
    "#encounters = returnPokemonEncountersFromAreas(areas,['red','blue'])\n",
    "#for encounter in encounters:\n",
    "    #print(encounter['pokemon']['name'])"
   ]
  }
 ],
 "metadata": {
  "kernelspec": {
   "display_name": "Python 3.8.8 64-bit ('base': conda)",
   "language": "python",
   "name": "python388jvsc74a57bd045d6d7d53af0fd0bf88c7a08674bcc9ed373bd0cf6f76311c6d74ca621b7f474"
  },
  "language_info": {
   "codemirror_mode": {
    "name": "ipython",
    "version": 3
   },
   "file_extension": ".py",
   "mimetype": "text/x-python",
   "name": "python",
   "nbconvert_exporter": "python",
   "pygments_lexer": "ipython3",
   "version": "3.8.8"
  }
 },
 "nbformat": 4,
 "nbformat_minor": 5
}
